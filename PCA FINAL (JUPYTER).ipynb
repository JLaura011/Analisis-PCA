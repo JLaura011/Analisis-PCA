{
 "cells": [
  {
   "cell_type": "code",
   "execution_count": 1,
   "id": "eb83acc1",
   "metadata": {},
   "outputs": [
    {
     "name": "stderr",
     "output_type": "stream",
     "text": [
      "also installing the dependencies 'cli', 'glue', 'utf8', 'ellipsis', 'rematch', 'fansi', 'lifecycle', 'magrittr', 'pillar', 'pkgconfig', 'rlang', 'vctrs', 'hms', 'prettyunits', 'R6', 'cellranger', 'tibble', 'cpp11', 'progress'\n",
      "\n"
     ]
    },
    {
     "name": "stdout",
     "output_type": "stream",
     "text": [
      "\n",
      "  There are binary versions available but the source versions are later:\n",
      "          binary source needs_compilation\n",
      "cli        2.5.0  3.4.1              TRUE\n",
      "glue       1.4.2  1.6.2              TRUE\n",
      "utf8       1.2.1  1.2.2              TRUE\n",
      "fansi      0.4.2  1.0.3              TRUE\n",
      "lifecycle  1.0.0  1.0.3             FALSE\n",
      "magrittr   2.0.1  2.0.3              TRUE\n",
      "pillar     1.6.0  1.8.1             FALSE\n",
      "rlang     0.4.11  1.0.6              TRUE\n",
      "vctrs      0.3.8  0.5.0              TRUE\n",
      "hms        1.0.0  1.1.2             FALSE\n",
      "R6         2.5.0  2.5.1             FALSE\n",
      "tibble     3.1.1  3.1.8              TRUE\n",
      "cpp11      0.2.7  0.4.3             FALSE\n",
      "readxl     1.3.1  1.4.1              TRUE\n",
      "\n",
      "  Binaries will be installed\n",
      "package 'cli' successfully unpacked and MD5 sums checked\n",
      "package 'glue' successfully unpacked and MD5 sums checked\n",
      "package 'utf8' successfully unpacked and MD5 sums checked\n",
      "package 'ellipsis' successfully unpacked and MD5 sums checked\n",
      "package 'rematch' successfully unpacked and MD5 sums checked\n",
      "package 'fansi' successfully unpacked and MD5 sums checked\n",
      "package 'magrittr' successfully unpacked and MD5 sums checked\n",
      "package 'pkgconfig' successfully unpacked and MD5 sums checked\n",
      "package 'rlang' successfully unpacked and MD5 sums checked\n",
      "package 'vctrs' successfully unpacked and MD5 sums checked\n",
      "package 'prettyunits' successfully unpacked and MD5 sums checked\n",
      "package 'cellranger' successfully unpacked and MD5 sums checked\n",
      "package 'tibble' successfully unpacked and MD5 sums checked\n",
      "package 'progress' successfully unpacked and MD5 sums checked\n",
      "package 'readxl' successfully unpacked and MD5 sums checked\n",
      "\n",
      "The downloaded binary packages are in\n",
      "\tC:\\Users\\jlaur\\AppData\\Local\\Temp\\RtmpmqlatF\\downloaded_packages\n"
     ]
    },
    {
     "name": "stderr",
     "output_type": "stream",
     "text": [
      "installing the source packages 'lifecycle', 'pillar', 'hms', 'R6', 'cpp11'\n",
      "\n",
      "Warning message in install.packages(\"readxl\"):\n",
      "\"installation of package 'lifecycle' had non-zero exit status\"Warning message in install.packages(\"readxl\"):\n",
      "\"installation of package 'pillar' had non-zero exit status\"Warning message in install.packages(\"readxl\"):\n",
      "\"installation of package 'hms' had non-zero exit status\""
     ]
    }
   ],
   "source": [
    "install.packages(\"readxl\")"
   ]
  },
  {
   "cell_type": "code",
   "execution_count": 2,
   "id": "51f1315d",
   "metadata": {},
   "outputs": [
    {
     "name": "stderr",
     "output_type": "stream",
     "text": [
      "Warning message:\n",
      "\"package 'readxl' was built under R version 3.6.3\""
     ]
    }
   ],
   "source": [
    "library(readxl)"
   ]
  },
  {
   "cell_type": "code",
   "execution_count": 3,
   "id": "5cac5422",
   "metadata": {},
   "outputs": [],
   "source": [
    "setwd(\"C:/Users/jlaur/OneDrive/Documentos\")"
   ]
  },
  {
   "cell_type": "code",
   "execution_count": 8,
   "id": "96accabd",
   "metadata": {},
   "outputs": [],
   "source": [
    "data <- read.csv(\"DATABM.csv\", header = TRUE, sep = \";\")"
   ]
  },
  {
   "cell_type": "code",
   "execution_count": 9,
   "id": "59db53e2",
   "metadata": {},
   "outputs": [
    {
     "data": {
      "text/html": [
       "<table>\n",
       "<thead><tr><th scope=col>ï..Pais</th><th scope=col>Final.consumption.expenditure....of.GDP.</th><th scope=col>Homicidios.intencionales..por.cada.100.000.habitantes.</th><th scope=col>Desempleo..total....de.la.poblaciÃ³n.activa.total...estimaciÃ³n.modelado.OIT.</th><th scope=col>Ahorro.ajustado..gasto.en.educaciÃ³n..US..actuales.</th><th scope=col>Acceso.a.la.electricidad....de.poblaciÃ³n.</th><th scope=col>Tiempo.necesario.para.iniciar.un.negocio..dÃ.as.</th><th scope=col>Tasa.de.fertilidad..total..nacimientos.por.cada.mujer.</th><th scope=col>CrÃ.dito.interno.al.sector.privado.otorgado.por.los.bancos....del.PIB.</th></tr></thead>\n",
       "<tbody>\n",
       "\t<tr><td>Argentina           </td><td> 83.37647           </td><td> 6.033310           </td><td> 7.97               </td><td> 27576652846        </td><td> 99.95602           </td><td>24.5                </td><td>2.288               </td><td>13.22519            </td></tr>\n",
       "\t<tr><td>Bolivia             </td><td> 86.36766           </td><td> 6.218374           </td><td> 3.50               </td><td>  2025869999        </td><td> 91.80000           </td><td>45.0                </td><td>2.829               </td><td>57.40652            </td></tr>\n",
       "\t<tr><td>Brasil              </td><td> 84.63078           </td><td>29.877807           </td><td>11.60               </td><td>109562528771        </td><td> 99.70000           </td><td>82.5                </td><td>1.747               </td><td>62.16956            </td></tr>\n",
       "\t<tr><td>Chile               </td><td> 77.17885           </td><td> 3.360962           </td><td> 6.74               </td><td> 12391148419        </td><td>100.00000           </td><td> 7.5                </td><td>1.713               </td><td>79.66644            </td></tr>\n",
       "\t<tr><td>Colombia            </td><td> 83.60095           </td><td>25.743617           </td><td> 8.69               </td><td>  9819719488        </td><td> 98.40000           </td><td>11.0                </td><td>1.843               </td><td>47.03503            </td></tr>\n",
       "\t<tr><td>Costa Rica          </td><td> 80.76934           </td><td>11.797517           </td><td> 8.60               </td><td>  3897865404        </td><td> 99.50000           </td><td>22.5                </td><td>1.789               </td><td>57.83712            </td></tr>\n",
       "\t<tr><td>Ecuador             </td><td> 74.53272           </td><td> 5.839508           </td><td> 4.60               </td><td>  3856322934        </td><td> 98.70000           </td><td>48.5                </td><td>2.475               </td><td>28.73677            </td></tr>\n",
       "\t<tr><td>El Salvador         </td><td> 99.93440           </td><td>83.006392           </td><td> 4.42               </td><td>   860383453        </td><td> 96.00000           </td><td>16.5                </td><td>2.079               </td><td>48.73706            </td></tr>\n",
       "\t<tr><td>Guatemala           </td><td> 95.00459           </td><td>27.256699           </td><td> 2.58               </td><td>  1895243897        </td><td> 91.79523           </td><td>26.5                </td><td>2.973               </td><td>35.14384            </td></tr>\n",
       "\t<tr><td>Haiti               </td><td>107.09556           </td><td> 9.483416           </td><td>13.86               </td><td>   201286932        </td><td> 40.40000           </td><td>97.0                </td><td>3.041               </td><td>10.21026            </td></tr>\n",
       "\t<tr><td>Honduras            </td><td> 91.01038           </td><td>55.550797           </td><td> 6.73               </td><td>  1278619860        </td><td> 91.60000           </td><td>42.0                </td><td>2.536               </td><td>56.45055            </td></tr>\n",
       "\t<tr><td>Mexico              </td><td> 77.53263           </td><td>19.912695           </td><td> 3.86               </td><td> 51197664711        </td><td> 99.50000           </td><td> 8.4                </td><td>2.186               </td><td>25.90855            </td></tr>\n",
       "\t<tr><td>Nicaragua           </td><td> 84.84909           </td><td> 7.185948           </td><td> 3.90               </td><td>   518727267        </td><td> 84.74319           </td><td>14.0                </td><td>2.455               </td><td>36.69388            </td></tr>\n",
       "\t<tr><td>PanamÃ¡             </td><td> 62.96313           </td><td>10.032021           </td><td> 3.32               </td><td>  1505617932        </td><td> 93.17072           </td><td> 6.0                </td><td>2.514               </td><td>79.10008            </td></tr>\n",
       "\t<tr><td>Paraguay            </td><td> 73.65125           </td><td> 9.870346           </td><td> 5.26               </td><td>  1163111782        </td><td> 98.40000           </td><td>35.0                </td><td>2.479               </td><td>41.32981            </td></tr>\n",
       "\t<tr><td>Peru                </td><td> 78.16690           </td><td> 7.873625           </td><td> 3.38               </td><td>  5983858940        </td><td> 94.20000           </td><td>41.0                </td><td>2.297               </td><td>42.80881            </td></tr>\n",
       "\t<tr><td>Republica Dominicana</td><td> 80.79502           </td><td>15.541842           </td><td> 7.28               </td><td>  1825217542        </td><td> 98.90000           </td><td>18.5                </td><td>2.387               </td><td>25.62799            </td></tr>\n",
       "\t<tr><td>Uruguay             </td><td> 77.20982           </td><td> 7.826785           </td><td> 7.84               </td><td>  2404491962        </td><td> 99.70000           </td><td> 6.5                </td><td>1.991               </td><td>25.75718            </td></tr>\n",
       "</tbody>\n",
       "</table>\n"
      ],
      "text/latex": [
       "\\begin{tabular}{r|lllllllll}\n",
       " ï..Pais & Final.consumption.expenditure....of.GDP. & Homicidios.intencionales..por.cada.100.000.habitantes. & Desempleo..total....de.la.poblaciÃ³n.activa.total...estimaciÃ³n.modelado.OIT. & Ahorro.ajustado..gasto.en.educaciÃ³n..US..actuales. & Acceso.a.la.electricidad....de.poblaciÃ³n. & Tiempo.necesario.para.iniciar.un.negocio..dÃ.as. & Tasa.de.fertilidad..total..nacimientos.por.cada.mujer. & CrÃ.dito.interno.al.sector.privado.otorgado.por.los.bancos....del.PIB.\\\\\n",
       "\\hline\n",
       "\t Argentina            &  83.37647            &  6.033310            &  7.97                &  27576652846         &  99.95602            & 24.5                 & 2.288                & 13.22519            \\\\\n",
       "\t Bolivia              &  86.36766            &  6.218374            &  3.50                &   2025869999         &  91.80000            & 45.0                 & 2.829                & 57.40652            \\\\\n",
       "\t Brasil               &  84.63078            & 29.877807            & 11.60                & 109562528771         &  99.70000            & 82.5                 & 1.747                & 62.16956            \\\\\n",
       "\t Chile                &  77.17885            &  3.360962            &  6.74                &  12391148419         & 100.00000            &  7.5                 & 1.713                & 79.66644            \\\\\n",
       "\t Colombia             &  83.60095            & 25.743617            &  8.69                &   9819719488         &  98.40000            & 11.0                 & 1.843                & 47.03503            \\\\\n",
       "\t Costa Rica           &  80.76934            & 11.797517            &  8.60                &   3897865404         &  99.50000            & 22.5                 & 1.789                & 57.83712            \\\\\n",
       "\t Ecuador              &  74.53272            &  5.839508            &  4.60                &   3856322934         &  98.70000            & 48.5                 & 2.475                & 28.73677            \\\\\n",
       "\t El Salvador          &  99.93440            & 83.006392            &  4.42                &    860383453         &  96.00000            & 16.5                 & 2.079                & 48.73706            \\\\\n",
       "\t Guatemala            &  95.00459            & 27.256699            &  2.58                &   1895243897         &  91.79523            & 26.5                 & 2.973                & 35.14384            \\\\\n",
       "\t Haiti                & 107.09556            &  9.483416            & 13.86                &    201286932         &  40.40000            & 97.0                 & 3.041                & 10.21026            \\\\\n",
       "\t Honduras             &  91.01038            & 55.550797            &  6.73                &   1278619860         &  91.60000            & 42.0                 & 2.536                & 56.45055            \\\\\n",
       "\t Mexico               &  77.53263            & 19.912695            &  3.86                &  51197664711         &  99.50000            &  8.4                 & 2.186                & 25.90855            \\\\\n",
       "\t Nicaragua            &  84.84909            &  7.185948            &  3.90                &    518727267         &  84.74319            & 14.0                 & 2.455                & 36.69388            \\\\\n",
       "\t PanamÃ¡              &  62.96313            & 10.032021            &  3.32                &   1505617932         &  93.17072            &  6.0                 & 2.514                & 79.10008            \\\\\n",
       "\t Paraguay             &  73.65125            &  9.870346            &  5.26                &   1163111782         &  98.40000            & 35.0                 & 2.479                & 41.32981            \\\\\n",
       "\t Peru                 &  78.16690            &  7.873625            &  3.38                &   5983858940         &  94.20000            & 41.0                 & 2.297                & 42.80881            \\\\\n",
       "\t Republica Dominicana &  80.79502            & 15.541842            &  7.28                &   1825217542         &  98.90000            & 18.5                 & 2.387                & 25.62799            \\\\\n",
       "\t Uruguay              &  77.20982            &  7.826785            &  7.84                &   2404491962         &  99.70000            &  6.5                 & 1.991                & 25.75718            \\\\\n",
       "\\end{tabular}\n"
      ],
      "text/markdown": [
       "\n",
       "| ï..Pais | Final.consumption.expenditure....of.GDP. | Homicidios.intencionales..por.cada.100.000.habitantes. | Desempleo..total....de.la.poblaciÃ³n.activa.total...estimaciÃ³n.modelado.OIT. | Ahorro.ajustado..gasto.en.educaciÃ³n..US..actuales. | Acceso.a.la.electricidad....de.poblaciÃ³n. | Tiempo.necesario.para.iniciar.un.negocio..dÃ.as. | Tasa.de.fertilidad..total..nacimientos.por.cada.mujer. | CrÃ.dito.interno.al.sector.privado.otorgado.por.los.bancos....del.PIB. |\n",
       "|---|---|---|---|---|---|---|---|---|\n",
       "| Argentina            |  83.37647            |  6.033310            |  7.97                |  27576652846         |  99.95602            | 24.5                 | 2.288                | 13.22519             |\n",
       "| Bolivia              |  86.36766            |  6.218374            |  3.50                |   2025869999         |  91.80000            | 45.0                 | 2.829                | 57.40652             |\n",
       "| Brasil               |  84.63078            | 29.877807            | 11.60                | 109562528771         |  99.70000            | 82.5                 | 1.747                | 62.16956             |\n",
       "| Chile                |  77.17885            |  3.360962            |  6.74                |  12391148419         | 100.00000            |  7.5                 | 1.713                | 79.66644             |\n",
       "| Colombia             |  83.60095            | 25.743617            |  8.69                |   9819719488         |  98.40000            | 11.0                 | 1.843                | 47.03503             |\n",
       "| Costa Rica           |  80.76934            | 11.797517            |  8.60                |   3897865404         |  99.50000            | 22.5                 | 1.789                | 57.83712             |\n",
       "| Ecuador              |  74.53272            |  5.839508            |  4.60                |   3856322934         |  98.70000            | 48.5                 | 2.475                | 28.73677             |\n",
       "| El Salvador          |  99.93440            | 83.006392            |  4.42                |    860383453         |  96.00000            | 16.5                 | 2.079                | 48.73706             |\n",
       "| Guatemala            |  95.00459            | 27.256699            |  2.58                |   1895243897         |  91.79523            | 26.5                 | 2.973                | 35.14384             |\n",
       "| Haiti                | 107.09556            |  9.483416            | 13.86                |    201286932         |  40.40000            | 97.0                 | 3.041                | 10.21026             |\n",
       "| Honduras             |  91.01038            | 55.550797            |  6.73                |   1278619860         |  91.60000            | 42.0                 | 2.536                | 56.45055             |\n",
       "| Mexico               |  77.53263            | 19.912695            |  3.86                |  51197664711         |  99.50000            |  8.4                 | 2.186                | 25.90855             |\n",
       "| Nicaragua            |  84.84909            |  7.185948            |  3.90                |    518727267         |  84.74319            | 14.0                 | 2.455                | 36.69388             |\n",
       "| PanamÃ¡              |  62.96313            | 10.032021            |  3.32                |   1505617932         |  93.17072            |  6.0                 | 2.514                | 79.10008             |\n",
       "| Paraguay             |  73.65125            |  9.870346            |  5.26                |   1163111782         |  98.40000            | 35.0                 | 2.479                | 41.32981             |\n",
       "| Peru                 |  78.16690            |  7.873625            |  3.38                |   5983858940         |  94.20000            | 41.0                 | 2.297                | 42.80881             |\n",
       "| Republica Dominicana |  80.79502            | 15.541842            |  7.28                |   1825217542         |  98.90000            | 18.5                 | 2.387                | 25.62799             |\n",
       "| Uruguay              |  77.20982            |  7.826785            |  7.84                |   2404491962         |  99.70000            |  6.5                 | 1.991                | 25.75718             |\n",
       "\n"
      ],
      "text/plain": [
       "   ï..Pais              Final.consumption.expenditure....of.GDP.\n",
       "1  Argentina             83.37647                               \n",
       "2  Bolivia               86.36766                               \n",
       "3  Brasil                84.63078                               \n",
       "4  Chile                 77.17885                               \n",
       "5  Colombia              83.60095                               \n",
       "6  Costa Rica            80.76934                               \n",
       "7  Ecuador               74.53272                               \n",
       "8  El Salvador           99.93440                               \n",
       "9  Guatemala             95.00459                               \n",
       "10 Haiti                107.09556                               \n",
       "11 Honduras              91.01038                               \n",
       "12 Mexico                77.53263                               \n",
       "13 Nicaragua             84.84909                               \n",
       "14 PanamÃ¡               62.96313                               \n",
       "15 Paraguay              73.65125                               \n",
       "16 Peru                  78.16690                               \n",
       "17 Republica Dominicana  80.79502                               \n",
       "18 Uruguay               77.20982                               \n",
       "   Homicidios.intencionales..por.cada.100.000.habitantes.\n",
       "1   6.033310                                             \n",
       "2   6.218374                                             \n",
       "3  29.877807                                             \n",
       "4   3.360962                                             \n",
       "5  25.743617                                             \n",
       "6  11.797517                                             \n",
       "7   5.839508                                             \n",
       "8  83.006392                                             \n",
       "9  27.256699                                             \n",
       "10  9.483416                                             \n",
       "11 55.550797                                             \n",
       "12 19.912695                                             \n",
       "13  7.185948                                             \n",
       "14 10.032021                                             \n",
       "15  9.870346                                             \n",
       "16  7.873625                                             \n",
       "17 15.541842                                             \n",
       "18  7.826785                                             \n",
       "   Desempleo..total....de.la.poblaciÃ³n.activa.total...estimaciÃ³n.modelado.OIT.\n",
       "1   7.97                                                                        \n",
       "2   3.50                                                                        \n",
       "3  11.60                                                                        \n",
       "4   6.74                                                                        \n",
       "5   8.69                                                                        \n",
       "6   8.60                                                                        \n",
       "7   4.60                                                                        \n",
       "8   4.42                                                                        \n",
       "9   2.58                                                                        \n",
       "10 13.86                                                                        \n",
       "11  6.73                                                                        \n",
       "12  3.86                                                                        \n",
       "13  3.90                                                                        \n",
       "14  3.32                                                                        \n",
       "15  5.26                                                                        \n",
       "16  3.38                                                                        \n",
       "17  7.28                                                                        \n",
       "18  7.84                                                                        \n",
       "   Ahorro.ajustado..gasto.en.educaciÃ³n..US..actuales.\n",
       "1   27576652846                                       \n",
       "2    2025869999                                       \n",
       "3  109562528771                                       \n",
       "4   12391148419                                       \n",
       "5    9819719488                                       \n",
       "6    3897865404                                       \n",
       "7    3856322934                                       \n",
       "8     860383453                                       \n",
       "9    1895243897                                       \n",
       "10    201286932                                       \n",
       "11   1278619860                                       \n",
       "12  51197664711                                       \n",
       "13    518727267                                       \n",
       "14   1505617932                                       \n",
       "15   1163111782                                       \n",
       "16   5983858940                                       \n",
       "17   1825217542                                       \n",
       "18   2404491962                                       \n",
       "   Acceso.a.la.electricidad....de.poblaciÃ³n.\n",
       "1   99.95602                                 \n",
       "2   91.80000                                 \n",
       "3   99.70000                                 \n",
       "4  100.00000                                 \n",
       "5   98.40000                                 \n",
       "6   99.50000                                 \n",
       "7   98.70000                                 \n",
       "8   96.00000                                 \n",
       "9   91.79523                                 \n",
       "10  40.40000                                 \n",
       "11  91.60000                                 \n",
       "12  99.50000                                 \n",
       "13  84.74319                                 \n",
       "14  93.17072                                 \n",
       "15  98.40000                                 \n",
       "16  94.20000                                 \n",
       "17  98.90000                                 \n",
       "18  99.70000                                 \n",
       "   Tiempo.necesario.para.iniciar.un.negocio..dÃ.as.\n",
       "1  24.5                                            \n",
       "2  45.0                                            \n",
       "3  82.5                                            \n",
       "4   7.5                                            \n",
       "5  11.0                                            \n",
       "6  22.5                                            \n",
       "7  48.5                                            \n",
       "8  16.5                                            \n",
       "9  26.5                                            \n",
       "10 97.0                                            \n",
       "11 42.0                                            \n",
       "12  8.4                                            \n",
       "13 14.0                                            \n",
       "14  6.0                                            \n",
       "15 35.0                                            \n",
       "16 41.0                                            \n",
       "17 18.5                                            \n",
       "18  6.5                                            \n",
       "   Tasa.de.fertilidad..total..nacimientos.por.cada.mujer.\n",
       "1  2.288                                                 \n",
       "2  2.829                                                 \n",
       "3  1.747                                                 \n",
       "4  1.713                                                 \n",
       "5  1.843                                                 \n",
       "6  1.789                                                 \n",
       "7  2.475                                                 \n",
       "8  2.079                                                 \n",
       "9  2.973                                                 \n",
       "10 3.041                                                 \n",
       "11 2.536                                                 \n",
       "12 2.186                                                 \n",
       "13 2.455                                                 \n",
       "14 2.514                                                 \n",
       "15 2.479                                                 \n",
       "16 2.297                                                 \n",
       "17 2.387                                                 \n",
       "18 1.991                                                 \n",
       "   CrÃ.dito.interno.al.sector.privado.otorgado.por.los.bancos....del.PIB.\n",
       "1  13.22519                                                              \n",
       "2  57.40652                                                              \n",
       "3  62.16956                                                              \n",
       "4  79.66644                                                              \n",
       "5  47.03503                                                              \n",
       "6  57.83712                                                              \n",
       "7  28.73677                                                              \n",
       "8  48.73706                                                              \n",
       "9  35.14384                                                              \n",
       "10 10.21026                                                              \n",
       "11 56.45055                                                              \n",
       "12 25.90855                                                              \n",
       "13 36.69388                                                              \n",
       "14 79.10008                                                              \n",
       "15 41.32981                                                              \n",
       "16 42.80881                                                              \n",
       "17 25.62799                                                              \n",
       "18 25.75718                                                              "
      ]
     },
     "metadata": {},
     "output_type": "display_data"
    }
   ],
   "source": [
    "data"
   ]
  },
  {
   "cell_type": "code",
   "execution_count": 10,
   "id": "8a84c581",
   "metadata": {},
   "outputs": [
    {
     "data": {
      "text/html": [
       "<ol class=list-inline>\n",
       "\t<li>'ï..Pais'</li>\n",
       "\t<li>'Final.consumption.expenditure....of.GDP.'</li>\n",
       "\t<li>'Homicidios.intencionales..por.cada.100.000.habitantes.'</li>\n",
       "\t<li>'Desempleo..total....de.la.poblaciÃ³n.activa.total...estimaciÃ³n.modelado.OIT.'</li>\n",
       "\t<li>'Ahorro.ajustado..gasto.en.educaciÃ³n..US..actuales.'</li>\n",
       "\t<li>'Acceso.a.la.electricidad....de.poblaciÃ³n.'</li>\n",
       "\t<li>'Tiempo.necesario.para.iniciar.un.negocio..dÃ.as.'</li>\n",
       "\t<li>'Tasa.de.fertilidad..total..nacimientos.por.cada.mujer.'</li>\n",
       "\t<li>'CrÃ.dito.interno.al.sector.privado.otorgado.por.los.bancos....del.PIB.'</li>\n",
       "</ol>\n"
      ],
      "text/latex": [
       "\\begin{enumerate*}\n",
       "\\item 'ï..Pais'\n",
       "\\item 'Final.consumption.expenditure....of.GDP.'\n",
       "\\item 'Homicidios.intencionales..por.cada.100.000.habitantes.'\n",
       "\\item 'Desempleo..total....de.la.poblaciÃ³n.activa.total...estimaciÃ³n.modelado.OIT.'\n",
       "\\item 'Ahorro.ajustado..gasto.en.educaciÃ³n..US..actuales.'\n",
       "\\item 'Acceso.a.la.electricidad....de.poblaciÃ³n.'\n",
       "\\item 'Tiempo.necesario.para.iniciar.un.negocio..dÃ.as.'\n",
       "\\item 'Tasa.de.fertilidad..total..nacimientos.por.cada.mujer.'\n",
       "\\item 'CrÃ.dito.interno.al.sector.privado.otorgado.por.los.bancos....del.PIB.'\n",
       "\\end{enumerate*}\n"
      ],
      "text/markdown": [
       "1. 'ï..Pais'\n",
       "2. 'Final.consumption.expenditure....of.GDP.'\n",
       "3. 'Homicidios.intencionales..por.cada.100.000.habitantes.'\n",
       "4. 'Desempleo..total....de.la.poblaciÃ³n.activa.total...estimaciÃ³n.modelado.OIT.'\n",
       "5. 'Ahorro.ajustado..gasto.en.educaciÃ³n..US..actuales.'\n",
       "6. 'Acceso.a.la.electricidad....de.poblaciÃ³n.'\n",
       "7. 'Tiempo.necesario.para.iniciar.un.negocio..dÃ.as.'\n",
       "8. 'Tasa.de.fertilidad..total..nacimientos.por.cada.mujer.'\n",
       "9. 'CrÃ.dito.interno.al.sector.privado.otorgado.por.los.bancos....del.PIB.'\n",
       "\n",
       "\n"
      ],
      "text/plain": [
       "[1] \"ï..Pais\"                                                                      \n",
       "[2] \"Final.consumption.expenditure....of.GDP.\"                                     \n",
       "[3] \"Homicidios.intencionales..por.cada.100.000.habitantes.\"                       \n",
       "[4] \"Desempleo..total....de.la.poblaciÃ³n.activa.total...estimaciÃ³n.modelado.OIT.\"\n",
       "[5] \"Ahorro.ajustado..gasto.en.educaciÃ³n..US..actuales.\"                          \n",
       "[6] \"Acceso.a.la.electricidad....de.poblaciÃ³n.\"                                   \n",
       "[7] \"Tiempo.necesario.para.iniciar.un.negocio..dÃ.as.\"                             \n",
       "[8] \"Tasa.de.fertilidad..total..nacimientos.por.cada.mujer.\"                       \n",
       "[9] \"CrÃ.dito.interno.al.sector.privado.otorgado.por.los.bancos....del.PIB.\"       "
      ]
     },
     "metadata": {},
     "output_type": "display_data"
    }
   ],
   "source": [
    "names(data)"
   ]
  },
  {
   "cell_type": "code",
   "execution_count": 11,
   "id": "6da465af",
   "metadata": {},
   "outputs": [
    {
     "data": {
      "text/html": [
       "'data.frame'"
      ],
      "text/latex": [
       "'data.frame'"
      ],
      "text/markdown": [
       "'data.frame'"
      ],
      "text/plain": [
       "[1] \"data.frame\""
      ]
     },
     "metadata": {},
     "output_type": "display_data"
    }
   ],
   "source": [
    "class(data)"
   ]
  },
  {
   "cell_type": "code",
   "execution_count": 14,
   "id": "3918dca6",
   "metadata": {},
   "outputs": [
    {
     "name": "stderr",
     "output_type": "stream",
     "text": [
      "also installing the dependency 'plyr'\n",
      "\n"
     ]
    },
    {
     "name": "stdout",
     "output_type": "stream",
     "text": [
      "\n",
      "  There are binary versions available but the source versions are later:\n",
      "        binary source needs_compilation\n",
      "plyr     1.8.6  1.8.7              TRUE\n",
      "reshape  0.8.8  0.8.9              TRUE\n",
      "\n",
      "  Binaries will be installed\n",
      "package 'plyr' successfully unpacked and MD5 sums checked\n",
      "package 'reshape' successfully unpacked and MD5 sums checked\n",
      "\n",
      "The downloaded binary packages are in\n",
      "\tC:\\Users\\jlaur\\AppData\\Local\\Temp\\RtmpmqlatF\\downloaded_packages\n"
     ]
    },
    {
     "name": "stderr",
     "output_type": "stream",
     "text": [
      "Loading required package: reshape\n",
      "Warning message:\n",
      "\"package 'reshape' was built under R version 3.6.3\""
     ]
    }
   ],
   "source": [
    "install.packages(\"reshape\")\n",
    "require(reshape)"
   ]
  },
  {
   "cell_type": "code",
   "execution_count": 15,
   "id": "0a8b1148",
   "metadata": {},
   "outputs": [],
   "source": [
    "data <- rename(data, c(ï..Pais=\"Pais\",\n",
    "                       Final.consumption.expenditure....of.GDP.=\"Consumo_final\", \n",
    "                       Homicidios.intencionales..por.cada.100.000.habitantes.=\"Homicidios\",\n",
    "                       Desempleo..total....de.la.poblaciÃ³n.activa.total...estimaciÃ³n.modelado.OIT.=\"Desempleo\",\n",
    "                       Ahorro.ajustado..gasto.en.educaciÃ³n..US..actuales.=\"Gasto_Educacion\",\n",
    "                       Acceso.a.la.electricidad....de.poblaciÃ³n.=\"Electricidad\",\n",
    "                       Tiempo.necesario.para.iniciar.un.negocio..dÃ.as.=\"Tiempo_negocio\",\n",
    "                       Tasa.de.fertilidad..total..nacimientos.por.cada.mujer.=\"Fertilidad\",\n",
    "                       CrÃ.dito.interno.al.sector.privado.otorgado.por.los.bancos....del.PIB.=\"Credito\"))"
   ]
  },
  {
   "cell_type": "code",
   "execution_count": 16,
   "id": "314f15cb",
   "metadata": {},
   "outputs": [
    {
     "data": {
      "text/html": [
       "<ol class=list-inline>\n",
       "\t<li>'Pais'</li>\n",
       "\t<li>'Consumo_final'</li>\n",
       "\t<li>'Homicidios'</li>\n",
       "\t<li>'Desempleo'</li>\n",
       "\t<li>'Gasto_Educacion'</li>\n",
       "\t<li>'Electricidad'</li>\n",
       "\t<li>'Tiempo_negocio'</li>\n",
       "\t<li>'Fertilidad'</li>\n",
       "\t<li>'Credito'</li>\n",
       "</ol>\n"
      ],
      "text/latex": [
       "\\begin{enumerate*}\n",
       "\\item 'Pais'\n",
       "\\item 'Consumo\\_final'\n",
       "\\item 'Homicidios'\n",
       "\\item 'Desempleo'\n",
       "\\item 'Gasto\\_Educacion'\n",
       "\\item 'Electricidad'\n",
       "\\item 'Tiempo\\_negocio'\n",
       "\\item 'Fertilidad'\n",
       "\\item 'Credito'\n",
       "\\end{enumerate*}\n"
      ],
      "text/markdown": [
       "1. 'Pais'\n",
       "2. 'Consumo_final'\n",
       "3. 'Homicidios'\n",
       "4. 'Desempleo'\n",
       "5. 'Gasto_Educacion'\n",
       "6. 'Electricidad'\n",
       "7. 'Tiempo_negocio'\n",
       "8. 'Fertilidad'\n",
       "9. 'Credito'\n",
       "\n",
       "\n"
      ],
      "text/plain": [
       "[1] \"Pais\"            \"Consumo_final\"   \"Homicidios\"      \"Desempleo\"      \n",
       "[5] \"Gasto_Educacion\" \"Electricidad\"    \"Tiempo_negocio\"  \"Fertilidad\"     \n",
       "[9] \"Credito\"        "
      ]
     },
     "metadata": {},
     "output_type": "display_data"
    }
   ],
   "source": [
    "names(data)"
   ]
  },
  {
   "cell_type": "code",
   "execution_count": 18,
   "id": "801d5f67",
   "metadata": {},
   "outputs": [
    {
     "data": {
      "text/html": [
       "<table>\n",
       "<thead><tr><th scope=col>Pais</th><th scope=col>Consumo_final</th><th scope=col>Homicidios</th><th scope=col>Desempleo</th><th scope=col>Gasto_Educacion</th><th scope=col>Electricidad</th><th scope=col>Tiempo_negocio</th><th scope=col>Fertilidad</th><th scope=col>Credito</th></tr></thead>\n",
       "<tbody>\n",
       "\t<tr><td>Argentina           </td><td> 83.37647           </td><td> 6.033310           </td><td> 7.97               </td><td> 27576652846        </td><td> 99.95602           </td><td>24.5                </td><td>2.288               </td><td>13.22519            </td></tr>\n",
       "\t<tr><td>Bolivia             </td><td> 86.36766           </td><td> 6.218374           </td><td> 3.50               </td><td>  2025869999        </td><td> 91.80000           </td><td>45.0                </td><td>2.829               </td><td>57.40652            </td></tr>\n",
       "\t<tr><td>Brasil              </td><td> 84.63078           </td><td>29.877807           </td><td>11.60               </td><td>109562528771        </td><td> 99.70000           </td><td>82.5                </td><td>1.747               </td><td>62.16956            </td></tr>\n",
       "\t<tr><td>Chile               </td><td> 77.17885           </td><td> 3.360962           </td><td> 6.74               </td><td> 12391148419        </td><td>100.00000           </td><td> 7.5                </td><td>1.713               </td><td>79.66644            </td></tr>\n",
       "\t<tr><td>Colombia            </td><td> 83.60095           </td><td>25.743617           </td><td> 8.69               </td><td>  9819719488        </td><td> 98.40000           </td><td>11.0                </td><td>1.843               </td><td>47.03503            </td></tr>\n",
       "\t<tr><td>Costa Rica          </td><td> 80.76934           </td><td>11.797517           </td><td> 8.60               </td><td>  3897865404        </td><td> 99.50000           </td><td>22.5                </td><td>1.789               </td><td>57.83712            </td></tr>\n",
       "\t<tr><td>Ecuador             </td><td> 74.53272           </td><td> 5.839508           </td><td> 4.60               </td><td>  3856322934        </td><td> 98.70000           </td><td>48.5                </td><td>2.475               </td><td>28.73677            </td></tr>\n",
       "\t<tr><td>El Salvador         </td><td> 99.93440           </td><td>83.006392           </td><td> 4.42               </td><td>   860383453        </td><td> 96.00000           </td><td>16.5                </td><td>2.079               </td><td>48.73706            </td></tr>\n",
       "\t<tr><td>Guatemala           </td><td> 95.00459           </td><td>27.256699           </td><td> 2.58               </td><td>  1895243897        </td><td> 91.79523           </td><td>26.5                </td><td>2.973               </td><td>35.14384            </td></tr>\n",
       "\t<tr><td>Haiti               </td><td>107.09556           </td><td> 9.483416           </td><td>13.86               </td><td>   201286932        </td><td> 40.40000           </td><td>97.0                </td><td>3.041               </td><td>10.21026            </td></tr>\n",
       "\t<tr><td>Honduras            </td><td> 91.01038           </td><td>55.550797           </td><td> 6.73               </td><td>  1278619860        </td><td> 91.60000           </td><td>42.0                </td><td>2.536               </td><td>56.45055            </td></tr>\n",
       "\t<tr><td>Mexico              </td><td> 77.53263           </td><td>19.912695           </td><td> 3.86               </td><td> 51197664711        </td><td> 99.50000           </td><td> 8.4                </td><td>2.186               </td><td>25.90855            </td></tr>\n",
       "\t<tr><td>Nicaragua           </td><td> 84.84909           </td><td> 7.185948           </td><td> 3.90               </td><td>   518727267        </td><td> 84.74319           </td><td>14.0                </td><td>2.455               </td><td>36.69388            </td></tr>\n",
       "\t<tr><td>PanamÃ¡             </td><td> 62.96313           </td><td>10.032021           </td><td> 3.32               </td><td>  1505617932        </td><td> 93.17072           </td><td> 6.0                </td><td>2.514               </td><td>79.10008            </td></tr>\n",
       "\t<tr><td>Paraguay            </td><td> 73.65125           </td><td> 9.870346           </td><td> 5.26               </td><td>  1163111782        </td><td> 98.40000           </td><td>35.0                </td><td>2.479               </td><td>41.32981            </td></tr>\n",
       "\t<tr><td>Peru                </td><td> 78.16690           </td><td> 7.873625           </td><td> 3.38               </td><td>  5983858940        </td><td> 94.20000           </td><td>41.0                </td><td>2.297               </td><td>42.80881            </td></tr>\n",
       "\t<tr><td>Republica Dominicana</td><td> 80.79502           </td><td>15.541842           </td><td> 7.28               </td><td>  1825217542        </td><td> 98.90000           </td><td>18.5                </td><td>2.387               </td><td>25.62799            </td></tr>\n",
       "\t<tr><td>Uruguay             </td><td> 77.20982           </td><td> 7.826785           </td><td> 7.84               </td><td>  2404491962        </td><td> 99.70000           </td><td> 6.5                </td><td>1.991               </td><td>25.75718            </td></tr>\n",
       "</tbody>\n",
       "</table>\n"
      ],
      "text/latex": [
       "\\begin{tabular}{r|lllllllll}\n",
       " Pais & Consumo\\_final & Homicidios & Desempleo & Gasto\\_Educacion & Electricidad & Tiempo\\_negocio & Fertilidad & Credito\\\\\n",
       "\\hline\n",
       "\t Argentina            &  83.37647            &  6.033310            &  7.97                &  27576652846         &  99.95602            & 24.5                 & 2.288                & 13.22519            \\\\\n",
       "\t Bolivia              &  86.36766            &  6.218374            &  3.50                &   2025869999         &  91.80000            & 45.0                 & 2.829                & 57.40652            \\\\\n",
       "\t Brasil               &  84.63078            & 29.877807            & 11.60                & 109562528771         &  99.70000            & 82.5                 & 1.747                & 62.16956            \\\\\n",
       "\t Chile                &  77.17885            &  3.360962            &  6.74                &  12391148419         & 100.00000            &  7.5                 & 1.713                & 79.66644            \\\\\n",
       "\t Colombia             &  83.60095            & 25.743617            &  8.69                &   9819719488         &  98.40000            & 11.0                 & 1.843                & 47.03503            \\\\\n",
       "\t Costa Rica           &  80.76934            & 11.797517            &  8.60                &   3897865404         &  99.50000            & 22.5                 & 1.789                & 57.83712            \\\\\n",
       "\t Ecuador              &  74.53272            &  5.839508            &  4.60                &   3856322934         &  98.70000            & 48.5                 & 2.475                & 28.73677            \\\\\n",
       "\t El Salvador          &  99.93440            & 83.006392            &  4.42                &    860383453         &  96.00000            & 16.5                 & 2.079                & 48.73706            \\\\\n",
       "\t Guatemala            &  95.00459            & 27.256699            &  2.58                &   1895243897         &  91.79523            & 26.5                 & 2.973                & 35.14384            \\\\\n",
       "\t Haiti                & 107.09556            &  9.483416            & 13.86                &    201286932         &  40.40000            & 97.0                 & 3.041                & 10.21026            \\\\\n",
       "\t Honduras             &  91.01038            & 55.550797            &  6.73                &   1278619860         &  91.60000            & 42.0                 & 2.536                & 56.45055            \\\\\n",
       "\t Mexico               &  77.53263            & 19.912695            &  3.86                &  51197664711         &  99.50000            &  8.4                 & 2.186                & 25.90855            \\\\\n",
       "\t Nicaragua            &  84.84909            &  7.185948            &  3.90                &    518727267         &  84.74319            & 14.0                 & 2.455                & 36.69388            \\\\\n",
       "\t PanamÃ¡              &  62.96313            & 10.032021            &  3.32                &   1505617932         &  93.17072            &  6.0                 & 2.514                & 79.10008            \\\\\n",
       "\t Paraguay             &  73.65125            &  9.870346            &  5.26                &   1163111782         &  98.40000            & 35.0                 & 2.479                & 41.32981            \\\\\n",
       "\t Peru                 &  78.16690            &  7.873625            &  3.38                &   5983858940         &  94.20000            & 41.0                 & 2.297                & 42.80881            \\\\\n",
       "\t Republica Dominicana &  80.79502            & 15.541842            &  7.28                &   1825217542         &  98.90000            & 18.5                 & 2.387                & 25.62799            \\\\\n",
       "\t Uruguay              &  77.20982            &  7.826785            &  7.84                &   2404491962         &  99.70000            &  6.5                 & 1.991                & 25.75718            \\\\\n",
       "\\end{tabular}\n"
      ],
      "text/markdown": [
       "\n",
       "| Pais | Consumo_final | Homicidios | Desempleo | Gasto_Educacion | Electricidad | Tiempo_negocio | Fertilidad | Credito |\n",
       "|---|---|---|---|---|---|---|---|---|\n",
       "| Argentina            |  83.37647            |  6.033310            |  7.97                |  27576652846         |  99.95602            | 24.5                 | 2.288                | 13.22519             |\n",
       "| Bolivia              |  86.36766            |  6.218374            |  3.50                |   2025869999         |  91.80000            | 45.0                 | 2.829                | 57.40652             |\n",
       "| Brasil               |  84.63078            | 29.877807            | 11.60                | 109562528771         |  99.70000            | 82.5                 | 1.747                | 62.16956             |\n",
       "| Chile                |  77.17885            |  3.360962            |  6.74                |  12391148419         | 100.00000            |  7.5                 | 1.713                | 79.66644             |\n",
       "| Colombia             |  83.60095            | 25.743617            |  8.69                |   9819719488         |  98.40000            | 11.0                 | 1.843                | 47.03503             |\n",
       "| Costa Rica           |  80.76934            | 11.797517            |  8.60                |   3897865404         |  99.50000            | 22.5                 | 1.789                | 57.83712             |\n",
       "| Ecuador              |  74.53272            |  5.839508            |  4.60                |   3856322934         |  98.70000            | 48.5                 | 2.475                | 28.73677             |\n",
       "| El Salvador          |  99.93440            | 83.006392            |  4.42                |    860383453         |  96.00000            | 16.5                 | 2.079                | 48.73706             |\n",
       "| Guatemala            |  95.00459            | 27.256699            |  2.58                |   1895243897         |  91.79523            | 26.5                 | 2.973                | 35.14384             |\n",
       "| Haiti                | 107.09556            |  9.483416            | 13.86                |    201286932         |  40.40000            | 97.0                 | 3.041                | 10.21026             |\n",
       "| Honduras             |  91.01038            | 55.550797            |  6.73                |   1278619860         |  91.60000            | 42.0                 | 2.536                | 56.45055             |\n",
       "| Mexico               |  77.53263            | 19.912695            |  3.86                |  51197664711         |  99.50000            |  8.4                 | 2.186                | 25.90855             |\n",
       "| Nicaragua            |  84.84909            |  7.185948            |  3.90                |    518727267         |  84.74319            | 14.0                 | 2.455                | 36.69388             |\n",
       "| PanamÃ¡              |  62.96313            | 10.032021            |  3.32                |   1505617932         |  93.17072            |  6.0                 | 2.514                | 79.10008             |\n",
       "| Paraguay             |  73.65125            |  9.870346            |  5.26                |   1163111782         |  98.40000            | 35.0                 | 2.479                | 41.32981             |\n",
       "| Peru                 |  78.16690            |  7.873625            |  3.38                |   5983858940         |  94.20000            | 41.0                 | 2.297                | 42.80881             |\n",
       "| Republica Dominicana |  80.79502            | 15.541842            |  7.28                |   1825217542         |  98.90000            | 18.5                 | 2.387                | 25.62799             |\n",
       "| Uruguay              |  77.20982            |  7.826785            |  7.84                |   2404491962         |  99.70000            |  6.5                 | 1.991                | 25.75718             |\n",
       "\n"
      ],
      "text/plain": [
       "   Pais                 Consumo_final Homicidios Desempleo Gasto_Educacion\n",
       "1  Argentina             83.37647      6.033310   7.97      27576652846   \n",
       "2  Bolivia               86.36766      6.218374   3.50       2025869999   \n",
       "3  Brasil                84.63078     29.877807  11.60     109562528771   \n",
       "4  Chile                 77.17885      3.360962   6.74      12391148419   \n",
       "5  Colombia              83.60095     25.743617   8.69       9819719488   \n",
       "6  Costa Rica            80.76934     11.797517   8.60       3897865404   \n",
       "7  Ecuador               74.53272      5.839508   4.60       3856322934   \n",
       "8  El Salvador           99.93440     83.006392   4.42        860383453   \n",
       "9  Guatemala             95.00459     27.256699   2.58       1895243897   \n",
       "10 Haiti                107.09556      9.483416  13.86        201286932   \n",
       "11 Honduras              91.01038     55.550797   6.73       1278619860   \n",
       "12 Mexico                77.53263     19.912695   3.86      51197664711   \n",
       "13 Nicaragua             84.84909      7.185948   3.90        518727267   \n",
       "14 PanamÃ¡               62.96313     10.032021   3.32       1505617932   \n",
       "15 Paraguay              73.65125      9.870346   5.26       1163111782   \n",
       "16 Peru                  78.16690      7.873625   3.38       5983858940   \n",
       "17 Republica Dominicana  80.79502     15.541842   7.28       1825217542   \n",
       "18 Uruguay               77.20982      7.826785   7.84       2404491962   \n",
       "   Electricidad Tiempo_negocio Fertilidad Credito \n",
       "1   99.95602    24.5           2.288      13.22519\n",
       "2   91.80000    45.0           2.829      57.40652\n",
       "3   99.70000    82.5           1.747      62.16956\n",
       "4  100.00000     7.5           1.713      79.66644\n",
       "5   98.40000    11.0           1.843      47.03503\n",
       "6   99.50000    22.5           1.789      57.83712\n",
       "7   98.70000    48.5           2.475      28.73677\n",
       "8   96.00000    16.5           2.079      48.73706\n",
       "9   91.79523    26.5           2.973      35.14384\n",
       "10  40.40000    97.0           3.041      10.21026\n",
       "11  91.60000    42.0           2.536      56.45055\n",
       "12  99.50000     8.4           2.186      25.90855\n",
       "13  84.74319    14.0           2.455      36.69388\n",
       "14  93.17072     6.0           2.514      79.10008\n",
       "15  98.40000    35.0           2.479      41.32981\n",
       "16  94.20000    41.0           2.297      42.80881\n",
       "17  98.90000    18.5           2.387      25.62799\n",
       "18  99.70000     6.5           1.991      25.75718"
      ]
     },
     "metadata": {},
     "output_type": "display_data"
    }
   ],
   "source": [
    "data"
   ]
  },
  {
   "cell_type": "code",
   "execution_count": 19,
   "id": "60f6c1e8",
   "metadata": {},
   "outputs": [
    {
     "data": {
      "text/html": [
       "<ol class=list-inline>\n",
       "\t<li>18</li>\n",
       "\t<li>9</li>\n",
       "</ol>\n"
      ],
      "text/latex": [
       "\\begin{enumerate*}\n",
       "\\item 18\n",
       "\\item 9\n",
       "\\end{enumerate*}\n"
      ],
      "text/markdown": [
       "1. 18\n",
       "2. 9\n",
       "\n",
       "\n"
      ],
      "text/plain": [
       "[1] 18  9"
      ]
     },
     "metadata": {},
     "output_type": "display_data"
    }
   ],
   "source": [
    "dim(data)"
   ]
  },
  {
   "cell_type": "code",
   "execution_count": 20,
   "id": "17c93b3b",
   "metadata": {},
   "outputs": [],
   "source": [
    "X <- as.matrix(data[,2:9])"
   ]
  },
  {
   "cell_type": "code",
   "execution_count": 21,
   "id": "f141e571",
   "metadata": {},
   "outputs": [
    {
     "data": {
      "text/html": [
       "<table>\n",
       "<thead><tr><th scope=col>Consumo_final</th><th scope=col>Homicidios</th><th scope=col>Desempleo</th><th scope=col>Gasto_Educacion</th><th scope=col>Electricidad</th><th scope=col>Tiempo_negocio</th><th scope=col>Fertilidad</th><th scope=col>Credito</th></tr></thead>\n",
       "<tbody>\n",
       "\t<tr><td> 83.37647   </td><td> 6.033310   </td><td> 7.97       </td><td> 27576652846</td><td> 99.95602   </td><td>24.5        </td><td>2.288       </td><td>13.22519    </td></tr>\n",
       "\t<tr><td> 86.36766   </td><td> 6.218374   </td><td> 3.50       </td><td>  2025869999</td><td> 91.80000   </td><td>45.0        </td><td>2.829       </td><td>57.40652    </td></tr>\n",
       "\t<tr><td> 84.63078   </td><td>29.877807   </td><td>11.60       </td><td>109562528771</td><td> 99.70000   </td><td>82.5        </td><td>1.747       </td><td>62.16956    </td></tr>\n",
       "\t<tr><td> 77.17885   </td><td> 3.360962   </td><td> 6.74       </td><td> 12391148419</td><td>100.00000   </td><td> 7.5        </td><td>1.713       </td><td>79.66644    </td></tr>\n",
       "\t<tr><td> 83.60095   </td><td>25.743617   </td><td> 8.69       </td><td>  9819719488</td><td> 98.40000   </td><td>11.0        </td><td>1.843       </td><td>47.03503    </td></tr>\n",
       "\t<tr><td> 80.76934   </td><td>11.797517   </td><td> 8.60       </td><td>  3897865404</td><td> 99.50000   </td><td>22.5        </td><td>1.789       </td><td>57.83712    </td></tr>\n",
       "\t<tr><td> 74.53272   </td><td> 5.839508   </td><td> 4.60       </td><td>  3856322934</td><td> 98.70000   </td><td>48.5        </td><td>2.475       </td><td>28.73677    </td></tr>\n",
       "\t<tr><td> 99.93440   </td><td>83.006392   </td><td> 4.42       </td><td>   860383453</td><td> 96.00000   </td><td>16.5        </td><td>2.079       </td><td>48.73706    </td></tr>\n",
       "\t<tr><td> 95.00459   </td><td>27.256699   </td><td> 2.58       </td><td>  1895243897</td><td> 91.79523   </td><td>26.5        </td><td>2.973       </td><td>35.14384    </td></tr>\n",
       "\t<tr><td>107.09556   </td><td> 9.483416   </td><td>13.86       </td><td>   201286932</td><td> 40.40000   </td><td>97.0        </td><td>3.041       </td><td>10.21026    </td></tr>\n",
       "\t<tr><td> 91.01038   </td><td>55.550797   </td><td> 6.73       </td><td>  1278619860</td><td> 91.60000   </td><td>42.0        </td><td>2.536       </td><td>56.45055    </td></tr>\n",
       "\t<tr><td> 77.53263   </td><td>19.912695   </td><td> 3.86       </td><td> 51197664711</td><td> 99.50000   </td><td> 8.4        </td><td>2.186       </td><td>25.90855    </td></tr>\n",
       "\t<tr><td> 84.84909   </td><td> 7.185948   </td><td> 3.90       </td><td>   518727267</td><td> 84.74319   </td><td>14.0        </td><td>2.455       </td><td>36.69388    </td></tr>\n",
       "\t<tr><td> 62.96313   </td><td>10.032021   </td><td> 3.32       </td><td>  1505617932</td><td> 93.17072   </td><td> 6.0        </td><td>2.514       </td><td>79.10008    </td></tr>\n",
       "\t<tr><td> 73.65125   </td><td> 9.870346   </td><td> 5.26       </td><td>  1163111782</td><td> 98.40000   </td><td>35.0        </td><td>2.479       </td><td>41.32981    </td></tr>\n",
       "\t<tr><td> 78.16690   </td><td> 7.873625   </td><td> 3.38       </td><td>  5983858940</td><td> 94.20000   </td><td>41.0        </td><td>2.297       </td><td>42.80881    </td></tr>\n",
       "\t<tr><td> 80.79502   </td><td>15.541842   </td><td> 7.28       </td><td>  1825217542</td><td> 98.90000   </td><td>18.5        </td><td>2.387       </td><td>25.62799    </td></tr>\n",
       "\t<tr><td> 77.20982   </td><td> 7.826785   </td><td> 7.84       </td><td>  2404491962</td><td> 99.70000   </td><td> 6.5        </td><td>1.991       </td><td>25.75718    </td></tr>\n",
       "</tbody>\n",
       "</table>\n"
      ],
      "text/latex": [
       "\\begin{tabular}{llllllll}\n",
       " Consumo\\_final & Homicidios & Desempleo & Gasto\\_Educacion & Electricidad & Tiempo\\_negocio & Fertilidad & Credito\\\\\n",
       "\\hline\n",
       "\t  83.37647    &  6.033310    &  7.97        &  27576652846 &  99.95602    & 24.5         & 2.288        & 13.22519    \\\\\n",
       "\t  86.36766    &  6.218374    &  3.50        &   2025869999 &  91.80000    & 45.0         & 2.829        & 57.40652    \\\\\n",
       "\t  84.63078    & 29.877807    & 11.60        & 109562528771 &  99.70000    & 82.5         & 1.747        & 62.16956    \\\\\n",
       "\t  77.17885    &  3.360962    &  6.74        &  12391148419 & 100.00000    &  7.5         & 1.713        & 79.66644    \\\\\n",
       "\t  83.60095    & 25.743617    &  8.69        &   9819719488 &  98.40000    & 11.0         & 1.843        & 47.03503    \\\\\n",
       "\t  80.76934    & 11.797517    &  8.60        &   3897865404 &  99.50000    & 22.5         & 1.789        & 57.83712    \\\\\n",
       "\t  74.53272    &  5.839508    &  4.60        &   3856322934 &  98.70000    & 48.5         & 2.475        & 28.73677    \\\\\n",
       "\t  99.93440    & 83.006392    &  4.42        &    860383453 &  96.00000    & 16.5         & 2.079        & 48.73706    \\\\\n",
       "\t  95.00459    & 27.256699    &  2.58        &   1895243897 &  91.79523    & 26.5         & 2.973        & 35.14384    \\\\\n",
       "\t 107.09556    &  9.483416    & 13.86        &    201286932 &  40.40000    & 97.0         & 3.041        & 10.21026    \\\\\n",
       "\t  91.01038    & 55.550797    &  6.73        &   1278619860 &  91.60000    & 42.0         & 2.536        & 56.45055    \\\\\n",
       "\t  77.53263    & 19.912695    &  3.86        &  51197664711 &  99.50000    &  8.4         & 2.186        & 25.90855    \\\\\n",
       "\t  84.84909    &  7.185948    &  3.90        &    518727267 &  84.74319    & 14.0         & 2.455        & 36.69388    \\\\\n",
       "\t  62.96313    & 10.032021    &  3.32        &   1505617932 &  93.17072    &  6.0         & 2.514        & 79.10008    \\\\\n",
       "\t  73.65125    &  9.870346    &  5.26        &   1163111782 &  98.40000    & 35.0         & 2.479        & 41.32981    \\\\\n",
       "\t  78.16690    &  7.873625    &  3.38        &   5983858940 &  94.20000    & 41.0         & 2.297        & 42.80881    \\\\\n",
       "\t  80.79502    & 15.541842    &  7.28        &   1825217542 &  98.90000    & 18.5         & 2.387        & 25.62799    \\\\\n",
       "\t  77.20982    &  7.826785    &  7.84        &   2404491962 &  99.70000    &  6.5         & 1.991        & 25.75718    \\\\\n",
       "\\end{tabular}\n"
      ],
      "text/markdown": [
       "\n",
       "| Consumo_final | Homicidios | Desempleo | Gasto_Educacion | Electricidad | Tiempo_negocio | Fertilidad | Credito |\n",
       "|---|---|---|---|---|---|---|---|\n",
       "|  83.37647    |  6.033310    |  7.97        |  27576652846 |  99.95602    | 24.5         | 2.288        | 13.22519     |\n",
       "|  86.36766    |  6.218374    |  3.50        |   2025869999 |  91.80000    | 45.0         | 2.829        | 57.40652     |\n",
       "|  84.63078    | 29.877807    | 11.60        | 109562528771 |  99.70000    | 82.5         | 1.747        | 62.16956     |\n",
       "|  77.17885    |  3.360962    |  6.74        |  12391148419 | 100.00000    |  7.5         | 1.713        | 79.66644     |\n",
       "|  83.60095    | 25.743617    |  8.69        |   9819719488 |  98.40000    | 11.0         | 1.843        | 47.03503     |\n",
       "|  80.76934    | 11.797517    |  8.60        |   3897865404 |  99.50000    | 22.5         | 1.789        | 57.83712     |\n",
       "|  74.53272    |  5.839508    |  4.60        |   3856322934 |  98.70000    | 48.5         | 2.475        | 28.73677     |\n",
       "|  99.93440    | 83.006392    |  4.42        |    860383453 |  96.00000    | 16.5         | 2.079        | 48.73706     |\n",
       "|  95.00459    | 27.256699    |  2.58        |   1895243897 |  91.79523    | 26.5         | 2.973        | 35.14384     |\n",
       "| 107.09556    |  9.483416    | 13.86        |    201286932 |  40.40000    | 97.0         | 3.041        | 10.21026     |\n",
       "|  91.01038    | 55.550797    |  6.73        |   1278619860 |  91.60000    | 42.0         | 2.536        | 56.45055     |\n",
       "|  77.53263    | 19.912695    |  3.86        |  51197664711 |  99.50000    |  8.4         | 2.186        | 25.90855     |\n",
       "|  84.84909    |  7.185948    |  3.90        |    518727267 |  84.74319    | 14.0         | 2.455        | 36.69388     |\n",
       "|  62.96313    | 10.032021    |  3.32        |   1505617932 |  93.17072    |  6.0         | 2.514        | 79.10008     |\n",
       "|  73.65125    |  9.870346    |  5.26        |   1163111782 |  98.40000    | 35.0         | 2.479        | 41.32981     |\n",
       "|  78.16690    |  7.873625    |  3.38        |   5983858940 |  94.20000    | 41.0         | 2.297        | 42.80881     |\n",
       "|  80.79502    | 15.541842    |  7.28        |   1825217542 |  98.90000    | 18.5         | 2.387        | 25.62799     |\n",
       "|  77.20982    |  7.826785    |  7.84        |   2404491962 |  99.70000    |  6.5         | 1.991        | 25.75718     |\n",
       "\n"
      ],
      "text/plain": [
       "      Consumo_final Homicidios Desempleo Gasto_Educacion Electricidad\n",
       " [1,]  83.37647      6.033310   7.97      27576652846     99.95602   \n",
       " [2,]  86.36766      6.218374   3.50       2025869999     91.80000   \n",
       " [3,]  84.63078     29.877807  11.60     109562528771     99.70000   \n",
       " [4,]  77.17885      3.360962   6.74      12391148419    100.00000   \n",
       " [5,]  83.60095     25.743617   8.69       9819719488     98.40000   \n",
       " [6,]  80.76934     11.797517   8.60       3897865404     99.50000   \n",
       " [7,]  74.53272      5.839508   4.60       3856322934     98.70000   \n",
       " [8,]  99.93440     83.006392   4.42        860383453     96.00000   \n",
       " [9,]  95.00459     27.256699   2.58       1895243897     91.79523   \n",
       "[10,] 107.09556      9.483416  13.86        201286932     40.40000   \n",
       "[11,]  91.01038     55.550797   6.73       1278619860     91.60000   \n",
       "[12,]  77.53263     19.912695   3.86      51197664711     99.50000   \n",
       "[13,]  84.84909      7.185948   3.90        518727267     84.74319   \n",
       "[14,]  62.96313     10.032021   3.32       1505617932     93.17072   \n",
       "[15,]  73.65125      9.870346   5.26       1163111782     98.40000   \n",
       "[16,]  78.16690      7.873625   3.38       5983858940     94.20000   \n",
       "[17,]  80.79502     15.541842   7.28       1825217542     98.90000   \n",
       "[18,]  77.20982      7.826785   7.84       2404491962     99.70000   \n",
       "      Tiempo_negocio Fertilidad Credito \n",
       " [1,] 24.5           2.288      13.22519\n",
       " [2,] 45.0           2.829      57.40652\n",
       " [3,] 82.5           1.747      62.16956\n",
       " [4,]  7.5           1.713      79.66644\n",
       " [5,] 11.0           1.843      47.03503\n",
       " [6,] 22.5           1.789      57.83712\n",
       " [7,] 48.5           2.475      28.73677\n",
       " [8,] 16.5           2.079      48.73706\n",
       " [9,] 26.5           2.973      35.14384\n",
       "[10,] 97.0           3.041      10.21026\n",
       "[11,] 42.0           2.536      56.45055\n",
       "[12,]  8.4           2.186      25.90855\n",
       "[13,] 14.0           2.455      36.69388\n",
       "[14,]  6.0           2.514      79.10008\n",
       "[15,] 35.0           2.479      41.32981\n",
       "[16,] 41.0           2.297      42.80881\n",
       "[17,] 18.5           2.387      25.62799\n",
       "[18,]  6.5           1.991      25.75718"
      ]
     },
     "metadata": {},
     "output_type": "display_data"
    }
   ],
   "source": [
    "X"
   ]
  },
  {
   "cell_type": "code",
   "execution_count": 22,
   "id": "4736023a",
   "metadata": {},
   "outputs": [
    {
     "data": {
      "text/html": [
       "<ol class=list-inline>\n",
       "\t<li>18</li>\n",
       "\t<li>8</li>\n",
       "</ol>\n"
      ],
      "text/latex": [
       "\\begin{enumerate*}\n",
       "\\item 18\n",
       "\\item 8\n",
       "\\end{enumerate*}\n"
      ],
      "text/markdown": [
       "1. 18\n",
       "2. 8\n",
       "\n",
       "\n"
      ],
      "text/plain": [
       "[1] 18  8"
      ]
     },
     "metadata": {},
     "output_type": "display_data"
    }
   ],
   "source": [
    "dim(X) #fila(observaciones) * columnas (variables) "
   ]
  },
  {
   "cell_type": "code",
   "execution_count": 23,
   "id": "39413bc8",
   "metadata": {},
   "outputs": [
    {
     "data": {
      "text/html": [
       "'matrix'"
      ],
      "text/latex": [
       "'matrix'"
      ],
      "text/markdown": [
       "'matrix'"
      ],
      "text/plain": [
       "[1] \"matrix\""
      ]
     },
     "metadata": {},
     "output_type": "display_data"
    }
   ],
   "source": [
    "class(X) #Data frame incluye todo tipo de variables (string, numeric, float), pero matrix solo es valores numericos"
   ]
  },
  {
   "cell_type": "code",
   "execution_count": 24,
   "id": "9c6dd402",
   "metadata": {},
   "outputs": [],
   "source": [
    "F <- dim(X)[1] # Numero total de filas = (analogo) al numero de observaciones\n",
    "C <- dim(X)[2] # Numero total de columnas"
   ]
  },
  {
   "cell_type": "code",
   "execution_count": 25,
   "id": "c0224d63",
   "metadata": {},
   "outputs": [
    {
     "data": {
      "text/html": [
       "TRUE"
      ],
      "text/latex": [
       "TRUE"
      ],
      "text/markdown": [
       "TRUE"
      ],
      "text/plain": [
       "[1] TRUE"
      ]
     },
     "metadata": {},
     "output_type": "display_data"
    }
   ],
   "source": [
    "F>C"
   ]
  },
  {
   "cell_type": "code",
   "execution_count": 29,
   "id": "85b1099a",
   "metadata": {},
   "outputs": [
    {
     "data": {
      "text/html": [
       "<table>\n",
       "<thead><tr><th scope=col>Consumo_final</th><th scope=col>Homicidios</th><th scope=col>Desempleo</th><th scope=col>Gasto_Educacion</th><th scope=col>Electricidad</th><th scope=col>Tiempo_negocio</th><th scope=col>Fertilidad</th><th scope=col>Credito</th></tr></thead>\n",
       "<tbody>\n",
       "\t<tr><td>1498.67     </td><td>342.4117    </td><td>114.13      </td><td>237964332140</td><td>1676.465    </td><td>552.9       </td><td>41.622      </td><td>773.8446    </td></tr>\n",
       "</tbody>\n",
       "</table>\n"
      ],
      "text/latex": [
       "\\begin{tabular}{llllllll}\n",
       " Consumo\\_final & Homicidios & Desempleo & Gasto\\_Educacion & Electricidad & Tiempo\\_negocio & Fertilidad & Credito\\\\\n",
       "\\hline\n",
       "\t 1498.67      & 342.4117     & 114.13       & 237964332140 & 1676.465     & 552.9        & 41.622       & 773.8446    \\\\\n",
       "\\end{tabular}\n"
      ],
      "text/markdown": [
       "\n",
       "| Consumo_final | Homicidios | Desempleo | Gasto_Educacion | Electricidad | Tiempo_negocio | Fertilidad | Credito |\n",
       "|---|---|---|---|---|---|---|---|\n",
       "| 1498.67      | 342.4117     | 114.13       | 237964332140 | 1676.465     | 552.9        | 41.622       | 773.8446     |\n",
       "\n"
      ],
      "text/plain": [
       "     Consumo_final Homicidios Desempleo Gasto_Educacion Electricidad\n",
       "[1,] 1498.67       342.4117   114.13    237964332140    1676.465    \n",
       "     Tiempo_negocio Fertilidad Credito \n",
       "[1,] 552.9          41.622     773.8446"
      ]
     },
     "metadata": {},
     "output_type": "display_data"
    }
   ],
   "source": [
    "##Suma := i'X\n",
    "unos <- matrix(1,F,1) # matriz i, crea una matriz llena de unos, con F filas y 1 columna\n",
    "## [*] = multiplicacion escalar (numeros) / [%*%] = multiplicacion matricial\n",
    "total <- t(unos)%*%X\n",
    "total"
   ]
  },
  {
   "cell_type": "code",
   "execution_count": 32,
   "id": "14552263",
   "metadata": {},
   "outputs": [
    {
     "data": {
      "text/html": [
       "<table>\n",
       "<thead><tr><th scope=col>Consumo_final</th><th scope=col>Homicidios</th><th scope=col>Desempleo</th><th scope=col>Gasto_Educacion</th><th scope=col>Electricidad</th><th scope=col>Tiempo_negocio</th><th scope=col>Fertilidad</th><th scope=col>Credito</th></tr></thead>\n",
       "<tbody>\n",
       "\t<tr><td>83.25942   </td><td>19.02287   </td><td>6.340556   </td><td>13220240674</td><td>93.13695   </td><td>30.71667   </td><td>2.312333   </td><td>42.99137   </td></tr>\n",
       "</tbody>\n",
       "</table>\n"
      ],
      "text/latex": [
       "\\begin{tabular}{llllllll}\n",
       " Consumo\\_final & Homicidios & Desempleo & Gasto\\_Educacion & Electricidad & Tiempo\\_negocio & Fertilidad & Credito\\\\\n",
       "\\hline\n",
       "\t 83.25942    & 19.02287    & 6.340556    & 13220240674 & 93.13695    & 30.71667    & 2.312333    & 42.99137   \\\\\n",
       "\\end{tabular}\n"
      ],
      "text/markdown": [
       "\n",
       "| Consumo_final | Homicidios | Desempleo | Gasto_Educacion | Electricidad | Tiempo_negocio | Fertilidad | Credito |\n",
       "|---|---|---|---|---|---|---|---|\n",
       "| 83.25942    | 19.02287    | 6.340556    | 13220240674 | 93.13695    | 30.71667    | 2.312333    | 42.99137    |\n",
       "\n"
      ],
      "text/plain": [
       "     Consumo_final Homicidios Desempleo Gasto_Educacion Electricidad\n",
       "[1,] 83.25942      19.02287   6.340556  13220240674     93.13695    \n",
       "     Tiempo_negocio Fertilidad Credito \n",
       "[1,] 30.71667       2.312333   42.99137"
      ]
     },
     "metadata": {},
     "output_type": "display_data"
    }
   ],
   "source": [
    "##Promedio := (1/n)i'X\n",
    "promedio <- 1/F * t(unos)%*%X \n",
    "promedio"
   ]
  },
  {
   "cell_type": "code",
   "execution_count": 35,
   "id": "51547e49",
   "metadata": {},
   "outputs": [
    {
     "data": {
      "text/html": [
       "<table>\n",
       "<thead><tr><th></th><th scope=col>Suma</th><th scope=col>Promedio</th></tr></thead>\n",
       "<tbody>\n",
       "\t<tr><th scope=row>Consumo_final</th><td>        1498.6696 </td><td>         83.259420</td></tr>\n",
       "\t<tr><th scope=row>Homicidios</th><td>         342.4117 </td><td>         19.022870</td></tr>\n",
       "\t<tr><th scope=row>Desempleo</th><td>         114.1300 </td><td>          6.340556</td></tr>\n",
       "\t<tr><th scope=row>Gasto_Educacion</th><td>237964332139.6200 </td><td>13220240674.423332</td></tr>\n",
       "\t<tr><th scope=row>Electricidad</th><td>        1676.4652 </td><td>         93.136953</td></tr>\n",
       "\t<tr><th scope=row>Tiempo_negocio</th><td>         552.9000 </td><td>         30.716667</td></tr>\n",
       "\t<tr><th scope=row>Fertilidad</th><td>          41.6220 </td><td>          2.312333</td></tr>\n",
       "\t<tr><th scope=row>Credito</th><td>         773.8446 </td><td>         42.991369</td></tr>\n",
       "</tbody>\n",
       "</table>\n"
      ],
      "text/latex": [
       "\\begin{tabular}{r|ll}\n",
       "  & Suma & Promedio\\\\\n",
       "\\hline\n",
       "\tConsumo\\_final &         1498.6696  &          83.259420\\\\\n",
       "\tHomicidios &          342.4117  &          19.022870\\\\\n",
       "\tDesempleo &          114.1300  &           6.340556\\\\\n",
       "\tGasto\\_Educacion & 237964332139.6200  & 13220240674.423332\\\\\n",
       "\tElectricidad &         1676.4652  &          93.136953\\\\\n",
       "\tTiempo\\_negocio &          552.9000  &          30.716667\\\\\n",
       "\tFertilidad &           41.6220  &           2.312333\\\\\n",
       "\tCredito &          773.8446  &          42.991369\\\\\n",
       "\\end{tabular}\n"
      ],
      "text/markdown": [
       "\n",
       "| <!--/--> | Suma | Promedio |\n",
       "|---|---|---|\n",
       "| Consumo_final |         1498.6696  |          83.259420 |\n",
       "| Homicidios |          342.4117  |          19.022870 |\n",
       "| Desempleo |          114.1300  |           6.340556 |\n",
       "| Gasto_Educacion | 237964332139.6200  | 13220240674.423332 |\n",
       "| Electricidad |         1676.4652  |          93.136953 |\n",
       "| Tiempo_negocio |          552.9000  |          30.716667 |\n",
       "| Fertilidad |           41.6220  |           2.312333 |\n",
       "| Credito |          773.8446  |          42.991369 |\n",
       "\n"
      ],
      "text/plain": [
       "                Suma              Promedio          \n",
       "Consumo_final           1498.6696          83.259420\n",
       "Homicidios               342.4117          19.022870\n",
       "Desempleo                114.1300           6.340556\n",
       "Gasto_Educacion 237964332139.6200 13220240674.423332\n",
       "Electricidad            1676.4652          93.136953\n",
       "Tiempo_negocio           552.9000          30.716667\n",
       "Fertilidad                41.6220           2.312333\n",
       "Credito                  773.8446          42.991369"
      ]
     },
     "metadata": {},
     "output_type": "display_data"
    }
   ],
   "source": [
    "base_promsum <- data.frame(Suma = t(total) , Promedio = t(promedio))\n",
    "format(base_promsum, scientific = FALSE)"
   ]
  },
  {
   "cell_type": "code",
   "execution_count": 43,
   "id": "65fef027",
   "metadata": {},
   "outputs": [
    {
     "data": {
      "text/html": [
       "<strong>Consumo_final:</strong> 83.2594200922222"
      ],
      "text/latex": [
       "\\textbf{Consumo\\textbackslash{}\\_final:} 83.2594200922222"
      ],
      "text/markdown": [
       "**Consumo_final:** 83.2594200922222"
      ],
      "text/plain": [
       "Consumo_final \n",
       "     83.25942 "
      ]
     },
     "metadata": {},
     "output_type": "display_data"
    }
   ],
   "source": [
    "promedio_consumo <- promedio[,1]\n",
    "promedio_consumo"
   ]
  },
  {
   "cell_type": "code",
   "execution_count": 45,
   "id": "2a530dcc",
   "metadata": {},
   "outputs": [
    {
     "data": {
      "text/html": [
       "<ol class=list-inline>\n",
       "\t<li>Argentina</li>\n",
       "\t<li>Bolivia</li>\n",
       "\t<li>Brasil</li>\n",
       "\t<li>Colombia</li>\n",
       "\t<li>El Salvador</li>\n",
       "\t<li>Guatemala</li>\n",
       "\t<li>Haiti</li>\n",
       "\t<li>Honduras</li>\n",
       "\t<li>Nicaragua</li>\n",
       "</ol>\n",
       "\n",
       "<details>\n",
       "\t<summary style=display:list-item;cursor:pointer>\n",
       "\t\t<strong>Levels</strong>:\n",
       "\t</summary>\n",
       "\t<ol class=list-inline>\n",
       "\t\t<li>'Argentina'</li>\n",
       "\t\t<li>'Bolivia'</li>\n",
       "\t\t<li>'Brasil'</li>\n",
       "\t\t<li>'Chile'</li>\n",
       "\t\t<li>'Colombia'</li>\n",
       "\t\t<li>'Costa Rica'</li>\n",
       "\t\t<li>'Ecuador'</li>\n",
       "\t\t<li>'El Salvador'</li>\n",
       "\t\t<li>'Guatemala'</li>\n",
       "\t\t<li>'Haiti'</li>\n",
       "\t\t<li>'Honduras'</li>\n",
       "\t\t<li>'Mexico'</li>\n",
       "\t\t<li>'Nicaragua'</li>\n",
       "\t\t<li>'PanamÃ¡'</li>\n",
       "\t\t<li>'Paraguay'</li>\n",
       "\t\t<li>'Peru'</li>\n",
       "\t\t<li>'Republica Dominicana'</li>\n",
       "\t\t<li>'Uruguay'</li>\n",
       "\t</ol>\n",
       "</details>"
      ],
      "text/latex": [
       "\\begin{enumerate*}\n",
       "\\item Argentina\n",
       "\\item Bolivia\n",
       "\\item Brasil\n",
       "\\item Colombia\n",
       "\\item El Salvador\n",
       "\\item Guatemala\n",
       "\\item Haiti\n",
       "\\item Honduras\n",
       "\\item Nicaragua\n",
       "\\end{enumerate*}\n",
       "\n",
       "\\emph{Levels}: \\begin{enumerate*}\n",
       "\\item 'Argentina'\n",
       "\\item 'Bolivia'\n",
       "\\item 'Brasil'\n",
       "\\item 'Chile'\n",
       "\\item 'Colombia'\n",
       "\\item 'Costa Rica'\n",
       "\\item 'Ecuador'\n",
       "\\item 'El Salvador'\n",
       "\\item 'Guatemala'\n",
       "\\item 'Haiti'\n",
       "\\item 'Honduras'\n",
       "\\item 'Mexico'\n",
       "\\item 'Nicaragua'\n",
       "\\item 'PanamÃ¡'\n",
       "\\item 'Paraguay'\n",
       "\\item 'Peru'\n",
       "\\item 'Republica Dominicana'\n",
       "\\item 'Uruguay'\n",
       "\\end{enumerate*}\n"
      ],
      "text/markdown": [
       "1. Argentina\n",
       "2. Bolivia\n",
       "3. Brasil\n",
       "4. Colombia\n",
       "5. El Salvador\n",
       "6. Guatemala\n",
       "7. Haiti\n",
       "8. Honduras\n",
       "9. Nicaragua\n",
       "\n",
       "\n",
       "\n",
       "**Levels**: 1. 'Argentina'\n",
       "2. 'Bolivia'\n",
       "3. 'Brasil'\n",
       "4. 'Chile'\n",
       "5. 'Colombia'\n",
       "6. 'Costa Rica'\n",
       "7. 'Ecuador'\n",
       "8. 'El Salvador'\n",
       "9. 'Guatemala'\n",
       "10. 'Haiti'\n",
       "11. 'Honduras'\n",
       "12. 'Mexico'\n",
       "13. 'Nicaragua'\n",
       "14. 'PanamÃ¡'\n",
       "15. 'Paraguay'\n",
       "16. 'Peru'\n",
       "17. 'Republica Dominicana'\n",
       "18. 'Uruguay'\n",
       "\n",
       "\n"
      ],
      "text/plain": [
       "[1] Argentina   Bolivia     Brasil      Colombia    El Salvador Guatemala  \n",
       "[7] Haiti       Honduras    Nicaragua  \n",
       "18 Levels: Argentina Bolivia Brasil Chile Colombia Costa Rica ... Uruguay"
      ]
     },
     "metadata": {},
     "output_type": "display_data"
    },
    {
     "data": {
      "text/html": [
       "<table>\n",
       "<thead><tr><th scope=col>Pais</th><th scope=col>Consumo_final</th><th scope=col>Homicidios</th><th scope=col>Desempleo</th><th scope=col>Gasto_Educacion</th><th scope=col>Electricidad</th><th scope=col>Tiempo_negocio</th><th scope=col>Fertilidad</th><th scope=col>Credito</th></tr></thead>\n",
       "<tbody>\n",
       "\t<tr><td>Argentina           </td><td> 83.37647           </td><td> 6.033310           </td><td> 7.97               </td><td> 27576652846        </td><td> 99.95602           </td><td>24.5                </td><td>2.288               </td><td>13.22519            </td></tr>\n",
       "\t<tr><td>Bolivia             </td><td> 86.36766           </td><td> 6.218374           </td><td> 3.50               </td><td>  2025869999        </td><td> 91.80000           </td><td>45.0                </td><td>2.829               </td><td>57.40652            </td></tr>\n",
       "\t<tr><td>Brasil              </td><td> 84.63078           </td><td>29.877807           </td><td>11.60               </td><td>109562528771        </td><td> 99.70000           </td><td>82.5                </td><td>1.747               </td><td>62.16956            </td></tr>\n",
       "\t<tr><td>Chile               </td><td> 77.17885           </td><td> 3.360962           </td><td> 6.74               </td><td> 12391148419        </td><td>100.00000           </td><td> 7.5                </td><td>1.713               </td><td>79.66644            </td></tr>\n",
       "\t<tr><td>Colombia            </td><td> 83.60095           </td><td>25.743617           </td><td> 8.69               </td><td>  9819719488        </td><td> 98.40000           </td><td>11.0                </td><td>1.843               </td><td>47.03503            </td></tr>\n",
       "\t<tr><td>Costa Rica          </td><td> 80.76934           </td><td>11.797517           </td><td> 8.60               </td><td>  3897865404        </td><td> 99.50000           </td><td>22.5                </td><td>1.789               </td><td>57.83712            </td></tr>\n",
       "\t<tr><td>Ecuador             </td><td> 74.53272           </td><td> 5.839508           </td><td> 4.60               </td><td>  3856322934        </td><td> 98.70000           </td><td>48.5                </td><td>2.475               </td><td>28.73677            </td></tr>\n",
       "\t<tr><td>El Salvador         </td><td> 99.93440           </td><td>83.006392           </td><td> 4.42               </td><td>   860383453        </td><td> 96.00000           </td><td>16.5                </td><td>2.079               </td><td>48.73706            </td></tr>\n",
       "\t<tr><td>Guatemala           </td><td> 95.00459           </td><td>27.256699           </td><td> 2.58               </td><td>  1895243897        </td><td> 91.79523           </td><td>26.5                </td><td>2.973               </td><td>35.14384            </td></tr>\n",
       "\t<tr><td>Haiti               </td><td>107.09556           </td><td> 9.483416           </td><td>13.86               </td><td>   201286932        </td><td> 40.40000           </td><td>97.0                </td><td>3.041               </td><td>10.21026            </td></tr>\n",
       "\t<tr><td>Honduras            </td><td> 91.01038           </td><td>55.550797           </td><td> 6.73               </td><td>  1278619860        </td><td> 91.60000           </td><td>42.0                </td><td>2.536               </td><td>56.45055            </td></tr>\n",
       "\t<tr><td>Mexico              </td><td> 77.53263           </td><td>19.912695           </td><td> 3.86               </td><td> 51197664711        </td><td> 99.50000           </td><td> 8.4                </td><td>2.186               </td><td>25.90855            </td></tr>\n",
       "\t<tr><td>Nicaragua           </td><td> 84.84909           </td><td> 7.185948           </td><td> 3.90               </td><td>   518727267        </td><td> 84.74319           </td><td>14.0                </td><td>2.455               </td><td>36.69388            </td></tr>\n",
       "\t<tr><td>PanamÃ¡             </td><td> 62.96313           </td><td>10.032021           </td><td> 3.32               </td><td>  1505617932        </td><td> 93.17072           </td><td> 6.0                </td><td>2.514               </td><td>79.10008            </td></tr>\n",
       "\t<tr><td>Paraguay            </td><td> 73.65125           </td><td> 9.870346           </td><td> 5.26               </td><td>  1163111782        </td><td> 98.40000           </td><td>35.0                </td><td>2.479               </td><td>41.32981            </td></tr>\n",
       "\t<tr><td>Peru                </td><td> 78.16690           </td><td> 7.873625           </td><td> 3.38               </td><td>  5983858940        </td><td> 94.20000           </td><td>41.0                </td><td>2.297               </td><td>42.80881            </td></tr>\n",
       "\t<tr><td>Republica Dominicana</td><td> 80.79502           </td><td>15.541842           </td><td> 7.28               </td><td>  1825217542        </td><td> 98.90000           </td><td>18.5                </td><td>2.387               </td><td>25.62799            </td></tr>\n",
       "\t<tr><td>Uruguay             </td><td> 77.20982           </td><td> 7.826785           </td><td> 7.84               </td><td>  2404491962        </td><td> 99.70000           </td><td> 6.5                </td><td>1.991               </td><td>25.75718            </td></tr>\n",
       "</tbody>\n",
       "</table>\n"
      ],
      "text/latex": [
       "\\begin{tabular}{r|lllllllll}\n",
       " Pais & Consumo\\_final & Homicidios & Desempleo & Gasto\\_Educacion & Electricidad & Tiempo\\_negocio & Fertilidad & Credito\\\\\n",
       "\\hline\n",
       "\t Argentina            &  83.37647            &  6.033310            &  7.97                &  27576652846         &  99.95602            & 24.5                 & 2.288                & 13.22519            \\\\\n",
       "\t Bolivia              &  86.36766            &  6.218374            &  3.50                &   2025869999         &  91.80000            & 45.0                 & 2.829                & 57.40652            \\\\\n",
       "\t Brasil               &  84.63078            & 29.877807            & 11.60                & 109562528771         &  99.70000            & 82.5                 & 1.747                & 62.16956            \\\\\n",
       "\t Chile                &  77.17885            &  3.360962            &  6.74                &  12391148419         & 100.00000            &  7.5                 & 1.713                & 79.66644            \\\\\n",
       "\t Colombia             &  83.60095            & 25.743617            &  8.69                &   9819719488         &  98.40000            & 11.0                 & 1.843                & 47.03503            \\\\\n",
       "\t Costa Rica           &  80.76934            & 11.797517            &  8.60                &   3897865404         &  99.50000            & 22.5                 & 1.789                & 57.83712            \\\\\n",
       "\t Ecuador              &  74.53272            &  5.839508            &  4.60                &   3856322934         &  98.70000            & 48.5                 & 2.475                & 28.73677            \\\\\n",
       "\t El Salvador          &  99.93440            & 83.006392            &  4.42                &    860383453         &  96.00000            & 16.5                 & 2.079                & 48.73706            \\\\\n",
       "\t Guatemala            &  95.00459            & 27.256699            &  2.58                &   1895243897         &  91.79523            & 26.5                 & 2.973                & 35.14384            \\\\\n",
       "\t Haiti                & 107.09556            &  9.483416            & 13.86                &    201286932         &  40.40000            & 97.0                 & 3.041                & 10.21026            \\\\\n",
       "\t Honduras             &  91.01038            & 55.550797            &  6.73                &   1278619860         &  91.60000            & 42.0                 & 2.536                & 56.45055            \\\\\n",
       "\t Mexico               &  77.53263            & 19.912695            &  3.86                &  51197664711         &  99.50000            &  8.4                 & 2.186                & 25.90855            \\\\\n",
       "\t Nicaragua            &  84.84909            &  7.185948            &  3.90                &    518727267         &  84.74319            & 14.0                 & 2.455                & 36.69388            \\\\\n",
       "\t PanamÃ¡              &  62.96313            & 10.032021            &  3.32                &   1505617932         &  93.17072            &  6.0                 & 2.514                & 79.10008            \\\\\n",
       "\t Paraguay             &  73.65125            &  9.870346            &  5.26                &   1163111782         &  98.40000            & 35.0                 & 2.479                & 41.32981            \\\\\n",
       "\t Peru                 &  78.16690            &  7.873625            &  3.38                &   5983858940         &  94.20000            & 41.0                 & 2.297                & 42.80881            \\\\\n",
       "\t Republica Dominicana &  80.79502            & 15.541842            &  7.28                &   1825217542         &  98.90000            & 18.5                 & 2.387                & 25.62799            \\\\\n",
       "\t Uruguay              &  77.20982            &  7.826785            &  7.84                &   2404491962         &  99.70000            &  6.5                 & 1.991                & 25.75718            \\\\\n",
       "\\end{tabular}\n"
      ],
      "text/markdown": [
       "\n",
       "| Pais | Consumo_final | Homicidios | Desempleo | Gasto_Educacion | Electricidad | Tiempo_negocio | Fertilidad | Credito |\n",
       "|---|---|---|---|---|---|---|---|---|\n",
       "| Argentina            |  83.37647            |  6.033310            |  7.97                |  27576652846         |  99.95602            | 24.5                 | 2.288                | 13.22519             |\n",
       "| Bolivia              |  86.36766            |  6.218374            |  3.50                |   2025869999         |  91.80000            | 45.0                 | 2.829                | 57.40652             |\n",
       "| Brasil               |  84.63078            | 29.877807            | 11.60                | 109562528771         |  99.70000            | 82.5                 | 1.747                | 62.16956             |\n",
       "| Chile                |  77.17885            |  3.360962            |  6.74                |  12391148419         | 100.00000            |  7.5                 | 1.713                | 79.66644             |\n",
       "| Colombia             |  83.60095            | 25.743617            |  8.69                |   9819719488         |  98.40000            | 11.0                 | 1.843                | 47.03503             |\n",
       "| Costa Rica           |  80.76934            | 11.797517            |  8.60                |   3897865404         |  99.50000            | 22.5                 | 1.789                | 57.83712             |\n",
       "| Ecuador              |  74.53272            |  5.839508            |  4.60                |   3856322934         |  98.70000            | 48.5                 | 2.475                | 28.73677             |\n",
       "| El Salvador          |  99.93440            | 83.006392            |  4.42                |    860383453         |  96.00000            | 16.5                 | 2.079                | 48.73706             |\n",
       "| Guatemala            |  95.00459            | 27.256699            |  2.58                |   1895243897         |  91.79523            | 26.5                 | 2.973                | 35.14384             |\n",
       "| Haiti                | 107.09556            |  9.483416            | 13.86                |    201286932         |  40.40000            | 97.0                 | 3.041                | 10.21026             |\n",
       "| Honduras             |  91.01038            | 55.550797            |  6.73                |   1278619860         |  91.60000            | 42.0                 | 2.536                | 56.45055             |\n",
       "| Mexico               |  77.53263            | 19.912695            |  3.86                |  51197664711         |  99.50000            |  8.4                 | 2.186                | 25.90855             |\n",
       "| Nicaragua            |  84.84909            |  7.185948            |  3.90                |    518727267         |  84.74319            | 14.0                 | 2.455                | 36.69388             |\n",
       "| PanamÃ¡              |  62.96313            | 10.032021            |  3.32                |   1505617932         |  93.17072            |  6.0                 | 2.514                | 79.10008             |\n",
       "| Paraguay             |  73.65125            |  9.870346            |  5.26                |   1163111782         |  98.40000            | 35.0                 | 2.479                | 41.32981             |\n",
       "| Peru                 |  78.16690            |  7.873625            |  3.38                |   5983858940         |  94.20000            | 41.0                 | 2.297                | 42.80881             |\n",
       "| Republica Dominicana |  80.79502            | 15.541842            |  7.28                |   1825217542         |  98.90000            | 18.5                 | 2.387                | 25.62799             |\n",
       "| Uruguay              |  77.20982            |  7.826785            |  7.84                |   2404491962         |  99.70000            |  6.5                 | 1.991                | 25.75718             |\n",
       "\n"
      ],
      "text/plain": [
       "   Pais                 Consumo_final Homicidios Desempleo Gasto_Educacion\n",
       "1  Argentina             83.37647      6.033310   7.97      27576652846   \n",
       "2  Bolivia               86.36766      6.218374   3.50       2025869999   \n",
       "3  Brasil                84.63078     29.877807  11.60     109562528771   \n",
       "4  Chile                 77.17885      3.360962   6.74      12391148419   \n",
       "5  Colombia              83.60095     25.743617   8.69       9819719488   \n",
       "6  Costa Rica            80.76934     11.797517   8.60       3897865404   \n",
       "7  Ecuador               74.53272      5.839508   4.60       3856322934   \n",
       "8  El Salvador           99.93440     83.006392   4.42        860383453   \n",
       "9  Guatemala             95.00459     27.256699   2.58       1895243897   \n",
       "10 Haiti                107.09556      9.483416  13.86        201286932   \n",
       "11 Honduras              91.01038     55.550797   6.73       1278619860   \n",
       "12 Mexico                77.53263     19.912695   3.86      51197664711   \n",
       "13 Nicaragua             84.84909      7.185948   3.90        518727267   \n",
       "14 PanamÃ¡               62.96313     10.032021   3.32       1505617932   \n",
       "15 Paraguay              73.65125      9.870346   5.26       1163111782   \n",
       "16 Peru                  78.16690      7.873625   3.38       5983858940   \n",
       "17 Republica Dominicana  80.79502     15.541842   7.28       1825217542   \n",
       "18 Uruguay               77.20982      7.826785   7.84       2404491962   \n",
       "   Electricidad Tiempo_negocio Fertilidad Credito \n",
       "1   99.95602    24.5           2.288      13.22519\n",
       "2   91.80000    45.0           2.829      57.40652\n",
       "3   99.70000    82.5           1.747      62.16956\n",
       "4  100.00000     7.5           1.713      79.66644\n",
       "5   98.40000    11.0           1.843      47.03503\n",
       "6   99.50000    22.5           1.789      57.83712\n",
       "7   98.70000    48.5           2.475      28.73677\n",
       "8   96.00000    16.5           2.079      48.73706\n",
       "9   91.79523    26.5           2.973      35.14384\n",
       "10  40.40000    97.0           3.041      10.21026\n",
       "11  91.60000    42.0           2.536      56.45055\n",
       "12  99.50000     8.4           2.186      25.90855\n",
       "13  84.74319    14.0           2.455      36.69388\n",
       "14  93.17072     6.0           2.514      79.10008\n",
       "15  98.40000    35.0           2.479      41.32981\n",
       "16  94.20000    41.0           2.297      42.80881\n",
       "17  98.90000    18.5           2.387      25.62799\n",
       "18  99.70000     6.5           1.991      25.75718"
      ]
     },
     "metadata": {},
     "output_type": "display_data"
    }
   ],
   "source": [
    "data[data$Consumo_final>= promedio_consumo,1] ##filtros\n",
    "data"
   ]
  },
  {
   "cell_type": "code",
   "execution_count": 46,
   "id": "b9823bc5",
   "metadata": {},
   "outputs": [
    {
     "data": {
      "text/html": [
       "<table>\n",
       "<thead><tr><th scope=col>Consumo_final</th><th scope=col>Homicidios</th><th scope=col>Desempleo</th><th scope=col>Gasto_Educacion</th><th scope=col>Electricidad</th><th scope=col>Tiempo_negocio</th><th scope=col>Fertilidad</th><th scope=col>Credito</th></tr></thead>\n",
       "<tbody>\n",
       "\t<tr><td>83.25942   </td><td>19.02287   </td><td>6.340556   </td><td>13220240674</td><td>93.13695   </td><td>30.71667   </td><td>2.312333   </td><td>42.99137   </td></tr>\n",
       "</tbody>\n",
       "</table>\n"
      ],
      "text/latex": [
       "\\begin{tabular}{llllllll}\n",
       " Consumo\\_final & Homicidios & Desempleo & Gasto\\_Educacion & Electricidad & Tiempo\\_negocio & Fertilidad & Credito\\\\\n",
       "\\hline\n",
       "\t 83.25942    & 19.02287    & 6.340556    & 13220240674 & 93.13695    & 30.71667    & 2.312333    & 42.99137   \\\\\n",
       "\\end{tabular}\n"
      ],
      "text/markdown": [
       "\n",
       "| Consumo_final | Homicidios | Desempleo | Gasto_Educacion | Electricidad | Tiempo_negocio | Fertilidad | Credito |\n",
       "|---|---|---|---|---|---|---|---|\n",
       "| 83.25942    | 19.02287    | 6.340556    | 13220240674 | 93.13695    | 30.71667    | 2.312333    | 42.99137    |\n",
       "\n"
      ],
      "text/plain": [
       "     Consumo_final Homicidios Desempleo Gasto_Educacion Electricidad\n",
       "[1,] 83.25942      19.02287   6.340556  13220240674     93.13695    \n",
       "     Tiempo_negocio Fertilidad Credito \n",
       "[1,] 30.71667       2.312333   42.99137"
      ]
     },
     "metadata": {},
     "output_type": "display_data"
    }
   ],
   "source": [
    "promedio"
   ]
  },
  {
   "cell_type": "code",
   "execution_count": 47,
   "id": "63d57690",
   "metadata": {},
   "outputs": [
    {
     "data": {
      "text/html": [
       "<strong>Fertilidad:</strong> 2.31233333333333"
      ],
      "text/latex": [
       "\\textbf{Fertilidad:} 2.31233333333333"
      ],
      "text/markdown": [
       "**Fertilidad:** 2.31233333333333"
      ],
      "text/plain": [
       "Fertilidad \n",
       "  2.312333 "
      ]
     },
     "metadata": {},
     "output_type": "display_data"
    }
   ],
   "source": [
    "promedio_fertilidad <- promedio[,7]\n",
    "promedio_fertilidad"
   ]
  },
  {
   "cell_type": "code",
   "execution_count": 48,
   "id": "17c5e033",
   "metadata": {},
   "outputs": [
    {
     "data": {
      "text/html": [
       "<ol class=list-inline>\n",
       "\t<li>Argentina</li>\n",
       "\t<li>Brasil</li>\n",
       "\t<li>Chile</li>\n",
       "\t<li>Colombia</li>\n",
       "\t<li>Costa Rica</li>\n",
       "\t<li>El Salvador</li>\n",
       "\t<li>Mexico</li>\n",
       "\t<li>Peru</li>\n",
       "\t<li>Uruguay</li>\n",
       "</ol>\n",
       "\n",
       "<details>\n",
       "\t<summary style=display:list-item;cursor:pointer>\n",
       "\t\t<strong>Levels</strong>:\n",
       "\t</summary>\n",
       "\t<ol class=list-inline>\n",
       "\t\t<li>'Argentina'</li>\n",
       "\t\t<li>'Bolivia'</li>\n",
       "\t\t<li>'Brasil'</li>\n",
       "\t\t<li>'Chile'</li>\n",
       "\t\t<li>'Colombia'</li>\n",
       "\t\t<li>'Costa Rica'</li>\n",
       "\t\t<li>'Ecuador'</li>\n",
       "\t\t<li>'El Salvador'</li>\n",
       "\t\t<li>'Guatemala'</li>\n",
       "\t\t<li>'Haiti'</li>\n",
       "\t\t<li>'Honduras'</li>\n",
       "\t\t<li>'Mexico'</li>\n",
       "\t\t<li>'Nicaragua'</li>\n",
       "\t\t<li>'PanamÃ¡'</li>\n",
       "\t\t<li>'Paraguay'</li>\n",
       "\t\t<li>'Peru'</li>\n",
       "\t\t<li>'Republica Dominicana'</li>\n",
       "\t\t<li>'Uruguay'</li>\n",
       "\t</ol>\n",
       "</details>"
      ],
      "text/latex": [
       "\\begin{enumerate*}\n",
       "\\item Argentina\n",
       "\\item Brasil\n",
       "\\item Chile\n",
       "\\item Colombia\n",
       "\\item Costa Rica\n",
       "\\item El Salvador\n",
       "\\item Mexico\n",
       "\\item Peru\n",
       "\\item Uruguay\n",
       "\\end{enumerate*}\n",
       "\n",
       "\\emph{Levels}: \\begin{enumerate*}\n",
       "\\item 'Argentina'\n",
       "\\item 'Bolivia'\n",
       "\\item 'Brasil'\n",
       "\\item 'Chile'\n",
       "\\item 'Colombia'\n",
       "\\item 'Costa Rica'\n",
       "\\item 'Ecuador'\n",
       "\\item 'El Salvador'\n",
       "\\item 'Guatemala'\n",
       "\\item 'Haiti'\n",
       "\\item 'Honduras'\n",
       "\\item 'Mexico'\n",
       "\\item 'Nicaragua'\n",
       "\\item 'PanamÃ¡'\n",
       "\\item 'Paraguay'\n",
       "\\item 'Peru'\n",
       "\\item 'Republica Dominicana'\n",
       "\\item 'Uruguay'\n",
       "\\end{enumerate*}\n"
      ],
      "text/markdown": [
       "1. Argentina\n",
       "2. Brasil\n",
       "3. Chile\n",
       "4. Colombia\n",
       "5. Costa Rica\n",
       "6. El Salvador\n",
       "7. Mexico\n",
       "8. Peru\n",
       "9. Uruguay\n",
       "\n",
       "\n",
       "\n",
       "**Levels**: 1. 'Argentina'\n",
       "2. 'Bolivia'\n",
       "3. 'Brasil'\n",
       "4. 'Chile'\n",
       "5. 'Colombia'\n",
       "6. 'Costa Rica'\n",
       "7. 'Ecuador'\n",
       "8. 'El Salvador'\n",
       "9. 'Guatemala'\n",
       "10. 'Haiti'\n",
       "11. 'Honduras'\n",
       "12. 'Mexico'\n",
       "13. 'Nicaragua'\n",
       "14. 'PanamÃ¡'\n",
       "15. 'Paraguay'\n",
       "16. 'Peru'\n",
       "17. 'Republica Dominicana'\n",
       "18. 'Uruguay'\n",
       "\n",
       "\n"
      ],
      "text/plain": [
       "[1] Argentina   Brasil      Chile       Colombia    Costa Rica  El Salvador\n",
       "[7] Mexico      Peru        Uruguay    \n",
       "18 Levels: Argentina Bolivia Brasil Chile Colombia Costa Rica ... Uruguay"
      ]
     },
     "metadata": {},
     "output_type": "display_data"
    }
   ],
   "source": [
    "data[data$Fertilidad < promedio_fertilidad,1]"
   ]
  },
  {
   "cell_type": "code",
   "execution_count": 51,
   "id": "da70e3a0",
   "metadata": {},
   "outputs": [
    {
     "data": {
      "text/html": [
       "<strong>Tiempo_negocio:</strong> 30.7166666666667"
      ],
      "text/latex": [
       "\\textbf{Tiempo\\textbackslash{}\\_negocio:} 30.7166666666667"
      ],
      "text/markdown": [
       "**Tiempo_negocio:** 30.7166666666667"
      ],
      "text/plain": [
       "Tiempo_negocio \n",
       "      30.71667 "
      ]
     },
     "metadata": {},
     "output_type": "display_data"
    },
    {
     "data": {
      "text/html": [
       "<strong>Tiempo_negocio:</strong> 61.4333333333333"
      ],
      "text/latex": [
       "\\textbf{Tiempo\\textbackslash{}\\_negocio:} 61.4333333333333"
      ],
      "text/markdown": [
       "**Tiempo_negocio:** 61.4333333333333"
      ],
      "text/plain": [
       "Tiempo_negocio \n",
       "      61.43333 "
      ]
     },
     "metadata": {},
     "output_type": "display_data"
    }
   ],
   "source": [
    "##Filtro de paises con un tiempo mayor al doble del promedio\n",
    "promedio_tiempo_negocio <- promedio[,6]\n",
    "promedio_tiempo_negocio\n",
    "doble <- 2*promedio_tiempo_negocio\n",
    "doble"
   ]
  },
  {
   "cell_type": "code",
   "execution_count": 53,
   "id": "126477e8",
   "metadata": {},
   "outputs": [
    {
     "data": {
      "text/html": [
       "<ol class=list-inline>\n",
       "\t<li>Brasil</li>\n",
       "\t<li>Haiti</li>\n",
       "</ol>\n",
       "\n",
       "<details>\n",
       "\t<summary style=display:list-item;cursor:pointer>\n",
       "\t\t<strong>Levels</strong>:\n",
       "\t</summary>\n",
       "\t<ol class=list-inline>\n",
       "\t\t<li>'Argentina'</li>\n",
       "\t\t<li>'Bolivia'</li>\n",
       "\t\t<li>'Brasil'</li>\n",
       "\t\t<li>'Chile'</li>\n",
       "\t\t<li>'Colombia'</li>\n",
       "\t\t<li>'Costa Rica'</li>\n",
       "\t\t<li>'Ecuador'</li>\n",
       "\t\t<li>'El Salvador'</li>\n",
       "\t\t<li>'Guatemala'</li>\n",
       "\t\t<li>'Haiti'</li>\n",
       "\t\t<li>'Honduras'</li>\n",
       "\t\t<li>'Mexico'</li>\n",
       "\t\t<li>'Nicaragua'</li>\n",
       "\t\t<li>'PanamÃ¡'</li>\n",
       "\t\t<li>'Paraguay'</li>\n",
       "\t\t<li>'Peru'</li>\n",
       "\t\t<li>'Republica Dominicana'</li>\n",
       "\t\t<li>'Uruguay'</li>\n",
       "\t</ol>\n",
       "</details>"
      ],
      "text/latex": [
       "\\begin{enumerate*}\n",
       "\\item Brasil\n",
       "\\item Haiti\n",
       "\\end{enumerate*}\n",
       "\n",
       "\\emph{Levels}: \\begin{enumerate*}\n",
       "\\item 'Argentina'\n",
       "\\item 'Bolivia'\n",
       "\\item 'Brasil'\n",
       "\\item 'Chile'\n",
       "\\item 'Colombia'\n",
       "\\item 'Costa Rica'\n",
       "\\item 'Ecuador'\n",
       "\\item 'El Salvador'\n",
       "\\item 'Guatemala'\n",
       "\\item 'Haiti'\n",
       "\\item 'Honduras'\n",
       "\\item 'Mexico'\n",
       "\\item 'Nicaragua'\n",
       "\\item 'PanamÃ¡'\n",
       "\\item 'Paraguay'\n",
       "\\item 'Peru'\n",
       "\\item 'Republica Dominicana'\n",
       "\\item 'Uruguay'\n",
       "\\end{enumerate*}\n"
      ],
      "text/markdown": [
       "1. Brasil\n",
       "2. Haiti\n",
       "\n",
       "\n",
       "\n",
       "**Levels**: 1. 'Argentina'\n",
       "2. 'Bolivia'\n",
       "3. 'Brasil'\n",
       "4. 'Chile'\n",
       "5. 'Colombia'\n",
       "6. 'Costa Rica'\n",
       "7. 'Ecuador'\n",
       "8. 'El Salvador'\n",
       "9. 'Guatemala'\n",
       "10. 'Haiti'\n",
       "11. 'Honduras'\n",
       "12. 'Mexico'\n",
       "13. 'Nicaragua'\n",
       "14. 'PanamÃ¡'\n",
       "15. 'Paraguay'\n",
       "16. 'Peru'\n",
       "17. 'Republica Dominicana'\n",
       "18. 'Uruguay'\n",
       "\n",
       "\n"
      ],
      "text/plain": [
       "[1] Brasil Haiti \n",
       "18 Levels: Argentina Bolivia Brasil Chile Colombia Costa Rica ... Uruguay"
      ]
     },
     "metadata": {},
     "output_type": "display_data"
    },
    {
     "data": {
      "text/html": [
       "<table>\n",
       "<thead><tr><th scope=col>Pais</th><th scope=col>Consumo_final</th><th scope=col>Homicidios</th><th scope=col>Desempleo</th><th scope=col>Gasto_Educacion</th><th scope=col>Electricidad</th><th scope=col>Tiempo_negocio</th><th scope=col>Fertilidad</th><th scope=col>Credito</th></tr></thead>\n",
       "<tbody>\n",
       "\t<tr><td>Argentina           </td><td> 83.37647           </td><td> 6.033310           </td><td> 7.97               </td><td> 27576652846        </td><td> 99.95602           </td><td>24.5                </td><td>2.288               </td><td>13.22519            </td></tr>\n",
       "\t<tr><td>Bolivia             </td><td> 86.36766           </td><td> 6.218374           </td><td> 3.50               </td><td>  2025869999        </td><td> 91.80000           </td><td>45.0                </td><td>2.829               </td><td>57.40652            </td></tr>\n",
       "\t<tr><td>Brasil              </td><td> 84.63078           </td><td>29.877807           </td><td>11.60               </td><td>109562528771        </td><td> 99.70000           </td><td>82.5                </td><td>1.747               </td><td>62.16956            </td></tr>\n",
       "\t<tr><td>Chile               </td><td> 77.17885           </td><td> 3.360962           </td><td> 6.74               </td><td> 12391148419        </td><td>100.00000           </td><td> 7.5                </td><td>1.713               </td><td>79.66644            </td></tr>\n",
       "\t<tr><td>Colombia            </td><td> 83.60095           </td><td>25.743617           </td><td> 8.69               </td><td>  9819719488        </td><td> 98.40000           </td><td>11.0                </td><td>1.843               </td><td>47.03503            </td></tr>\n",
       "\t<tr><td>Costa Rica          </td><td> 80.76934           </td><td>11.797517           </td><td> 8.60               </td><td>  3897865404        </td><td> 99.50000           </td><td>22.5                </td><td>1.789               </td><td>57.83712            </td></tr>\n",
       "\t<tr><td>Ecuador             </td><td> 74.53272           </td><td> 5.839508           </td><td> 4.60               </td><td>  3856322934        </td><td> 98.70000           </td><td>48.5                </td><td>2.475               </td><td>28.73677            </td></tr>\n",
       "\t<tr><td>El Salvador         </td><td> 99.93440           </td><td>83.006392           </td><td> 4.42               </td><td>   860383453        </td><td> 96.00000           </td><td>16.5                </td><td>2.079               </td><td>48.73706            </td></tr>\n",
       "\t<tr><td>Guatemala           </td><td> 95.00459           </td><td>27.256699           </td><td> 2.58               </td><td>  1895243897        </td><td> 91.79523           </td><td>26.5                </td><td>2.973               </td><td>35.14384            </td></tr>\n",
       "\t<tr><td>Haiti               </td><td>107.09556           </td><td> 9.483416           </td><td>13.86               </td><td>   201286932        </td><td> 40.40000           </td><td>97.0                </td><td>3.041               </td><td>10.21026            </td></tr>\n",
       "\t<tr><td>Honduras            </td><td> 91.01038           </td><td>55.550797           </td><td> 6.73               </td><td>  1278619860        </td><td> 91.60000           </td><td>42.0                </td><td>2.536               </td><td>56.45055            </td></tr>\n",
       "\t<tr><td>Mexico              </td><td> 77.53263           </td><td>19.912695           </td><td> 3.86               </td><td> 51197664711        </td><td> 99.50000           </td><td> 8.4                </td><td>2.186               </td><td>25.90855            </td></tr>\n",
       "\t<tr><td>Nicaragua           </td><td> 84.84909           </td><td> 7.185948           </td><td> 3.90               </td><td>   518727267        </td><td> 84.74319           </td><td>14.0                </td><td>2.455               </td><td>36.69388            </td></tr>\n",
       "\t<tr><td>PanamÃ¡             </td><td> 62.96313           </td><td>10.032021           </td><td> 3.32               </td><td>  1505617932        </td><td> 93.17072           </td><td> 6.0                </td><td>2.514               </td><td>79.10008            </td></tr>\n",
       "\t<tr><td>Paraguay            </td><td> 73.65125           </td><td> 9.870346           </td><td> 5.26               </td><td>  1163111782        </td><td> 98.40000           </td><td>35.0                </td><td>2.479               </td><td>41.32981            </td></tr>\n",
       "\t<tr><td>Peru                </td><td> 78.16690           </td><td> 7.873625           </td><td> 3.38               </td><td>  5983858940        </td><td> 94.20000           </td><td>41.0                </td><td>2.297               </td><td>42.80881            </td></tr>\n",
       "\t<tr><td>Republica Dominicana</td><td> 80.79502           </td><td>15.541842           </td><td> 7.28               </td><td>  1825217542        </td><td> 98.90000           </td><td>18.5                </td><td>2.387               </td><td>25.62799            </td></tr>\n",
       "\t<tr><td>Uruguay             </td><td> 77.20982           </td><td> 7.826785           </td><td> 7.84               </td><td>  2404491962        </td><td> 99.70000           </td><td> 6.5                </td><td>1.991               </td><td>25.75718            </td></tr>\n",
       "</tbody>\n",
       "</table>\n"
      ],
      "text/latex": [
       "\\begin{tabular}{r|lllllllll}\n",
       " Pais & Consumo\\_final & Homicidios & Desempleo & Gasto\\_Educacion & Electricidad & Tiempo\\_negocio & Fertilidad & Credito\\\\\n",
       "\\hline\n",
       "\t Argentina            &  83.37647            &  6.033310            &  7.97                &  27576652846         &  99.95602            & 24.5                 & 2.288                & 13.22519            \\\\\n",
       "\t Bolivia              &  86.36766            &  6.218374            &  3.50                &   2025869999         &  91.80000            & 45.0                 & 2.829                & 57.40652            \\\\\n",
       "\t Brasil               &  84.63078            & 29.877807            & 11.60                & 109562528771         &  99.70000            & 82.5                 & 1.747                & 62.16956            \\\\\n",
       "\t Chile                &  77.17885            &  3.360962            &  6.74                &  12391148419         & 100.00000            &  7.5                 & 1.713                & 79.66644            \\\\\n",
       "\t Colombia             &  83.60095            & 25.743617            &  8.69                &   9819719488         &  98.40000            & 11.0                 & 1.843                & 47.03503            \\\\\n",
       "\t Costa Rica           &  80.76934            & 11.797517            &  8.60                &   3897865404         &  99.50000            & 22.5                 & 1.789                & 57.83712            \\\\\n",
       "\t Ecuador              &  74.53272            &  5.839508            &  4.60                &   3856322934         &  98.70000            & 48.5                 & 2.475                & 28.73677            \\\\\n",
       "\t El Salvador          &  99.93440            & 83.006392            &  4.42                &    860383453         &  96.00000            & 16.5                 & 2.079                & 48.73706            \\\\\n",
       "\t Guatemala            &  95.00459            & 27.256699            &  2.58                &   1895243897         &  91.79523            & 26.5                 & 2.973                & 35.14384            \\\\\n",
       "\t Haiti                & 107.09556            &  9.483416            & 13.86                &    201286932         &  40.40000            & 97.0                 & 3.041                & 10.21026            \\\\\n",
       "\t Honduras             &  91.01038            & 55.550797            &  6.73                &   1278619860         &  91.60000            & 42.0                 & 2.536                & 56.45055            \\\\\n",
       "\t Mexico               &  77.53263            & 19.912695            &  3.86                &  51197664711         &  99.50000            &  8.4                 & 2.186                & 25.90855            \\\\\n",
       "\t Nicaragua            &  84.84909            &  7.185948            &  3.90                &    518727267         &  84.74319            & 14.0                 & 2.455                & 36.69388            \\\\\n",
       "\t PanamÃ¡              &  62.96313            & 10.032021            &  3.32                &   1505617932         &  93.17072            &  6.0                 & 2.514                & 79.10008            \\\\\n",
       "\t Paraguay             &  73.65125            &  9.870346            &  5.26                &   1163111782         &  98.40000            & 35.0                 & 2.479                & 41.32981            \\\\\n",
       "\t Peru                 &  78.16690            &  7.873625            &  3.38                &   5983858940         &  94.20000            & 41.0                 & 2.297                & 42.80881            \\\\\n",
       "\t Republica Dominicana &  80.79502            & 15.541842            &  7.28                &   1825217542         &  98.90000            & 18.5                 & 2.387                & 25.62799            \\\\\n",
       "\t Uruguay              &  77.20982            &  7.826785            &  7.84                &   2404491962         &  99.70000            &  6.5                 & 1.991                & 25.75718            \\\\\n",
       "\\end{tabular}\n"
      ],
      "text/markdown": [
       "\n",
       "| Pais | Consumo_final | Homicidios | Desempleo | Gasto_Educacion | Electricidad | Tiempo_negocio | Fertilidad | Credito |\n",
       "|---|---|---|---|---|---|---|---|---|\n",
       "| Argentina            |  83.37647            |  6.033310            |  7.97                |  27576652846         |  99.95602            | 24.5                 | 2.288                | 13.22519             |\n",
       "| Bolivia              |  86.36766            |  6.218374            |  3.50                |   2025869999         |  91.80000            | 45.0                 | 2.829                | 57.40652             |\n",
       "| Brasil               |  84.63078            | 29.877807            | 11.60                | 109562528771         |  99.70000            | 82.5                 | 1.747                | 62.16956             |\n",
       "| Chile                |  77.17885            |  3.360962            |  6.74                |  12391148419         | 100.00000            |  7.5                 | 1.713                | 79.66644             |\n",
       "| Colombia             |  83.60095            | 25.743617            |  8.69                |   9819719488         |  98.40000            | 11.0                 | 1.843                | 47.03503             |\n",
       "| Costa Rica           |  80.76934            | 11.797517            |  8.60                |   3897865404         |  99.50000            | 22.5                 | 1.789                | 57.83712             |\n",
       "| Ecuador              |  74.53272            |  5.839508            |  4.60                |   3856322934         |  98.70000            | 48.5                 | 2.475                | 28.73677             |\n",
       "| El Salvador          |  99.93440            | 83.006392            |  4.42                |    860383453         |  96.00000            | 16.5                 | 2.079                | 48.73706             |\n",
       "| Guatemala            |  95.00459            | 27.256699            |  2.58                |   1895243897         |  91.79523            | 26.5                 | 2.973                | 35.14384             |\n",
       "| Haiti                | 107.09556            |  9.483416            | 13.86                |    201286932         |  40.40000            | 97.0                 | 3.041                | 10.21026             |\n",
       "| Honduras             |  91.01038            | 55.550797            |  6.73                |   1278619860         |  91.60000            | 42.0                 | 2.536                | 56.45055             |\n",
       "| Mexico               |  77.53263            | 19.912695            |  3.86                |  51197664711         |  99.50000            |  8.4                 | 2.186                | 25.90855             |\n",
       "| Nicaragua            |  84.84909            |  7.185948            |  3.90                |    518727267         |  84.74319            | 14.0                 | 2.455                | 36.69388             |\n",
       "| PanamÃ¡              |  62.96313            | 10.032021            |  3.32                |   1505617932         |  93.17072            |  6.0                 | 2.514                | 79.10008             |\n",
       "| Paraguay             |  73.65125            |  9.870346            |  5.26                |   1163111782         |  98.40000            | 35.0                 | 2.479                | 41.32981             |\n",
       "| Peru                 |  78.16690            |  7.873625            |  3.38                |   5983858940         |  94.20000            | 41.0                 | 2.297                | 42.80881             |\n",
       "| Republica Dominicana |  80.79502            | 15.541842            |  7.28                |   1825217542         |  98.90000            | 18.5                 | 2.387                | 25.62799             |\n",
       "| Uruguay              |  77.20982            |  7.826785            |  7.84                |   2404491962         |  99.70000            |  6.5                 | 1.991                | 25.75718             |\n",
       "\n"
      ],
      "text/plain": [
       "   Pais                 Consumo_final Homicidios Desempleo Gasto_Educacion\n",
       "1  Argentina             83.37647      6.033310   7.97      27576652846   \n",
       "2  Bolivia               86.36766      6.218374   3.50       2025869999   \n",
       "3  Brasil                84.63078     29.877807  11.60     109562528771   \n",
       "4  Chile                 77.17885      3.360962   6.74      12391148419   \n",
       "5  Colombia              83.60095     25.743617   8.69       9819719488   \n",
       "6  Costa Rica            80.76934     11.797517   8.60       3897865404   \n",
       "7  Ecuador               74.53272      5.839508   4.60       3856322934   \n",
       "8  El Salvador           99.93440     83.006392   4.42        860383453   \n",
       "9  Guatemala             95.00459     27.256699   2.58       1895243897   \n",
       "10 Haiti                107.09556      9.483416  13.86        201286932   \n",
       "11 Honduras              91.01038     55.550797   6.73       1278619860   \n",
       "12 Mexico                77.53263     19.912695   3.86      51197664711   \n",
       "13 Nicaragua             84.84909      7.185948   3.90        518727267   \n",
       "14 PanamÃ¡               62.96313     10.032021   3.32       1505617932   \n",
       "15 Paraguay              73.65125      9.870346   5.26       1163111782   \n",
       "16 Peru                  78.16690      7.873625   3.38       5983858940   \n",
       "17 Republica Dominicana  80.79502     15.541842   7.28       1825217542   \n",
       "18 Uruguay               77.20982      7.826785   7.84       2404491962   \n",
       "   Electricidad Tiempo_negocio Fertilidad Credito \n",
       "1   99.95602    24.5           2.288      13.22519\n",
       "2   91.80000    45.0           2.829      57.40652\n",
       "3   99.70000    82.5           1.747      62.16956\n",
       "4  100.00000     7.5           1.713      79.66644\n",
       "5   98.40000    11.0           1.843      47.03503\n",
       "6   99.50000    22.5           1.789      57.83712\n",
       "7   98.70000    48.5           2.475      28.73677\n",
       "8   96.00000    16.5           2.079      48.73706\n",
       "9   91.79523    26.5           2.973      35.14384\n",
       "10  40.40000    97.0           3.041      10.21026\n",
       "11  91.60000    42.0           2.536      56.45055\n",
       "12  99.50000     8.4           2.186      25.90855\n",
       "13  84.74319    14.0           2.455      36.69388\n",
       "14  93.17072     6.0           2.514      79.10008\n",
       "15  98.40000    35.0           2.479      41.32981\n",
       "16  94.20000    41.0           2.297      42.80881\n",
       "17  98.90000    18.5           2.387      25.62799\n",
       "18  99.70000     6.5           1.991      25.75718"
      ]
     },
     "metadata": {},
     "output_type": "display_data"
    }
   ],
   "source": [
    "data[data$Tiempo_negocio > doble,1]"
   ]
  },
  {
   "cell_type": "code",
   "execution_count": 55,
   "id": "ce11f10e",
   "metadata": {},
   "outputs": [],
   "source": [
    "##Coeficiente de variación := [SD(X) / mean(X)]*100\n",
    "##SD = (Variancia(X)) ^ 1/2\n",
    "## Matriz S := X' Mo X\n",
    "##Donde Mo:= [I - 1/n*ii´]\n",
    "Mo <- diag(F) - 1/F*unos%*%t(unos)\n",
    "## Matriz de variancias:= ¿es poblacional o es muestral? [Agrega el factor de correcion muestral = (1/n-1)]\n",
    "## S (poblacional) := X' Mo X\n",
    "## S (muestral) := (1/n-1) X' Mo X\n",
    "S <- 1/(F-1)*t(X)%*%Mo%*%X"
   ]
  },
  {
   "cell_type": "code",
   "execution_count": 57,
   "id": "aa62ff1c",
   "metadata": {},
   "outputs": [
    {
     "data": {
      "text/html": [
       "<table>\n",
       "<thead><tr><th></th><th scope=col>Consumo_final</th><th scope=col>Homicidios</th><th scope=col>Desempleo</th><th scope=col>Gasto_Educacion</th><th scope=col>Electricidad</th><th scope=col>Tiempo_negocio</th><th scope=col>Fertilidad</th><th scope=col>Credito</th></tr></thead>\n",
       "<tbody>\n",
       "\t<tr><th scope=row>Consumo_final</th><td>                  104.9075504</td><td>                  106.0649028</td><td>                   11.6632375</td><td>         -16934443874.6216240</td><td>                  -88.0008680</td><td>                  128.3039287</td><td>                    1.4270758</td><td>                  -71.8293266</td></tr>\n",
       "\t<tr><th scope=row>Homicidios</th><td>                  106.0649028</td><td>                  418.8968154</td><td>                   -2.7189988</td><td>          36985577293.7775650</td><td>                   22.2696002</td><td>                   -5.2036368</td><td>                   -0.8511007</td><td>                   62.1400339</td></tr>\n",
       "\t<tr><th scope=row>Desempleo</th><td>                   11.6632375</td><td>                   -2.7189988</td><td>                    9.4717820</td><td>          28958860153.4301720</td><td>                  -18.6680048</td><td>                   44.1444608</td><td>                   -0.2910973</td><td>                  -12.9410859</td></tr>\n",
       "\t<tr><th scope=row>Gasto_Educacion</th><td>         -16934443874.6218681</td><td>          36985577293.7774963</td><td>          28958860153.4301529</td><td>739919221026503262248.0000000</td><td>          84410148112.8522186</td><td>         228903537748.2382507</td><td>          -4714822955.7417316</td><td>          53390414714.8257294</td></tr>\n",
       "\t<tr><th scope=row>Electricidad</th><td>                  -88.0008680</td><td>                   22.2696002</td><td>                  -18.6680048</td><td>          84410148112.8524628</td><td>                  191.0120071</td><td>                 -216.7321332</td><td>                   -3.3360974</td><td>                   97.0648677</td></tr>\n",
       "\t<tr><th scope=row>Tiempo_negocio</th><td>                  128.3039287</td><td>                   -5.2036368</td><td>                   44.1444608</td><td>         228903537748.2383423</td><td>                 -216.7321332</td><td>                  660.2685294</td><td>                    3.6968412</td><td>                 -104.5702338</td></tr>\n",
       "\t<tr><th scope=row>Fertilidad</th><td>                    1.4270758</td><td>                   -0.8511007</td><td>                   -0.2910973</td><td>          -4714822955.7417212</td><td>                   -3.3360974</td><td>                    3.6968412</td><td>                    0.1619226</td><td>                   -3.0311077</td></tr>\n",
       "\t<tr><th scope=row>Credito</th><td>                  -71.8293266</td><td>                   62.1400339</td><td>                  -12.9410859</td><td>          53390414714.8259811</td><td>                   97.0648677</td><td>                 -104.5702338</td><td>                   -3.0311077</td><td>                  401.9760329</td></tr>\n",
       "</tbody>\n",
       "</table>\n"
      ],
      "text/latex": [
       "\\begin{tabular}{r|llllllll}\n",
       "  & Consumo\\_final & Homicidios & Desempleo & Gasto\\_Educacion & Electricidad & Tiempo\\_negocio & Fertilidad & Credito\\\\\n",
       "\\hline\n",
       "\tConsumo\\_final &                   104.9075504 &                   106.0649028 &                    11.6632375 &          -16934443874.6216240 &                   -88.0008680 &                   128.3039287 &                     1.4270758 &                   -71.8293266\\\\\n",
       "\tHomicidios &                   106.0649028 &                   418.8968154 &                    -2.7189988 &           36985577293.7775650 &                    22.2696002 &                    -5.2036368 &                    -0.8511007 &                    62.1400339\\\\\n",
       "\tDesempleo &                    11.6632375 &                    -2.7189988 &                     9.4717820 &           28958860153.4301720 &                   -18.6680048 &                    44.1444608 &                    -0.2910973 &                   -12.9410859\\\\\n",
       "\tGasto\\_Educacion &          -16934443874.6218681 &           36985577293.7774963 &           28958860153.4301529 & 739919221026503262248.0000000 &           84410148112.8522186 &          228903537748.2382507 &           -4714822955.7417316 &           53390414714.8257294\\\\\n",
       "\tElectricidad &                   -88.0008680 &                    22.2696002 &                   -18.6680048 &           84410148112.8524628 &                   191.0120071 &                  -216.7321332 &                    -3.3360974 &                    97.0648677\\\\\n",
       "\tTiempo\\_negocio &                   128.3039287 &                    -5.2036368 &                    44.1444608 &          228903537748.2383423 &                  -216.7321332 &                   660.2685294 &                     3.6968412 &                  -104.5702338\\\\\n",
       "\tFertilidad &                     1.4270758 &                    -0.8511007 &                    -0.2910973 &           -4714822955.7417212 &                    -3.3360974 &                     3.6968412 &                     0.1619226 &                    -3.0311077\\\\\n",
       "\tCredito &                   -71.8293266 &                    62.1400339 &                   -12.9410859 &           53390414714.8259811 &                    97.0648677 &                  -104.5702338 &                    -3.0311077 &                   401.9760329\\\\\n",
       "\\end{tabular}\n"
      ],
      "text/markdown": [
       "\n",
       "| <!--/--> | Consumo_final | Homicidios | Desempleo | Gasto_Educacion | Electricidad | Tiempo_negocio | Fertilidad | Credito |\n",
       "|---|---|---|---|---|---|---|---|---|\n",
       "| Consumo_final |                   104.9075504 |                   106.0649028 |                    11.6632375 |          -16934443874.6216240 |                   -88.0008680 |                   128.3039287 |                     1.4270758 |                   -71.8293266 |\n",
       "| Homicidios |                   106.0649028 |                   418.8968154 |                    -2.7189988 |           36985577293.7775650 |                    22.2696002 |                    -5.2036368 |                    -0.8511007 |                    62.1400339 |\n",
       "| Desempleo |                    11.6632375 |                    -2.7189988 |                     9.4717820 |           28958860153.4301720 |                   -18.6680048 |                    44.1444608 |                    -0.2910973 |                   -12.9410859 |\n",
       "| Gasto_Educacion |          -16934443874.6218681 |           36985577293.7774963 |           28958860153.4301529 | 739919221026503262248.0000000 |           84410148112.8522186 |          228903537748.2382507 |           -4714822955.7417316 |           53390414714.8257294 |\n",
       "| Electricidad |                   -88.0008680 |                    22.2696002 |                   -18.6680048 |           84410148112.8524628 |                   191.0120071 |                  -216.7321332 |                    -3.3360974 |                    97.0648677 |\n",
       "| Tiempo_negocio |                   128.3039287 |                    -5.2036368 |                    44.1444608 |          228903537748.2383423 |                  -216.7321332 |                   660.2685294 |                     3.6968412 |                  -104.5702338 |\n",
       "| Fertilidad |                     1.4270758 |                    -0.8511007 |                    -0.2910973 |           -4714822955.7417212 |                    -3.3360974 |                     3.6968412 |                     0.1619226 |                    -3.0311077 |\n",
       "| Credito |                   -71.8293266 |                    62.1400339 |                   -12.9410859 |           53390414714.8259811 |                    97.0648677 |                  -104.5702338 |                    -3.0311077 |                   401.9760329 |\n",
       "\n"
      ],
      "text/plain": [
       "                Consumo_final                 Homicidios                   \n",
       "Consumo_final                     104.9075504                   106.0649028\n",
       "Homicidios                        106.0649028                   418.8968154\n",
       "Desempleo                          11.6632375                    -2.7189988\n",
       "Gasto_Educacion          -16934443874.6218681           36985577293.7774963\n",
       "Electricidad                      -88.0008680                    22.2696002\n",
       "Tiempo_negocio                    128.3039287                    -5.2036368\n",
       "Fertilidad                          1.4270758                    -0.8511007\n",
       "Credito                           -71.8293266                    62.1400339\n",
       "                Desempleo                     Gasto_Educacion              \n",
       "Consumo_final                      11.6632375          -16934443874.6216240\n",
       "Homicidios                         -2.7189988           36985577293.7775650\n",
       "Desempleo                           9.4717820           28958860153.4301720\n",
       "Gasto_Educacion           28958860153.4301529 739919221026503262248.0000000\n",
       "Electricidad                      -18.6680048           84410148112.8524628\n",
       "Tiempo_negocio                     44.1444608          228903537748.2383423\n",
       "Fertilidad                         -0.2910973           -4714822955.7417212\n",
       "Credito                           -12.9410859           53390414714.8259811\n",
       "                Electricidad                  Tiempo_negocio               \n",
       "Consumo_final                     -88.0008680                   128.3039287\n",
       "Homicidios                         22.2696002                    -5.2036368\n",
       "Desempleo                         -18.6680048                    44.1444608\n",
       "Gasto_Educacion           84410148112.8522186          228903537748.2382507\n",
       "Electricidad                      191.0120071                  -216.7321332\n",
       "Tiempo_negocio                   -216.7321332                   660.2685294\n",
       "Fertilidad                         -3.3360974                     3.6968412\n",
       "Credito                            97.0648677                  -104.5702338\n",
       "                Fertilidad                    Credito                      \n",
       "Consumo_final                       1.4270758                   -71.8293266\n",
       "Homicidios                         -0.8511007                    62.1400339\n",
       "Desempleo                          -0.2910973                   -12.9410859\n",
       "Gasto_Educacion           -4714822955.7417316           53390414714.8257294\n",
       "Electricidad                       -3.3360974                    97.0648677\n",
       "Tiempo_negocio                      3.6968412                  -104.5702338\n",
       "Fertilidad                          0.1619226                    -3.0311077\n",
       "Credito                            -3.0311077                   401.9760329"
      ]
     },
     "metadata": {},
     "output_type": "display_data"
    }
   ],
   "source": [
    "format(S, scientific = FALSE)"
   ]
  },
  {
   "cell_type": "code",
   "execution_count": 81,
   "id": "d64dd9dd",
   "metadata": {},
   "outputs": [
    {
     "data": {
      "text/html": [
       "<table>\n",
       "<tbody>\n",
       "\t<tr><th scope=row>Consumo_final</th><td>0.1230184</td></tr>\n",
       "\t<tr><th scope=row>Homicidios</th><td>1.0759138</td></tr>\n",
       "\t<tr><th scope=row>Desempleo</th><td>0.4853874</td></tr>\n",
       "\t<tr><th scope=row>Gasto_Educacion</th><td>2.0575613</td></tr>\n",
       "\t<tr><th scope=row>Electricidad</th><td>0.1483913</td></tr>\n",
       "\t<tr><th scope=row>Tiempo_negocio</th><td>0.8365390</td></tr>\n",
       "\t<tr><th scope=row>Fertilidad</th><td>0.1740216</td></tr>\n",
       "\t<tr><th scope=row>Credito</th><td>0.4663573</td></tr>\n",
       "</tbody>\n",
       "</table>\n"
      ],
      "text/latex": [
       "\\begin{tabular}{r|l}\n",
       "\tConsumo\\_final & 0.1230184\\\\\n",
       "\tHomicidios & 1.0759138\\\\\n",
       "\tDesempleo & 0.4853874\\\\\n",
       "\tGasto\\_Educacion & 2.0575613\\\\\n",
       "\tElectricidad & 0.1483913\\\\\n",
       "\tTiempo\\_negocio & 0.8365390\\\\\n",
       "\tFertilidad & 0.1740216\\\\\n",
       "\tCredito & 0.4663573\\\\\n",
       "\\end{tabular}\n"
      ],
      "text/markdown": [
       "\n",
       "| Consumo_final | 0.1230184 |\n",
       "| Homicidios | 1.0759138 |\n",
       "| Desempleo | 0.4853874 |\n",
       "| Gasto_Educacion | 2.0575613 |\n",
       "| Electricidad | 0.1483913 |\n",
       "| Tiempo_negocio | 0.8365390 |\n",
       "| Fertilidad | 0.1740216 |\n",
       "| Credito | 0.4663573 |\n",
       "\n"
      ],
      "text/plain": [
       "                [,1]     \n",
       "Consumo_final   0.1230184\n",
       "Homicidios      1.0759138\n",
       "Desempleo       0.4853874\n",
       "Gasto_Educacion 2.0575613\n",
       "Electricidad    0.1483913\n",
       "Tiempo_negocio  0.8365390\n",
       "Fertilidad      0.1740216\n",
       "Credito         0.4663573"
      ]
     },
     "metadata": {},
     "output_type": "display_data"
    }
   ],
   "source": [
    "##Coeficiente de variación := [SD(X) / mean(X)]*100\n",
    "sd_X <- sqrt(diag(S))\n",
    "coeficiente_var <- sd_X / promedio\n",
    "cv <- t(coeficiente_var)\n",
    "cv\n",
    "##en terminos porcentuales\n",
    "##cv_porcentaje <- cv*100\n",
    "##cv_porcentaje"
   ]
  },
  {
   "cell_type": "code",
   "execution_count": 79,
   "id": "5a05002e",
   "metadata": {},
   "outputs": [
    {
     "data": {
      "text/html": [
       "<table>\n",
       "<thead><tr><th scope=col>variable</th><th scope=col>cv</th></tr></thead>\n",
       "<tbody>\n",
       "\t<tr><td>Consumo_final </td><td>0.1230184     </td></tr>\n",
       "\t<tr><td>Homicidios    </td><td>1.0759138     </td></tr>\n",
       "\t<tr><td>Desempleo     </td><td>0.4853874     </td></tr>\n",
       "\t<tr><td>Educacion     </td><td>2.0575613     </td></tr>\n",
       "\t<tr><td>Electricidad  </td><td>0.1483913     </td></tr>\n",
       "\t<tr><td>Tiempo_negocio</td><td>0.8365390     </td></tr>\n",
       "\t<tr><td>Fertildad     </td><td>0.1740216     </td></tr>\n",
       "\t<tr><td>Credito       </td><td>0.4663573     </td></tr>\n",
       "</tbody>\n",
       "</table>\n"
      ],
      "text/latex": [
       "\\begin{tabular}{r|ll}\n",
       " variable & cv\\\\\n",
       "\\hline\n",
       "\t Consumo\\_final  & 0.1230184       \\\\\n",
       "\t Homicidios     & 1.0759138     \\\\\n",
       "\t Desempleo      & 0.4853874     \\\\\n",
       "\t Educacion      & 2.0575613     \\\\\n",
       "\t Electricidad   & 0.1483913     \\\\\n",
       "\t Tiempo\\_negocio & 0.8365390       \\\\\n",
       "\t Fertildad      & 0.1740216     \\\\\n",
       "\t Credito        & 0.4663573     \\\\\n",
       "\\end{tabular}\n"
      ],
      "text/markdown": [
       "\n",
       "| variable | cv |\n",
       "|---|---|\n",
       "| Consumo_final  | 0.1230184      |\n",
       "| Homicidios     | 1.0759138      |\n",
       "| Desempleo      | 0.4853874      |\n",
       "| Educacion      | 2.0575613      |\n",
       "| Electricidad   | 0.1483913      |\n",
       "| Tiempo_negocio | 0.8365390      |\n",
       "| Fertildad      | 0.1740216      |\n",
       "| Credito        | 0.4663573      |\n",
       "\n"
      ],
      "text/plain": [
       "  variable       cv       \n",
       "1 Consumo_final  0.1230184\n",
       "2 Homicidios     1.0759138\n",
       "3 Desempleo      0.4853874\n",
       "4 Educacion      2.0575613\n",
       "5 Electricidad   0.1483913\n",
       "6 Tiempo_negocio 0.8365390\n",
       "7 Fertildad      0.1740216\n",
       "8 Credito        0.4663573"
      ]
     },
     "metadata": {},
     "output_type": "display_data"
    }
   ],
   "source": [
    "##Creamos la función de coeficiente de variación\n",
    "coef_var <- function(x, na.rm = FALSE) {\n",
    "  sd(x, na.rm=na.rm) / mean(x, na.rm=na.rm)\n",
    "}\n",
    "\n",
    "coeficiente_variacion <- data.frame(\n",
    "  \"variable\" = as.character(c(\"Consumo_final\",\"Homicidios\",\"Desempleo\",\"Educacion\",\n",
    "                              \"Electricidad\",\"Tiempo_negocio\",\"Fertildad\",\"Credito\")),\n",
    "  \"cv\" = c(coef_var(data$Consumo_final, na.rm=T), \n",
    "           coef_var(data$Homicidios, na.rm=T),\n",
    "           coef_var(data$Desempleo, na.rm=T), \n",
    "           coef_var(data$Gasto_Educacion, na.rm=T),\n",
    "           coef_var(data$Electricidad, na.rm=T),\n",
    "           coef_var(data$Tiempo_negocio,na.rm =T),\n",
    "           coef_var(data$Fertilidad, na.rm=T),\n",
    "           coef_var(data$Credito, na.rm=T))\n",
    "  )\n",
    "coeficiente_variacion"
   ]
  },
  {
   "cell_type": "code",
   "execution_count": 83,
   "id": "46dbd52d",
   "metadata": {},
   "outputs": [
    {
     "data": {
      "text/html": [
       "<table>\n",
       "<tbody>\n",
       "\t<tr><td> 1.00000000 </td><td> 0.505958383</td><td> 0.36999844 </td><td>-0.06078206 </td><td>-0.62166046 </td><td> 0.487501866</td><td> 0.3462501  </td><td>-0.34978271 </td></tr>\n",
       "\t<tr><td> 0.50595838 </td><td> 1.000000000</td><td>-0.04316579 </td><td> 0.06643344 </td><td> 0.07872788 </td><td>-0.009894484</td><td>-0.1033412  </td><td> 0.15143208 </td></tr>\n",
       "\t<tr><td> 0.36999844 </td><td>-0.043165785</td><td> 1.00000000 </td><td> 0.34591824 </td><td>-0.43888599 </td><td> 0.558213159</td><td>-0.2350545  </td><td>-0.20972722 </td></tr>\n",
       "\t<tr><td>-0.06078206 </td><td> 0.066433436</td><td> 0.34591824 </td><td> 1.00000000 </td><td> 0.22452886 </td><td> 0.327491514</td><td>-0.4307443  </td><td> 0.09789738 </td></tr>\n",
       "\t<tr><td>-0.62166046 </td><td> 0.078727880</td><td>-0.43888599 </td><td> 0.22452886 </td><td> 1.00000000 </td><td>-0.610284968</td><td>-0.5998666  </td><td> 0.35029316 </td></tr>\n",
       "\t<tr><td> 0.48750187 </td><td>-0.009894484</td><td> 0.55821316 </td><td> 0.32749151 </td><td>-0.61028497 </td><td> 1.000000000</td><td> 0.3575335  </td><td>-0.20297741 </td></tr>\n",
       "\t<tr><td> 0.34625013 </td><td>-0.103341249</td><td>-0.23505449 </td><td>-0.43074428 </td><td>-0.59986658 </td><td> 0.357533529</td><td> 1.0000000  </td><td>-0.37570551 </td></tr>\n",
       "\t<tr><td>-0.34978271 </td><td> 0.151432076</td><td>-0.20972722 </td><td> 0.09789738 </td><td> 0.35029316 </td><td>-0.202977407</td><td>-0.3757055  </td><td> 1.00000000 </td></tr>\n",
       "</tbody>\n",
       "</table>\n"
      ],
      "text/latex": [
       "\\begin{tabular}{llllllll}\n",
       "\t  1.00000000  &  0.505958383 &  0.36999844  & -0.06078206  & -0.62166046  &  0.487501866 &  0.3462501   & -0.34978271 \\\\\n",
       "\t  0.50595838  &  1.000000000 & -0.04316579  &  0.06643344  &  0.07872788  & -0.009894484 & -0.1033412   &  0.15143208 \\\\\n",
       "\t  0.36999844  & -0.043165785 &  1.00000000  &  0.34591824  & -0.43888599  &  0.558213159 & -0.2350545   & -0.20972722 \\\\\n",
       "\t -0.06078206  &  0.066433436 &  0.34591824  &  1.00000000  &  0.22452886  &  0.327491514 & -0.4307443   &  0.09789738 \\\\\n",
       "\t -0.62166046  &  0.078727880 & -0.43888599  &  0.22452886  &  1.00000000  & -0.610284968 & -0.5998666   &  0.35029316 \\\\\n",
       "\t  0.48750187  & -0.009894484 &  0.55821316  &  0.32749151  & -0.61028497  &  1.000000000 &  0.3575335   & -0.20297741 \\\\\n",
       "\t  0.34625013  & -0.103341249 & -0.23505449  & -0.43074428  & -0.59986658  &  0.357533529 &  1.0000000   & -0.37570551 \\\\\n",
       "\t -0.34978271  &  0.151432076 & -0.20972722  &  0.09789738  &  0.35029316  & -0.202977407 & -0.3757055   &  1.00000000 \\\\\n",
       "\\end{tabular}\n"
      ],
      "text/markdown": [
       "\n",
       "|  1.00000000  |  0.505958383 |  0.36999844  | -0.06078206  | -0.62166046  |  0.487501866 |  0.3462501   | -0.34978271  |\n",
       "|  0.50595838  |  1.000000000 | -0.04316579  |  0.06643344  |  0.07872788  | -0.009894484 | -0.1033412   |  0.15143208  |\n",
       "|  0.36999844  | -0.043165785 |  1.00000000  |  0.34591824  | -0.43888599  |  0.558213159 | -0.2350545   | -0.20972722  |\n",
       "| -0.06078206  |  0.066433436 |  0.34591824  |  1.00000000  |  0.22452886  |  0.327491514 | -0.4307443   |  0.09789738  |\n",
       "| -0.62166046  |  0.078727880 | -0.43888599  |  0.22452886  |  1.00000000  | -0.610284968 | -0.5998666   |  0.35029316  |\n",
       "|  0.48750187  | -0.009894484 |  0.55821316  |  0.32749151  | -0.61028497  |  1.000000000 |  0.3575335   | -0.20297741  |\n",
       "|  0.34625013  | -0.103341249 | -0.23505449  | -0.43074428  | -0.59986658  |  0.357533529 |  1.0000000   | -0.37570551  |\n",
       "| -0.34978271  |  0.151432076 | -0.20972722  |  0.09789738  |  0.35029316  | -0.202977407 | -0.3757055   |  1.00000000  |\n",
       "\n"
      ],
      "text/plain": [
       "     [,1]        [,2]         [,3]        [,4]        [,5]        [,6]        \n",
       "[1,]  1.00000000  0.505958383  0.36999844 -0.06078206 -0.62166046  0.487501866\n",
       "[2,]  0.50595838  1.000000000 -0.04316579  0.06643344  0.07872788 -0.009894484\n",
       "[3,]  0.36999844 -0.043165785  1.00000000  0.34591824 -0.43888599  0.558213159\n",
       "[4,] -0.06078206  0.066433436  0.34591824  1.00000000  0.22452886  0.327491514\n",
       "[5,] -0.62166046  0.078727880 -0.43888599  0.22452886  1.00000000 -0.610284968\n",
       "[6,]  0.48750187 -0.009894484  0.55821316  0.32749151 -0.61028497  1.000000000\n",
       "[7,]  0.34625013 -0.103341249 -0.23505449 -0.43074428 -0.59986658  0.357533529\n",
       "[8,] -0.34978271  0.151432076 -0.20972722  0.09789738  0.35029316 -0.202977407\n",
       "     [,7]       [,8]       \n",
       "[1,]  0.3462501 -0.34978271\n",
       "[2,] -0.1033412  0.15143208\n",
       "[3,] -0.2350545 -0.20972722\n",
       "[4,] -0.4307443  0.09789738\n",
       "[5,] -0.5998666  0.35029316\n",
       "[6,]  0.3575335 -0.20297741\n",
       "[7,]  1.0000000 -0.37570551\n",
       "[8,] -0.3757055  1.00000000"
      ]
     },
     "metadata": {},
     "output_type": "display_data"
    }
   ],
   "source": [
    "##Matriz R (matriz de correlaciones)\n",
    "## R := D^(-1/2) * S * D^(-1/2)\n",
    "D = diag(S) ##Matriz diagonal pero de variancias\n",
    "for(i in 1:C) {\n",
    "  D[i] = D[i] ^ (-1/2)\n",
    "}\n",
    "D = diag(D) ## D gual a D^(-1/2)\n",
    "R = D%*%S%*%D\n",
    "R"
   ]
  },
  {
   "cell_type": "code",
   "execution_count": 85,
   "id": "a5f19f42",
   "metadata": {},
   "outputs": [
    {
     "data": {
      "text/html": [
       "8"
      ],
      "text/latex": [
       "8"
      ],
      "text/markdown": [
       "8"
      ],
      "text/plain": [
       "[1] 8"
      ]
     },
     "metadata": {},
     "output_type": "display_data"
    }
   ],
   "source": [
    "traza_r <- sum(diag(R))\n",
    "traza_r"
   ]
  },
  {
   "cell_type": "code",
   "execution_count": 95,
   "id": "b3805884",
   "metadata": {},
   "outputs": [
    {
     "data": {
      "text/html": [
       "7.39919221026502e+20"
      ],
      "text/latex": [
       "7.39919221026502e+20"
      ],
      "text/markdown": [
       "7.39919221026502e+20"
      ],
      "text/plain": [
       "[1] 7.399192e+20"
      ]
     },
     "metadata": {},
     "output_type": "display_data"
    }
   ],
   "source": [
    "###### ANALISIS PCA : PREGUNTAS 4\n",
    "###### 01. Cálculo de los autovalores con la matriz de variancias - covariancias (ignora la unidad de medida)\n",
    "AV_S <- eigen(S) ## funcion eigen calcula los autovalores y autovectores de una matriz\n",
    "autovalores_s <- AV_S$values\n",
    "round(sum(autovalores_s),2)\n",
    "## cumple la condicion del total de variables :: idea de la variancia"
   ]
  },
  {
   "cell_type": "code",
   "execution_count": 94,
   "id": "293f446e",
   "metadata": {},
   "outputs": [
    {
     "data": {
      "text/html": [
       "<table>\n",
       "<tbody>\n",
       "\t<tr><td>-2.288688e-11</td><td> 0.000000e+00</td><td> 9.996442e-01</td><td> 0.000000e+00</td><td> 0.000000e+00</td><td> 0.000000e+00</td><td> 2.667425e-02</td><td> 0.000000e+00</td></tr>\n",
       "\t<tr><td> 4.998590e-11</td><td>-1.457850e-03</td><td> 1.394674e-02</td><td>-4.360503e-03</td><td>-1.183378e-04</td><td>-1.692357e-05</td><td>-5.226679e-01</td><td>-8.524099e-01</td></tr>\n",
       "\t<tr><td> 3.913787e-11</td><td>-8.836530e-02</td><td> 1.607946e-03</td><td> 1.215141e-01</td><td> 9.656831e-01</td><td> 1.998144e-01</td><td>-6.025937e-02</td><td> 3.636674e-02</td></tr>\n",
       "\t<tr><td> 1.000000e+00</td><td> 1.247034e-10</td><td> 1.867590e-11</td><td> 2.709239e-10</td><td>-5.146852e-11</td><td>-1.998197e-12</td><td> 1.581161e-10</td><td>-3.959688e-11</td></tr>\n",
       "\t<tr><td> 1.140802e-10</td><td> 2.885573e-01</td><td>-1.122782e-02</td><td>-8.056095e-01</td><td> 1.585026e-01</td><td> 2.482347e-02</td><td> 4.207737e-01</td><td>-2.545823e-01</td></tr>\n",
       "\t<tr><td> 3.093629e-10</td><td>-2.856889e-01</td><td> 1.742084e-02</td><td>-5.731200e-01</td><td>-8.122131e-03</td><td>-9.115597e-03</td><td>-6.528635e-01</td><td> 4.040198e-01</td></tr>\n",
       "\t<tr><td>-6.372078e-12</td><td> 1.330628e-02</td><td> 1.720873e-04</td><td>-9.200737e-03</td><td>-2.008428e-01</td><td> 9.794605e-01</td><td>-6.449143e-03</td><td> 3.989950e-03</td></tr>\n",
       "\t<tr><td> 7.215709e-11</td><td>-9.094663e-01</td><td>-9.210830e-03</td><td>-8.750651e-02</td><td>-4.392432e-02</td><td> 5.655584e-03</td><td> 3.451851e-01</td><td>-2.097970e-01</td></tr>\n",
       "</tbody>\n",
       "</table>\n"
      ],
      "text/latex": [
       "\\begin{tabular}{llllllll}\n",
       "\t -2.288688e-11 &  0.000000e+00 &  9.996442e-01 &  0.000000e+00 &  0.000000e+00 &  0.000000e+00 &  2.667425e-02 &  0.000000e+00\\\\\n",
       "\t  4.998590e-11 & -1.457850e-03 &  1.394674e-02 & -4.360503e-03 & -1.183378e-04 & -1.692357e-05 & -5.226679e-01 & -8.524099e-01\\\\\n",
       "\t  3.913787e-11 & -8.836530e-02 &  1.607946e-03 &  1.215141e-01 &  9.656831e-01 &  1.998144e-01 & -6.025937e-02 &  3.636674e-02\\\\\n",
       "\t  1.000000e+00 &  1.247034e-10 &  1.867590e-11 &  2.709239e-10 & -5.146852e-11 & -1.998197e-12 &  1.581161e-10 & -3.959688e-11\\\\\n",
       "\t  1.140802e-10 &  2.885573e-01 & -1.122782e-02 & -8.056095e-01 &  1.585026e-01 &  2.482347e-02 &  4.207737e-01 & -2.545823e-01\\\\\n",
       "\t  3.093629e-10 & -2.856889e-01 &  1.742084e-02 & -5.731200e-01 & -8.122131e-03 & -9.115597e-03 & -6.528635e-01 &  4.040198e-01\\\\\n",
       "\t -6.372078e-12 &  1.330628e-02 &  1.720873e-04 & -9.200737e-03 & -2.008428e-01 &  9.794605e-01 & -6.449143e-03 &  3.989950e-03\\\\\n",
       "\t  7.215709e-11 & -9.094663e-01 & -9.210830e-03 & -8.750651e-02 & -4.392432e-02 &  5.655584e-03 &  3.451851e-01 & -2.097970e-01\\\\\n",
       "\\end{tabular}\n"
      ],
      "text/markdown": [
       "\n",
       "| -2.288688e-11 |  0.000000e+00 |  9.996442e-01 |  0.000000e+00 |  0.000000e+00 |  0.000000e+00 |  2.667425e-02 |  0.000000e+00 |\n",
       "|  4.998590e-11 | -1.457850e-03 |  1.394674e-02 | -4.360503e-03 | -1.183378e-04 | -1.692357e-05 | -5.226679e-01 | -8.524099e-01 |\n",
       "|  3.913787e-11 | -8.836530e-02 |  1.607946e-03 |  1.215141e-01 |  9.656831e-01 |  1.998144e-01 | -6.025937e-02 |  3.636674e-02 |\n",
       "|  1.000000e+00 |  1.247034e-10 |  1.867590e-11 |  2.709239e-10 | -5.146852e-11 | -1.998197e-12 |  1.581161e-10 | -3.959688e-11 |\n",
       "|  1.140802e-10 |  2.885573e-01 | -1.122782e-02 | -8.056095e-01 |  1.585026e-01 |  2.482347e-02 |  4.207737e-01 | -2.545823e-01 |\n",
       "|  3.093629e-10 | -2.856889e-01 |  1.742084e-02 | -5.731200e-01 | -8.122131e-03 | -9.115597e-03 | -6.528635e-01 |  4.040198e-01 |\n",
       "| -6.372078e-12 |  1.330628e-02 |  1.720873e-04 | -9.200737e-03 | -2.008428e-01 |  9.794605e-01 | -6.449143e-03 |  3.989950e-03 |\n",
       "|  7.215709e-11 | -9.094663e-01 | -9.210830e-03 | -8.750651e-02 | -4.392432e-02 |  5.655584e-03 |  3.451851e-01 | -2.097970e-01 |\n",
       "\n"
      ],
      "text/plain": [
       "     [,1]          [,2]          [,3]          [,4]          [,5]         \n",
       "[1,] -2.288688e-11  0.000000e+00  9.996442e-01  0.000000e+00  0.000000e+00\n",
       "[2,]  4.998590e-11 -1.457850e-03  1.394674e-02 -4.360503e-03 -1.183378e-04\n",
       "[3,]  3.913787e-11 -8.836530e-02  1.607946e-03  1.215141e-01  9.656831e-01\n",
       "[4,]  1.000000e+00  1.247034e-10  1.867590e-11  2.709239e-10 -5.146852e-11\n",
       "[5,]  1.140802e-10  2.885573e-01 -1.122782e-02 -8.056095e-01  1.585026e-01\n",
       "[6,]  3.093629e-10 -2.856889e-01  1.742084e-02 -5.731200e-01 -8.122131e-03\n",
       "[7,] -6.372078e-12  1.330628e-02  1.720873e-04 -9.200737e-03 -2.008428e-01\n",
       "[8,]  7.215709e-11 -9.094663e-01 -9.210830e-03 -8.750651e-02 -4.392432e-02\n",
       "     [,6]          [,7]          [,8]         \n",
       "[1,]  0.000000e+00  2.667425e-02  0.000000e+00\n",
       "[2,] -1.692357e-05 -5.226679e-01 -8.524099e-01\n",
       "[3,]  1.998144e-01 -6.025937e-02  3.636674e-02\n",
       "[4,] -1.998197e-12  1.581161e-10 -3.959688e-11\n",
       "[5,]  2.482347e-02  4.207737e-01 -2.545823e-01\n",
       "[6,] -9.115597e-03 -6.528635e-01  4.040198e-01\n",
       "[7,]  9.794605e-01 -6.449143e-03  3.989950e-03\n",
       "[8,]  5.655584e-03  3.451851e-01 -2.097970e-01"
      ]
     },
     "metadata": {},
     "output_type": "display_data"
    }
   ],
   "source": [
    "autovectores_s <- AV_S$vectors\n",
    "autovectores_s"
   ]
  },
  {
   "cell_type": "code",
   "execution_count": 96,
   "id": "763f7ea0",
   "metadata": {},
   "outputs": [
    {
     "data": {
      "text/html": [
       "<table>\n",
       "<tbody>\n",
       "\t<tr><td> 7.399192e+20</td></tr>\n",
       "\t<tr><td> 3.224955e+02</td></tr>\n",
       "\t<tr><td> 1.099762e+02</td></tr>\n",
       "\t<tr><td> 9.020048e+01</td></tr>\n",
       "\t<tr><td> 6.603568e+00</td></tr>\n",
       "\t<tr><td> 1.010929e-01</td></tr>\n",
       "\t<tr><td>-7.558445e+03</td></tr>\n",
       "\t<tr><td>-2.118004e+04</td></tr>\n",
       "</tbody>\n",
       "</table>\n"
      ],
      "text/latex": [
       "\\begin{tabular}{l}\n",
       "\t  7.399192e+20\\\\\n",
       "\t  3.224955e+02\\\\\n",
       "\t  1.099762e+02\\\\\n",
       "\t  9.020048e+01\\\\\n",
       "\t  6.603568e+00\\\\\n",
       "\t  1.010929e-01\\\\\n",
       "\t -7.558445e+03\\\\\n",
       "\t -2.118004e+04\\\\\n",
       "\\end{tabular}\n"
      ],
      "text/markdown": [
       "\n",
       "|  7.399192e+20 |\n",
       "|  3.224955e+02 |\n",
       "|  1.099762e+02 |\n",
       "|  9.020048e+01 |\n",
       "|  6.603568e+00 |\n",
       "|  1.010929e-01 |\n",
       "| -7.558445e+03 |\n",
       "| -2.118004e+04 |\n",
       "\n"
      ],
      "text/plain": [
       "     [,1]         \n",
       "[1,]  7.399192e+20\n",
       "[2,]  3.224955e+02\n",
       "[3,]  1.099762e+02\n",
       "[4,]  9.020048e+01\n",
       "[5,]  6.603568e+00\n",
       "[6,]  1.010929e-01\n",
       "[7,] -7.558445e+03\n",
       "[8,] -2.118004e+04"
      ]
     },
     "metadata": {},
     "output_type": "display_data"
    }
   ],
   "source": [
    "##¿Cuanto explica cada autovalor de la variancia total? (proporción)\n",
    "autov_s <- as.matrix(autovalores_s)\n",
    "autov_s"
   ]
  },
  {
   "cell_type": "code",
   "execution_count": 99,
   "id": "f734ca53",
   "metadata": {},
   "outputs": [
    {
     "data": {
      "text/html": [
       "<table>\n",
       "<tbody>\n",
       "\t<tr><td>92489902628312760320.00</td></tr>\n",
       "\t<tr><td>                  40.31</td></tr>\n",
       "\t<tr><td>                  13.75</td></tr>\n",
       "\t<tr><td>                  11.28</td></tr>\n",
       "\t<tr><td>                   0.83</td></tr>\n",
       "\t<tr><td>                   0.01</td></tr>\n",
       "\t<tr><td>                -944.81</td></tr>\n",
       "\t<tr><td>               -2647.51</td></tr>\n",
       "</tbody>\n",
       "</table>\n"
      ],
      "text/latex": [
       "\\begin{tabular}{l}\n",
       "\t 92489902628312760320.00\\\\\n",
       "\t                   40.31\\\\\n",
       "\t                   13.75\\\\\n",
       "\t                   11.28\\\\\n",
       "\t                    0.83\\\\\n",
       "\t                    0.01\\\\\n",
       "\t                 -944.81\\\\\n",
       "\t                -2647.51\\\\\n",
       "\\end{tabular}\n"
      ],
      "text/markdown": [
       "\n",
       "| 92489902628312760320.00 |\n",
       "|                   40.31 |\n",
       "|                   13.75 |\n",
       "|                   11.28 |\n",
       "|                    0.83 |\n",
       "|                    0.01 |\n",
       "|                 -944.81 |\n",
       "|                -2647.51 |\n",
       "\n"
      ],
      "text/plain": [
       "     [,1]                   \n",
       "[1,] 92489902628312760320.00\n",
       "[2,]                   40.31\n",
       "[3,]                   13.75\n",
       "[4,]                   11.28\n",
       "[5,]                    0.83\n",
       "[6,]                    0.01\n",
       "[7,]                 -944.81\n",
       "[8,]                -2647.51"
      ]
     },
     "metadata": {},
     "output_type": "display_data"
    }
   ],
   "source": [
    "proporcion_s <- round(1/C*autov_s,2)\n",
    "format(proporcion_s, scientific = FALSE)"
   ]
  },
  {
   "cell_type": "code",
   "execution_count": 100,
   "id": "158fff50",
   "metadata": {},
   "outputs": [
    {
     "data": {
      "text/html": [
       "8"
      ],
      "text/latex": [
       "8"
      ],
      "text/markdown": [
       "8"
      ],
      "text/plain": [
       "[1] 8"
      ]
     },
     "metadata": {},
     "output_type": "display_data"
    }
   ],
   "source": [
    "###### 01. Cálculo de los autovalores con la matriz de correlaciones\n",
    "AV_R <- eigen(R) ## funcion eigen calcula los autovalores y autovectores de una matriz\n",
    "autovalores_r <- AV_R$values\n",
    "round(sum(autovalores_r),2)\n",
    "## cumple la condicion del total de variables :: idea de la variancia"
   ]
  },
  {
   "cell_type": "code",
   "execution_count": 101,
   "id": "be019332",
   "metadata": {},
   "outputs": [
    {
     "data": {
      "text/html": [
       "<table>\n",
       "<tbody>\n",
       "\t<tr><td>-0.46010655</td><td> 0.05775022</td><td> 0.44464592</td><td> 0.13735967</td><td>-0.06450839</td><td>-0.31680363</td><td> 0.6584698 </td><td>-0.17401377</td></tr>\n",
       "\t<tr><td>-0.04474770</td><td> 0.15782000</td><td> 0.82144548</td><td> 0.07165460</td><td> 0.10294281</td><td> 0.23726904</td><td>-0.4680243 </td><td> 0.08510477</td></tr>\n",
       "\t<tr><td>-0.31299794</td><td> 0.48537612</td><td>-0.20390571</td><td> 0.15204180</td><td>-0.50083179</td><td> 0.21511296</td><td>-0.2330888 </td><td>-0.50031153</td></tr>\n",
       "\t<tr><td> 0.03281868</td><td> 0.61788294</td><td>-0.12211923</td><td>-0.02318341</td><td> 0.59087495</td><td>-0.47053829</td><td>-0.1406417 </td><td>-0.10664644</td></tr>\n",
       "\t<tr><td> 0.51542609</td><td> 0.11638914</td><td> 0.08184872</td><td> 0.21614222</td><td> 0.28203476</td><td> 0.49040937</td><td> 0.3983945 </td><td>-0.43429222</td></tr>\n",
       "\t<tr><td>-0.44987342</td><td> 0.26149867</td><td>-0.14360475</td><td>-0.38462204</td><td> 0.27198798</td><td> 0.56432700</td><td> 0.2281541 </td><td> 0.34085071</td></tr>\n",
       "\t<tr><td>-0.34567696</td><td>-0.49580117</td><td>-0.02680984</td><td>-0.26619368</td><td> 0.38649288</td><td> 0.03459925</td><td>-0.2285445 </td><td>-0.60025359</td></tr>\n",
       "\t<tr><td> 0.31577226</td><td> 0.16322276</td><td> 0.20733155</td><td>-0.82875395</td><td>-0.28701558</td><td>-0.12448123</td><td> 0.1012680 </td><td>-0.18893911</td></tr>\n",
       "</tbody>\n",
       "</table>\n"
      ],
      "text/latex": [
       "\\begin{tabular}{llllllll}\n",
       "\t -0.46010655 &  0.05775022 &  0.44464592 &  0.13735967 & -0.06450839 & -0.31680363 &  0.6584698  & -0.17401377\\\\\n",
       "\t -0.04474770 &  0.15782000 &  0.82144548 &  0.07165460 &  0.10294281 &  0.23726904 & -0.4680243  &  0.08510477\\\\\n",
       "\t -0.31299794 &  0.48537612 & -0.20390571 &  0.15204180 & -0.50083179 &  0.21511296 & -0.2330888  & -0.50031153\\\\\n",
       "\t  0.03281868 &  0.61788294 & -0.12211923 & -0.02318341 &  0.59087495 & -0.47053829 & -0.1406417  & -0.10664644\\\\\n",
       "\t  0.51542609 &  0.11638914 &  0.08184872 &  0.21614222 &  0.28203476 &  0.49040937 &  0.3983945  & -0.43429222\\\\\n",
       "\t -0.44987342 &  0.26149867 & -0.14360475 & -0.38462204 &  0.27198798 &  0.56432700 &  0.2281541  &  0.34085071\\\\\n",
       "\t -0.34567696 & -0.49580117 & -0.02680984 & -0.26619368 &  0.38649288 &  0.03459925 & -0.2285445  & -0.60025359\\\\\n",
       "\t  0.31577226 &  0.16322276 &  0.20733155 & -0.82875395 & -0.28701558 & -0.12448123 &  0.1012680  & -0.18893911\\\\\n",
       "\\end{tabular}\n"
      ],
      "text/markdown": [
       "\n",
       "| -0.46010655 |  0.05775022 |  0.44464592 |  0.13735967 | -0.06450839 | -0.31680363 |  0.6584698  | -0.17401377 |\n",
       "| -0.04474770 |  0.15782000 |  0.82144548 |  0.07165460 |  0.10294281 |  0.23726904 | -0.4680243  |  0.08510477 |\n",
       "| -0.31299794 |  0.48537612 | -0.20390571 |  0.15204180 | -0.50083179 |  0.21511296 | -0.2330888  | -0.50031153 |\n",
       "|  0.03281868 |  0.61788294 | -0.12211923 | -0.02318341 |  0.59087495 | -0.47053829 | -0.1406417  | -0.10664644 |\n",
       "|  0.51542609 |  0.11638914 |  0.08184872 |  0.21614222 |  0.28203476 |  0.49040937 |  0.3983945  | -0.43429222 |\n",
       "| -0.44987342 |  0.26149867 | -0.14360475 | -0.38462204 |  0.27198798 |  0.56432700 |  0.2281541  |  0.34085071 |\n",
       "| -0.34567696 | -0.49580117 | -0.02680984 | -0.26619368 |  0.38649288 |  0.03459925 | -0.2285445  | -0.60025359 |\n",
       "|  0.31577226 |  0.16322276 |  0.20733155 | -0.82875395 | -0.28701558 | -0.12448123 |  0.1012680  | -0.18893911 |\n",
       "\n"
      ],
      "text/plain": [
       "     [,1]        [,2]        [,3]        [,4]        [,5]        [,6]       \n",
       "[1,] -0.46010655  0.05775022  0.44464592  0.13735967 -0.06450839 -0.31680363\n",
       "[2,] -0.04474770  0.15782000  0.82144548  0.07165460  0.10294281  0.23726904\n",
       "[3,] -0.31299794  0.48537612 -0.20390571  0.15204180 -0.50083179  0.21511296\n",
       "[4,]  0.03281868  0.61788294 -0.12211923 -0.02318341  0.59087495 -0.47053829\n",
       "[5,]  0.51542609  0.11638914  0.08184872  0.21614222  0.28203476  0.49040937\n",
       "[6,] -0.44987342  0.26149867 -0.14360475 -0.38462204  0.27198798  0.56432700\n",
       "[7,] -0.34567696 -0.49580117 -0.02680984 -0.26619368  0.38649288  0.03459925\n",
       "[8,]  0.31577226  0.16322276  0.20733155 -0.82875395 -0.28701558 -0.12448123\n",
       "     [,7]       [,8]       \n",
       "[1,]  0.6584698 -0.17401377\n",
       "[2,] -0.4680243  0.08510477\n",
       "[3,] -0.2330888 -0.50031153\n",
       "[4,] -0.1406417 -0.10664644\n",
       "[5,]  0.3983945 -0.43429222\n",
       "[6,]  0.2281541  0.34085071\n",
       "[7,] -0.2285445 -0.60025359\n",
       "[8,]  0.1012680 -0.18893911"
      ]
     },
     "metadata": {},
     "output_type": "display_data"
    }
   ],
   "source": [
    "autovectores_r <- AV_R$vectors\n",
    "autovectores_r"
   ]
  },
  {
   "cell_type": "code",
   "execution_count": 102,
   "id": "7aff6cb8",
   "metadata": {},
   "outputs": [
    {
     "data": {
      "text/html": [
       "<table>\n",
       "<tbody>\n",
       "\t<tr><td>0.37</td></tr>\n",
       "\t<tr><td>0.23</td></tr>\n",
       "\t<tr><td>0.17</td></tr>\n",
       "\t<tr><td>0.10</td></tr>\n",
       "\t<tr><td>0.08</td></tr>\n",
       "\t<tr><td>0.02</td></tr>\n",
       "\t<tr><td>0.02</td></tr>\n",
       "\t<tr><td>0.01</td></tr>\n",
       "</tbody>\n",
       "</table>\n"
      ],
      "text/latex": [
       "\\begin{tabular}{l}\n",
       "\t 0.37\\\\\n",
       "\t 0.23\\\\\n",
       "\t 0.17\\\\\n",
       "\t 0.10\\\\\n",
       "\t 0.08\\\\\n",
       "\t 0.02\\\\\n",
       "\t 0.02\\\\\n",
       "\t 0.01\\\\\n",
       "\\end{tabular}\n"
      ],
      "text/markdown": [
       "\n",
       "| 0.37 |\n",
       "| 0.23 |\n",
       "| 0.17 |\n",
       "| 0.10 |\n",
       "| 0.08 |\n",
       "| 0.02 |\n",
       "| 0.02 |\n",
       "| 0.01 |\n",
       "\n"
      ],
      "text/plain": [
       "     [,1]\n",
       "[1,] 0.37\n",
       "[2,] 0.23\n",
       "[3,] 0.17\n",
       "[4,] 0.10\n",
       "[5,] 0.08\n",
       "[6,] 0.02\n",
       "[7,] 0.02\n",
       "[8,] 0.01"
      ]
     },
     "metadata": {},
     "output_type": "display_data"
    }
   ],
   "source": [
    "##¿Cuanto explica cada autovalor de la variancia total? (proporción)\n",
    "autov_r <- as.matrix(autovalores_r)\n",
    "proporcion_r <- round(1/C*autov_r,2)\n",
    "proporcion_r"
   ]
  },
  {
   "cell_type": "code",
   "execution_count": 104,
   "id": "3936a653",
   "metadata": {},
   "outputs": [
    {
     "data": {
      "text/html": [
       "TRUE"
      ],
      "text/latex": [
       "TRUE"
      ],
      "text/markdown": [
       "TRUE"
      ],
      "text/plain": [
       "[1] TRUE"
      ]
     },
     "metadata": {},
     "output_type": "display_data"
    },
    {
     "data": {
      "text/html": [
       "0.87"
      ],
      "text/latex": [
       "0.87"
      ],
      "text/markdown": [
       "0.87"
      ],
      "text/plain": [
       "[1] 0.87"
      ]
     },
     "metadata": {},
     "output_type": "display_data"
    }
   ],
   "source": [
    "##Regla :: La suma de los autovalores >= 85% \n",
    "regla <- 0.37+0.23+0.17+0.10\n",
    "regla >= 0.85 ## consistencia de la regla\n",
    "regla\n",
    "##Conclusion: me quedo con los 04 autovalores y 04 autovectores"
   ]
  },
  {
   "cell_type": "code",
   "execution_count": 106,
   "id": "5a4f5be4",
   "metadata": {},
   "outputs": [
    {
     "data": {
      "text/html": [
       "<ol class=list-inline>\n",
       "\t<li>10.2424386964164</li>\n",
       "\t<li>20.4669688870279</li>\n",
       "\t<li>3.07762603740997</li>\n",
       "\t<li>27201456229.8878</li>\n",
       "\t<li>13.8207093564199</li>\n",
       "\t<li>25.6956908724355</li>\n",
       "\t<li>0.402396058921175</li>\n",
       "\t<li>20.0493399608362</li>\n",
       "</ol>\n"
      ],
      "text/latex": [
       "\\begin{enumerate*}\n",
       "\\item 10.2424386964164\n",
       "\\item 20.4669688870279\n",
       "\\item 3.07762603740997\n",
       "\\item 27201456229.8878\n",
       "\\item 13.8207093564199\n",
       "\\item 25.6956908724355\n",
       "\\item 0.402396058921175\n",
       "\\item 20.0493399608362\n",
       "\\end{enumerate*}\n"
      ],
      "text/markdown": [
       "1. 10.2424386964164\n",
       "2. 20.4669688870279\n",
       "3. 3.07762603740997\n",
       "4. 27201456229.8878\n",
       "5. 13.8207093564199\n",
       "6. 25.6956908724355\n",
       "7. 0.402396058921175\n",
       "8. 20.0493399608362\n",
       "\n",
       "\n"
      ],
      "text/plain": [
       "[1] 1.024244e+01 2.046697e+01 3.077626e+00 2.720146e+10 1.382071e+01\n",
       "[6] 2.569569e+01 4.023961e-01 2.004934e+01"
      ]
     },
     "metadata": {},
     "output_type": "display_data"
    }
   ],
   "source": [
    "##Calculo de los componentes principales\n",
    "## Z = (X - iXprom) / desviacion estandar\n",
    "## Z = MoX [Matriz centrada] / desviacion estandar\n",
    "centrada <- Mo%*%X\n",
    "sd = c()\n",
    "for (i in 1:8) {\n",
    " sd[i] = sd(X[,i])\n",
    "}\n",
    "sd"
   ]
  },
  {
   "cell_type": "code",
   "execution_count": 107,
   "id": "d8859b35",
   "metadata": {},
   "outputs": [
    {
     "data": {
      "text/html": [
       "<table>\n",
       "<tbody>\n",
       "\t<tr><td> 0.01142790 </td><td>-0.63465971 </td><td> 0.5294485  </td><td> 0.5277810  </td><td> 0.493394615</td><td>-0.2419342  </td><td>-0.06047110 </td><td>-1.484646523</td></tr>\n",
       "\t<tr><td> 0.30346694 </td><td>-0.62561758 </td><td>-0.9229697  </td><td>-0.4115357  </td><td>-0.096735481</td><td> 0.5558649  </td><td> 1.28397546 </td><td> 0.718983845</td></tr>\n",
       "\t<tr><td> 0.13388969 </td><td> 0.53036368 </td><td> 1.7089290  </td><td> 3.5418063  </td><td> 0.474870490</td><td> 2.0152536  </td><td>-1.40491767 </td><td> 0.956549873</td></tr>\n",
       "\t<tr><td>-0.59366396 </td><td>-0.76522851 </td><td> 0.1297898  </td><td>-0.0304797  </td><td> 0.496577046</td><td>-0.9035237  </td><td>-1.48941154 </td><td> 1.829240716</td></tr>\n",
       "\t<tr><td> 0.03334506 </td><td> 0.32837042 </td><td> 0.7633950  </td><td>-0.1250125  </td><td> 0.380808748</td><td>-0.7673141  </td><td>-1.16634674 </td><td> 0.201685719</td></tr>\n",
       "\t<tr><td>-0.24311354 </td><td>-0.35302507 </td><td> 0.7341517  </td><td>-0.3427160  </td><td> 0.460399453</td><td>-0.3197683  </td><td>-1.30054289 </td><td> 0.740460760</td></tr>\n",
       "\t<tr><td>-0.85201362 </td><td>-0.64412871 </td><td>-0.5655513  </td><td>-0.3442433  </td><td> 0.402515304</td><td> 0.6920745  </td><td> 0.40424518 </td><td>-0.710975743</td></tr>\n",
       "\t<tr><td> 1.62802812 </td><td> 3.12618455 </td><td>-0.6240380  </td><td>-0.4543822  </td><td> 0.207156301</td><td>-0.5532705  </td><td>-0.57985989 </td><td> 0.286577411</td></tr>\n",
       "\t<tr><td> 1.14671620 </td><td> 0.40229843 </td><td>-1.2219014  </td><td>-0.4163379  </td><td>-0.097080277</td><td>-0.1641001  </td><td> 1.64183185 </td><td>-0.391410934</td></tr>\n",
       "\t<tr><td> 2.32719426 </td><td>-0.46609023 </td><td> 2.4432613  </td><td>-0.4786124  </td><td>-3.815792056</td><td> 2.5795505  </td><td> 1.81081959 </td><td>-1.635021773</td></tr>\n",
       "\t<tr><td> 0.75674934 </td><td> 1.78472580 </td><td> 0.1265405  </td><td>-0.4390067  </td><td>-0.111206519</td><td> 0.4391138  </td><td> 0.55583712 </td><td> 0.671303012</td></tr>\n",
       "\t<tr><td>-0.55912330 </td><td> 0.04347616 </td><td>-0.8059964  </td><td> 1.3961541  </td><td> 0.460399453</td><td>-0.8684984  </td><td>-0.31395271 </td><td>-0.852038812</td></tr>\n",
       "\t<tr><td> 0.15520429 </td><td>-0.57834271 </td><td>-0.7929994  </td><td>-0.4669424  </td><td>-0.607332504</td><td>-0.6505630  </td><td> 0.35454290 </td><td>-0.314099765</td></tr>\n",
       "\t<tr><td>-1.98158773 </td><td>-0.43928583 </td><td>-0.9814563  </td><td>-0.4306616  </td><td> 0.002442882</td><td>-0.9618993  </td><td> 0.50116462 </td><td> 1.800992596</td></tr>\n",
       "\t<tr><td>-0.93807412 </td><td>-0.44718513 </td><td>-0.3511003  </td><td>-0.4432531  </td><td> 0.380808748</td><td> 0.1666946  </td><td> 0.41418563 </td><td>-0.082873672</td></tr>\n",
       "\t<tr><td>-0.49719797 </td><td>-0.54474336 </td><td>-0.9619608  </td><td>-0.2660292  </td><td> 0.076916966</td><td> 0.4001968  </td><td>-0.03810508 </td><td>-0.009105673</td></tr>\n",
       "\t<tr><td>-0.24060659 </td><td>-0.17008030 </td><td> 0.3052497  </td><td>-0.4189122  </td><td> 0.416986341</td><td>-0.4754364  </td><td> 0.18555516 </td><td>-0.866032224</td></tr>\n",
       "\t<tr><td>-0.59064098 </td><td>-0.54703191 </td><td> 0.4872081  </td><td>-0.3976165  </td><td> 0.474870490</td><td>-0.9424408  </td><td>-0.79854990 </td><td>-0.859588815</td></tr>\n",
       "</tbody>\n",
       "</table>\n"
      ],
      "text/latex": [
       "\\begin{tabular}{llllllll}\n",
       "\t  0.01142790  & -0.63465971  &  0.5294485   &  0.5277810   &  0.493394615 & -0.2419342   & -0.06047110  & -1.484646523\\\\\n",
       "\t  0.30346694  & -0.62561758  & -0.9229697   & -0.4115357   & -0.096735481 &  0.5558649   &  1.28397546  &  0.718983845\\\\\n",
       "\t  0.13388969  &  0.53036368  &  1.7089290   &  3.5418063   &  0.474870490 &  2.0152536   & -1.40491767  &  0.956549873\\\\\n",
       "\t -0.59366396  & -0.76522851  &  0.1297898   & -0.0304797   &  0.496577046 & -0.9035237   & -1.48941154  &  1.829240716\\\\\n",
       "\t  0.03334506  &  0.32837042  &  0.7633950   & -0.1250125   &  0.380808748 & -0.7673141   & -1.16634674  &  0.201685719\\\\\n",
       "\t -0.24311354  & -0.35302507  &  0.7341517   & -0.3427160   &  0.460399453 & -0.3197683   & -1.30054289  &  0.740460760\\\\\n",
       "\t -0.85201362  & -0.64412871  & -0.5655513   & -0.3442433   &  0.402515304 &  0.6920745   &  0.40424518  & -0.710975743\\\\\n",
       "\t  1.62802812  &  3.12618455  & -0.6240380   & -0.4543822   &  0.207156301 & -0.5532705   & -0.57985989  &  0.286577411\\\\\n",
       "\t  1.14671620  &  0.40229843  & -1.2219014   & -0.4163379   & -0.097080277 & -0.1641001   &  1.64183185  & -0.391410934\\\\\n",
       "\t  2.32719426  & -0.46609023  &  2.4432613   & -0.4786124   & -3.815792056 &  2.5795505   &  1.81081959  & -1.635021773\\\\\n",
       "\t  0.75674934  &  1.78472580  &  0.1265405   & -0.4390067   & -0.111206519 &  0.4391138   &  0.55583712  &  0.671303012\\\\\n",
       "\t -0.55912330  &  0.04347616  & -0.8059964   &  1.3961541   &  0.460399453 & -0.8684984   & -0.31395271  & -0.852038812\\\\\n",
       "\t  0.15520429  & -0.57834271  & -0.7929994   & -0.4669424   & -0.607332504 & -0.6505630   &  0.35454290  & -0.314099765\\\\\n",
       "\t -1.98158773  & -0.43928583  & -0.9814563   & -0.4306616   &  0.002442882 & -0.9618993   &  0.50116462  &  1.800992596\\\\\n",
       "\t -0.93807412  & -0.44718513  & -0.3511003   & -0.4432531   &  0.380808748 &  0.1666946   &  0.41418563  & -0.082873672\\\\\n",
       "\t -0.49719797  & -0.54474336  & -0.9619608   & -0.2660292   &  0.076916966 &  0.4001968   & -0.03810508  & -0.009105673\\\\\n",
       "\t -0.24060659  & -0.17008030  &  0.3052497   & -0.4189122   &  0.416986341 & -0.4754364   &  0.18555516  & -0.866032224\\\\\n",
       "\t -0.59064098  & -0.54703191  &  0.4872081   & -0.3976165   &  0.474870490 & -0.9424408   & -0.79854990  & -0.859588815\\\\\n",
       "\\end{tabular}\n"
      ],
      "text/markdown": [
       "\n",
       "|  0.01142790  | -0.63465971  |  0.5294485   |  0.5277810   |  0.493394615 | -0.2419342   | -0.06047110  | -1.484646523 |\n",
       "|  0.30346694  | -0.62561758  | -0.9229697   | -0.4115357   | -0.096735481 |  0.5558649   |  1.28397546  |  0.718983845 |\n",
       "|  0.13388969  |  0.53036368  |  1.7089290   |  3.5418063   |  0.474870490 |  2.0152536   | -1.40491767  |  0.956549873 |\n",
       "| -0.59366396  | -0.76522851  |  0.1297898   | -0.0304797   |  0.496577046 | -0.9035237   | -1.48941154  |  1.829240716 |\n",
       "|  0.03334506  |  0.32837042  |  0.7633950   | -0.1250125   |  0.380808748 | -0.7673141   | -1.16634674  |  0.201685719 |\n",
       "| -0.24311354  | -0.35302507  |  0.7341517   | -0.3427160   |  0.460399453 | -0.3197683   | -1.30054289  |  0.740460760 |\n",
       "| -0.85201362  | -0.64412871  | -0.5655513   | -0.3442433   |  0.402515304 |  0.6920745   |  0.40424518  | -0.710975743 |\n",
       "|  1.62802812  |  3.12618455  | -0.6240380   | -0.4543822   |  0.207156301 | -0.5532705   | -0.57985989  |  0.286577411 |\n",
       "|  1.14671620  |  0.40229843  | -1.2219014   | -0.4163379   | -0.097080277 | -0.1641001   |  1.64183185  | -0.391410934 |\n",
       "|  2.32719426  | -0.46609023  |  2.4432613   | -0.4786124   | -3.815792056 |  2.5795505   |  1.81081959  | -1.635021773 |\n",
       "|  0.75674934  |  1.78472580  |  0.1265405   | -0.4390067   | -0.111206519 |  0.4391138   |  0.55583712  |  0.671303012 |\n",
       "| -0.55912330  |  0.04347616  | -0.8059964   |  1.3961541   |  0.460399453 | -0.8684984   | -0.31395271  | -0.852038812 |\n",
       "|  0.15520429  | -0.57834271  | -0.7929994   | -0.4669424   | -0.607332504 | -0.6505630   |  0.35454290  | -0.314099765 |\n",
       "| -1.98158773  | -0.43928583  | -0.9814563   | -0.4306616   |  0.002442882 | -0.9618993   |  0.50116462  |  1.800992596 |\n",
       "| -0.93807412  | -0.44718513  | -0.3511003   | -0.4432531   |  0.380808748 |  0.1666946   |  0.41418563  | -0.082873672 |\n",
       "| -0.49719797  | -0.54474336  | -0.9619608   | -0.2660292   |  0.076916966 |  0.4001968   | -0.03810508  | -0.009105673 |\n",
       "| -0.24060659  | -0.17008030  |  0.3052497   | -0.4189122   |  0.416986341 | -0.4754364   |  0.18555516  | -0.866032224 |\n",
       "| -0.59064098  | -0.54703191  |  0.4872081   | -0.3976165   |  0.474870490 | -0.9424408   | -0.79854990  | -0.859588815 |\n",
       "\n"
      ],
      "text/plain": [
       "      [,1]        [,2]        [,3]       [,4]       [,5]         [,6]      \n",
       " [1,]  0.01142790 -0.63465971  0.5294485  0.5277810  0.493394615 -0.2419342\n",
       " [2,]  0.30346694 -0.62561758 -0.9229697 -0.4115357 -0.096735481  0.5558649\n",
       " [3,]  0.13388969  0.53036368  1.7089290  3.5418063  0.474870490  2.0152536\n",
       " [4,] -0.59366396 -0.76522851  0.1297898 -0.0304797  0.496577046 -0.9035237\n",
       " [5,]  0.03334506  0.32837042  0.7633950 -0.1250125  0.380808748 -0.7673141\n",
       " [6,] -0.24311354 -0.35302507  0.7341517 -0.3427160  0.460399453 -0.3197683\n",
       " [7,] -0.85201362 -0.64412871 -0.5655513 -0.3442433  0.402515304  0.6920745\n",
       " [8,]  1.62802812  3.12618455 -0.6240380 -0.4543822  0.207156301 -0.5532705\n",
       " [9,]  1.14671620  0.40229843 -1.2219014 -0.4163379 -0.097080277 -0.1641001\n",
       "[10,]  2.32719426 -0.46609023  2.4432613 -0.4786124 -3.815792056  2.5795505\n",
       "[11,]  0.75674934  1.78472580  0.1265405 -0.4390067 -0.111206519  0.4391138\n",
       "[12,] -0.55912330  0.04347616 -0.8059964  1.3961541  0.460399453 -0.8684984\n",
       "[13,]  0.15520429 -0.57834271 -0.7929994 -0.4669424 -0.607332504 -0.6505630\n",
       "[14,] -1.98158773 -0.43928583 -0.9814563 -0.4306616  0.002442882 -0.9618993\n",
       "[15,] -0.93807412 -0.44718513 -0.3511003 -0.4432531  0.380808748  0.1666946\n",
       "[16,] -0.49719797 -0.54474336 -0.9619608 -0.2660292  0.076916966  0.4001968\n",
       "[17,] -0.24060659 -0.17008030  0.3052497 -0.4189122  0.416986341 -0.4754364\n",
       "[18,] -0.59064098 -0.54703191  0.4872081 -0.3976165  0.474870490 -0.9424408\n",
       "      [,7]        [,8]        \n",
       " [1,] -0.06047110 -1.484646523\n",
       " [2,]  1.28397546  0.718983845\n",
       " [3,] -1.40491767  0.956549873\n",
       " [4,] -1.48941154  1.829240716\n",
       " [5,] -1.16634674  0.201685719\n",
       " [6,] -1.30054289  0.740460760\n",
       " [7,]  0.40424518 -0.710975743\n",
       " [8,] -0.57985989  0.286577411\n",
       " [9,]  1.64183185 -0.391410934\n",
       "[10,]  1.81081959 -1.635021773\n",
       "[11,]  0.55583712  0.671303012\n",
       "[12,] -0.31395271 -0.852038812\n",
       "[13,]  0.35454290 -0.314099765\n",
       "[14,]  0.50116462  1.800992596\n",
       "[15,]  0.41418563 -0.082873672\n",
       "[16,] -0.03810508 -0.009105673\n",
       "[17,]  0.18555516 -0.866032224\n",
       "[18,] -0.79854990 -0.859588815"
      ]
     },
     "metadata": {},
     "output_type": "display_data"
    }
   ],
   "source": [
    "##Simulacion de la matrix X en la cual se reemplaza los valores estandarizados\n",
    "MC = matrix(0,18,8)\n",
    "for (i in 1:8) {\n",
    "  MC[,i] = (1/sd[i])*centrada[,i]\n",
    "}\n",
    "MC ## matriz Z"
   ]
  },
  {
   "cell_type": "code",
   "execution_count": 109,
   "id": "891fa4ad",
   "metadata": {},
   "outputs": [
    {
     "data": {
      "text/html": [
       "<table>\n",
       "<tbody>\n",
       "\t<tr><td>-0.46010655</td><td> 0.05775022</td><td> 0.44464592</td><td> 0.13735967</td></tr>\n",
       "\t<tr><td>-0.04474770</td><td> 0.15782000</td><td> 0.82144548</td><td> 0.07165460</td></tr>\n",
       "\t<tr><td>-0.31299794</td><td> 0.48537612</td><td>-0.20390571</td><td> 0.15204180</td></tr>\n",
       "\t<tr><td> 0.03281868</td><td> 0.61788294</td><td>-0.12211923</td><td>-0.02318341</td></tr>\n",
       "\t<tr><td> 0.51542609</td><td> 0.11638914</td><td> 0.08184872</td><td> 0.21614222</td></tr>\n",
       "\t<tr><td>-0.44987342</td><td> 0.26149867</td><td>-0.14360475</td><td>-0.38462204</td></tr>\n",
       "\t<tr><td>-0.34567696</td><td>-0.49580117</td><td>-0.02680984</td><td>-0.26619368</td></tr>\n",
       "\t<tr><td> 0.31577226</td><td> 0.16322276</td><td> 0.20733155</td><td>-0.82875395</td></tr>\n",
       "</tbody>\n",
       "</table>\n"
      ],
      "text/latex": [
       "\\begin{tabular}{llll}\n",
       "\t -0.46010655 &  0.05775022 &  0.44464592 &  0.13735967\\\\\n",
       "\t -0.04474770 &  0.15782000 &  0.82144548 &  0.07165460\\\\\n",
       "\t -0.31299794 &  0.48537612 & -0.20390571 &  0.15204180\\\\\n",
       "\t  0.03281868 &  0.61788294 & -0.12211923 & -0.02318341\\\\\n",
       "\t  0.51542609 &  0.11638914 &  0.08184872 &  0.21614222\\\\\n",
       "\t -0.44987342 &  0.26149867 & -0.14360475 & -0.38462204\\\\\n",
       "\t -0.34567696 & -0.49580117 & -0.02680984 & -0.26619368\\\\\n",
       "\t  0.31577226 &  0.16322276 &  0.20733155 & -0.82875395\\\\\n",
       "\\end{tabular}\n"
      ],
      "text/markdown": [
       "\n",
       "| -0.46010655 |  0.05775022 |  0.44464592 |  0.13735967 |\n",
       "| -0.04474770 |  0.15782000 |  0.82144548 |  0.07165460 |\n",
       "| -0.31299794 |  0.48537612 | -0.20390571 |  0.15204180 |\n",
       "|  0.03281868 |  0.61788294 | -0.12211923 | -0.02318341 |\n",
       "|  0.51542609 |  0.11638914 |  0.08184872 |  0.21614222 |\n",
       "| -0.44987342 |  0.26149867 | -0.14360475 | -0.38462204 |\n",
       "| -0.34567696 | -0.49580117 | -0.02680984 | -0.26619368 |\n",
       "|  0.31577226 |  0.16322276 |  0.20733155 | -0.82875395 |\n",
       "\n"
      ],
      "text/plain": [
       "     [,1]        [,2]        [,3]        [,4]       \n",
       "[1,] -0.46010655  0.05775022  0.44464592  0.13735967\n",
       "[2,] -0.04474770  0.15782000  0.82144548  0.07165460\n",
       "[3,] -0.31299794  0.48537612 -0.20390571  0.15204180\n",
       "[4,]  0.03281868  0.61788294 -0.12211923 -0.02318341\n",
       "[5,]  0.51542609  0.11638914  0.08184872  0.21614222\n",
       "[6,] -0.44987342  0.26149867 -0.14360475 -0.38462204\n",
       "[7,] -0.34567696 -0.49580117 -0.02680984 -0.26619368\n",
       "[8,]  0.31577226  0.16322276  0.20733155 -0.82875395"
      ]
     },
     "metadata": {},
     "output_type": "display_data"
    }
   ],
   "source": [
    "AVF <- autovectores_r[,1:4]\n",
    "AVF"
   ]
  },
  {
   "cell_type": "code",
   "execution_count": 110,
   "id": "7f101941",
   "metadata": {},
   "outputs": [
    {
     "data": {
      "text/html": [
       "<table>\n",
       "<tbody>\n",
       "\t<tr><td>-0.21001219</td><td> 0.26540035</td><td>-0.9197330 </td><td> 1.47055632</td></tr>\n",
       "\t<tr><td>-0.35298505</td><td>-1.16862106</td><td>-0.1136178 </td><td>-1.30628682</td></tr>\n",
       "\t<tr><td>-0.37813874</td><td> 4.54427559</td><td>-0.3003286 </td><td>-0.85712410</td></tr>\n",
       "\t<tr><td> 2.02066546</td><td> 0.74766301</td><td>-0.3257218 </td><td>-0.78060966</td></tr>\n",
       "\t<tr><td> 0.73525903</td><td> 0.80190591</td><td> 0.3586150 </td><td> 0.66783676</td></tr>\n",
       "\t<tr><td> 0.95116155</td><td> 0.81046430</td><td>-0.2339442 </td><td> 0.01591542</td></tr>\n",
       "\t<tr><td> 0.11843540</td><td>-0.72671519</td><td>-0.9752884 </td><td> 0.06123607</td></tr>\n",
       "\t<tr><td>-0.06193275</td><td> 0.21744771</td><td> 3.6459902 </td><td> 0.53771329</td></tr>\n",
       "\t<tr><td>-0.84417818</td><td>-1.65273637</td><td> 1.0307950 </td><td>-0.06031739</td></tr>\n",
       "\t<tr><td>-6.09982715</td><td> 0.01676490</td><td>-0.8581302 </td><td>-0.27506489</td></tr>\n",
       "\t<tr><td>-0.71708785</td><td> 0.05140457</td><td> 1.8824687 </td><td>-0.63598686</td></tr>\n",
       "\t<tr><td> 1.02089822</td><td> 0.28908060</td><td>-0.2248825 </td><td> 0.99465966</td></tr>\n",
       "\t<tr><td>-0.05475357</td><td>-1.22358896</td><td>-0.2182598 </td><td> 0.15501918</td></tr>\n",
       "\t<tr><td> 2.05391308</td><td>-1.13200523</td><td>-0.4909380 </td><td>-1.69839619</td></tr>\n",
       "\t<tr><td> 0.49891490</td><td>-0.70001114</td><td>-0.6797840 </td><td>-0.22737953</td></tr>\n",
       "\t<tr><td> 0.41540490</td><td>-0.61496286</td><td>-0.4919584 </td><td>-0.36702892</td></tr>\n",
       "\t<tr><td> 0.10022543</td><td>-0.46056291</td><td>-0.3399071 </td><td> 0.95221154</td></tr>\n",
       "\t<tr><td> 0.80403750</td><td>-0.06520322</td><td>-0.7453753 </td><td> 1.35304612</td></tr>\n",
       "</tbody>\n",
       "</table>\n"
      ],
      "text/latex": [
       "\\begin{tabular}{llll}\n",
       "\t -0.21001219 &  0.26540035 & -0.9197330  &  1.47055632\\\\\n",
       "\t -0.35298505 & -1.16862106 & -0.1136178  & -1.30628682\\\\\n",
       "\t -0.37813874 &  4.54427559 & -0.3003286  & -0.85712410\\\\\n",
       "\t  2.02066546 &  0.74766301 & -0.3257218  & -0.78060966\\\\\n",
       "\t  0.73525903 &  0.80190591 &  0.3586150  &  0.66783676\\\\\n",
       "\t  0.95116155 &  0.81046430 & -0.2339442  &  0.01591542\\\\\n",
       "\t  0.11843540 & -0.72671519 & -0.9752884  &  0.06123607\\\\\n",
       "\t -0.06193275 &  0.21744771 &  3.6459902  &  0.53771329\\\\\n",
       "\t -0.84417818 & -1.65273637 &  1.0307950  & -0.06031739\\\\\n",
       "\t -6.09982715 &  0.01676490 & -0.8581302  & -0.27506489\\\\\n",
       "\t -0.71708785 &  0.05140457 &  1.8824687  & -0.63598686\\\\\n",
       "\t  1.02089822 &  0.28908060 & -0.2248825  &  0.99465966\\\\\n",
       "\t -0.05475357 & -1.22358896 & -0.2182598  &  0.15501918\\\\\n",
       "\t  2.05391308 & -1.13200523 & -0.4909380  & -1.69839619\\\\\n",
       "\t  0.49891490 & -0.70001114 & -0.6797840  & -0.22737953\\\\\n",
       "\t  0.41540490 & -0.61496286 & -0.4919584  & -0.36702892\\\\\n",
       "\t  0.10022543 & -0.46056291 & -0.3399071  &  0.95221154\\\\\n",
       "\t  0.80403750 & -0.06520322 & -0.7453753  &  1.35304612\\\\\n",
       "\\end{tabular}\n"
      ],
      "text/markdown": [
       "\n",
       "| -0.21001219 |  0.26540035 | -0.9197330  |  1.47055632 |\n",
       "| -0.35298505 | -1.16862106 | -0.1136178  | -1.30628682 |\n",
       "| -0.37813874 |  4.54427559 | -0.3003286  | -0.85712410 |\n",
       "|  2.02066546 |  0.74766301 | -0.3257218  | -0.78060966 |\n",
       "|  0.73525903 |  0.80190591 |  0.3586150  |  0.66783676 |\n",
       "|  0.95116155 |  0.81046430 | -0.2339442  |  0.01591542 |\n",
       "|  0.11843540 | -0.72671519 | -0.9752884  |  0.06123607 |\n",
       "| -0.06193275 |  0.21744771 |  3.6459902  |  0.53771329 |\n",
       "| -0.84417818 | -1.65273637 |  1.0307950  | -0.06031739 |\n",
       "| -6.09982715 |  0.01676490 | -0.8581302  | -0.27506489 |\n",
       "| -0.71708785 |  0.05140457 |  1.8824687  | -0.63598686 |\n",
       "|  1.02089822 |  0.28908060 | -0.2248825  |  0.99465966 |\n",
       "| -0.05475357 | -1.22358896 | -0.2182598  |  0.15501918 |\n",
       "|  2.05391308 | -1.13200523 | -0.4909380  | -1.69839619 |\n",
       "|  0.49891490 | -0.70001114 | -0.6797840  | -0.22737953 |\n",
       "|  0.41540490 | -0.61496286 | -0.4919584  | -0.36702892 |\n",
       "|  0.10022543 | -0.46056291 | -0.3399071  |  0.95221154 |\n",
       "|  0.80403750 | -0.06520322 | -0.7453753  |  1.35304612 |\n",
       "\n"
      ],
      "text/plain": [
       "      [,1]        [,2]        [,3]       [,4]       \n",
       " [1,] -0.21001219  0.26540035 -0.9197330  1.47055632\n",
       " [2,] -0.35298505 -1.16862106 -0.1136178 -1.30628682\n",
       " [3,] -0.37813874  4.54427559 -0.3003286 -0.85712410\n",
       " [4,]  2.02066546  0.74766301 -0.3257218 -0.78060966\n",
       " [5,]  0.73525903  0.80190591  0.3586150  0.66783676\n",
       " [6,]  0.95116155  0.81046430 -0.2339442  0.01591542\n",
       " [7,]  0.11843540 -0.72671519 -0.9752884  0.06123607\n",
       " [8,] -0.06193275  0.21744771  3.6459902  0.53771329\n",
       " [9,] -0.84417818 -1.65273637  1.0307950 -0.06031739\n",
       "[10,] -6.09982715  0.01676490 -0.8581302 -0.27506489\n",
       "[11,] -0.71708785  0.05140457  1.8824687 -0.63598686\n",
       "[12,]  1.02089822  0.28908060 -0.2248825  0.99465966\n",
       "[13,] -0.05475357 -1.22358896 -0.2182598  0.15501918\n",
       "[14,]  2.05391308 -1.13200523 -0.4909380 -1.69839619\n",
       "[15,]  0.49891490 -0.70001114 -0.6797840 -0.22737953\n",
       "[16,]  0.41540490 -0.61496286 -0.4919584 -0.36702892\n",
       "[17,]  0.10022543 -0.46056291 -0.3399071  0.95221154\n",
       "[18,]  0.80403750 -0.06520322 -0.7453753  1.35304612"
      ]
     },
     "metadata": {},
     "output_type": "display_data"
    }
   ],
   "source": [
    "##Obtención de componentes := Z*AVF\n",
    "componentes <- MC%*%AVF\n",
    "componentes"
   ]
  },
  {
   "cell_type": "code",
   "execution_count": 112,
   "id": "d8d8a380",
   "metadata": {},
   "outputs": [
    {
     "data": {
      "text/html": [
       "<table>\n",
       "<thead><tr><th scope=col>variable</th><th scope=col>c1</th><th scope=col>c2</th><th scope=col>c3</th><th scope=col>c4</th></tr></thead>\n",
       "<tbody>\n",
       "\t<tr><td>Consumo_final </td><td>-0.79406705   </td><td> 0.07823855   </td><td> 0.51199595   </td><td> 0.12130197   </td></tr>\n",
       "\t<tr><td>Homicidios    </td><td>-0.07722706   </td><td> 0.21381057   </td><td> 0.94586892   </td><td> 0.06327799   </td></tr>\n",
       "\t<tr><td>Desempleo     </td><td>-0.54018215   </td><td> 0.65757538   </td><td>-0.23479109   </td><td> 0.13426772   </td></tr>\n",
       "\t<tr><td>Educacion     </td><td> 0.05663956   </td><td> 0.83709230   </td><td>-0.14061650   </td><td>-0.02047321   </td></tr>\n",
       "\t<tr><td>Electricidad  </td><td> 0.88953934   </td><td> 0.15768109   </td><td> 0.09424625   </td><td> 0.19087464   </td></tr>\n",
       "\t<tr><td>Tiempo_negocio</td><td>-0.77640638   </td><td> 0.35427184   </td><td>-0.16535640   </td><td>-0.33965873   </td></tr>\n",
       "\t<tr><td>Fertildad     </td><td>-0.59658069   </td><td>-0.67169899   </td><td>-0.03087070   </td><td>-0.23507495   </td></tr>\n",
       "\t<tr><td>Credito       </td><td> 0.54497018   </td><td> 0.22113010   </td><td> 0.23873583   </td><td>-0.73187047   </td></tr>\n",
       "</tbody>\n",
       "</table>\n"
      ],
      "text/latex": [
       "\\begin{tabular}{r|lllll}\n",
       " variable & c1 & c2 & c3 & c4\\\\\n",
       "\\hline\n",
       "\t Consumo\\_final  & -0.79406705      &  0.07823855      &  0.51199595      &  0.12130197     \\\\\n",
       "\t Homicidios     & -0.07722706    &  0.21381057    &  0.94586892    &  0.06327799   \\\\\n",
       "\t Desempleo      & -0.54018215    &  0.65757538    & -0.23479109    &  0.13426772   \\\\\n",
       "\t Educacion      &  0.05663956    &  0.83709230    & -0.14061650    & -0.02047321   \\\\\n",
       "\t Electricidad   &  0.88953934    &  0.15768109    &  0.09424625    &  0.19087464   \\\\\n",
       "\t Tiempo\\_negocio & -0.77640638      &  0.35427184      & -0.16535640      & -0.33965873     \\\\\n",
       "\t Fertildad      & -0.59658069    & -0.67169899    & -0.03087070    & -0.23507495   \\\\\n",
       "\t Credito        &  0.54497018    &  0.22113010    &  0.23873583    & -0.73187047   \\\\\n",
       "\\end{tabular}\n"
      ],
      "text/markdown": [
       "\n",
       "| variable | c1 | c2 | c3 | c4 |\n",
       "|---|---|---|---|---|\n",
       "| Consumo_final  | -0.79406705    |  0.07823855    |  0.51199595    |  0.12130197    |\n",
       "| Homicidios     | -0.07722706    |  0.21381057    |  0.94586892    |  0.06327799    |\n",
       "| Desempleo      | -0.54018215    |  0.65757538    | -0.23479109    |  0.13426772    |\n",
       "| Educacion      |  0.05663956    |  0.83709230    | -0.14061650    | -0.02047321    |\n",
       "| Electricidad   |  0.88953934    |  0.15768109    |  0.09424625    |  0.19087464    |\n",
       "| Tiempo_negocio | -0.77640638    |  0.35427184    | -0.16535640    | -0.33965873    |\n",
       "| Fertildad      | -0.59658069    | -0.67169899    | -0.03087070    | -0.23507495    |\n",
       "| Credito        |  0.54497018    |  0.22113010    |  0.23873583    | -0.73187047    |\n",
       "\n"
      ],
      "text/plain": [
       "  variable       c1          c2          c3          c4         \n",
       "1 Consumo_final  -0.79406705  0.07823855  0.51199595  0.12130197\n",
       "2 Homicidios     -0.07722706  0.21381057  0.94586892  0.06327799\n",
       "3 Desempleo      -0.54018215  0.65757538 -0.23479109  0.13426772\n",
       "4 Educacion       0.05663956  0.83709230 -0.14061650 -0.02047321\n",
       "5 Electricidad    0.88953934  0.15768109  0.09424625  0.19087464\n",
       "6 Tiempo_negocio -0.77640638  0.35427184 -0.16535640 -0.33965873\n",
       "7 Fertildad      -0.59658069 -0.67169899 -0.03087070 -0.23507495\n",
       "8 Credito         0.54497018  0.22113010  0.23873583 -0.73187047"
      ]
     },
     "metadata": {},
     "output_type": "display_data"
    }
   ],
   "source": [
    "##Pregunta 05\n",
    "com1 <- sqrt(autovalores_r[1])*AVF[,1]\n",
    "com2 <- sqrt(autovalores_r[2])*AVF[,2]\n",
    "com3 <- sqrt(autovalores_r[3])*AVF[,3]\n",
    "com4 <- sqrt(autovalores_r[4])*AVF[,4]\n",
    "\n",
    "matriz_varcomp <- data.frame(\n",
    "\"variable\" = as.character(c(\"Consumo_final\",\"Homicidios\",\"Desempleo\",\"Educacion\",\n",
    "                            \"Electricidad\",\"Tiempo_negocio\",\"Fertildad\",\"Credito\")),\n",
    "\"c1\" = com1,\n",
    "\"c2\" = com2,\n",
    "\"c3\" = com3,\n",
    "\"c4\" = com4\n",
    ")\n",
    "matriz_varcomp"
   ]
  },
  {
   "cell_type": "code",
   "execution_count": 116,
   "id": "339e2a77",
   "metadata": {},
   "outputs": [
    {
     "data": {
      "text/html": [
       "<table>\n",
       "<thead><tr><th scope=col>pais</th><th scope=col>c1</th><th scope=col>c2</th><th scope=col>c3</th><th scope=col>c4</th></tr></thead>\n",
       "<tbody>\n",
       "\t<tr><td>Argentina           </td><td>-0.21001219         </td><td> 0.26540035         </td><td>-0.9197330          </td><td> 1.47055632         </td></tr>\n",
       "\t<tr><td>Bolivia             </td><td>-0.35298505         </td><td>-1.16862106         </td><td>-0.1136178          </td><td>-1.30628682         </td></tr>\n",
       "\t<tr><td>Brasil              </td><td>-0.37813874         </td><td> 4.54427559         </td><td>-0.3003286          </td><td>-0.85712410         </td></tr>\n",
       "\t<tr><td>Chile               </td><td> 2.02066546         </td><td> 0.74766301         </td><td>-0.3257218          </td><td>-0.78060966         </td></tr>\n",
       "\t<tr><td>Colombia            </td><td> 0.73525903         </td><td> 0.80190591         </td><td> 0.3586150          </td><td> 0.66783676         </td></tr>\n",
       "\t<tr><td>Costa_Rica          </td><td> 0.95116155         </td><td> 0.81046430         </td><td>-0.2339442          </td><td> 0.01591542         </td></tr>\n",
       "\t<tr><td>Ecuador             </td><td> 0.11843540         </td><td>-0.72671519         </td><td>-0.9752884          </td><td> 0.06123607         </td></tr>\n",
       "\t<tr><td>El_Salvador         </td><td>-0.06193275         </td><td> 0.21744771         </td><td> 3.6459902          </td><td> 0.53771329         </td></tr>\n",
       "\t<tr><td>Guatemala           </td><td>-0.84417818         </td><td>-1.65273637         </td><td> 1.0307950          </td><td>-0.06031739         </td></tr>\n",
       "\t<tr><td>Haiti               </td><td>-6.09982715         </td><td> 0.01676490         </td><td>-0.8581302          </td><td>-0.27506489         </td></tr>\n",
       "\t<tr><td>Honduras            </td><td>-0.71708785         </td><td> 0.05140457         </td><td> 1.8824687          </td><td>-0.63598686         </td></tr>\n",
       "\t<tr><td>Mexico              </td><td> 1.02089822         </td><td> 0.28908060         </td><td>-0.2248825          </td><td> 0.99465966         </td></tr>\n",
       "\t<tr><td>Nicaragua           </td><td>-0.05475357         </td><td>-1.22358896         </td><td>-0.2182598          </td><td> 0.15501918         </td></tr>\n",
       "\t<tr><td>Panama              </td><td> 2.05391308         </td><td>-1.13200523         </td><td>-0.4909380          </td><td>-1.69839619         </td></tr>\n",
       "\t<tr><td>Paraguay            </td><td> 0.49891490         </td><td>-0.70001114         </td><td>-0.6797840          </td><td>-0.22737953         </td></tr>\n",
       "\t<tr><td>Peru                </td><td> 0.41540490         </td><td>-0.61496286         </td><td>-0.4919584          </td><td>-0.36702892         </td></tr>\n",
       "\t<tr><td>Republica_Dominicana</td><td> 0.10022543         </td><td>-0.46056291         </td><td>-0.3399071          </td><td> 0.95221154         </td></tr>\n",
       "\t<tr><td>Uruguay             </td><td> 0.80403750         </td><td>-0.06520322         </td><td>-0.7453753          </td><td> 1.35304612         </td></tr>\n",
       "</tbody>\n",
       "</table>\n"
      ],
      "text/latex": [
       "\\begin{tabular}{r|lllll}\n",
       " pais & c1 & c2 & c3 & c4\\\\\n",
       "\\hline\n",
       "\t Argentina            & -0.21001219          &  0.26540035          & -0.9197330           &  1.47055632         \\\\\n",
       "\t Bolivia              & -0.35298505          & -1.16862106          & -0.1136178           & -1.30628682         \\\\\n",
       "\t Brasil               & -0.37813874          &  4.54427559          & -0.3003286           & -0.85712410         \\\\\n",
       "\t Chile                &  2.02066546          &  0.74766301          & -0.3257218           & -0.78060966         \\\\\n",
       "\t Colombia             &  0.73525903          &  0.80190591          &  0.3586150           &  0.66783676         \\\\\n",
       "\t Costa\\_Rica           &  0.95116155            &  0.81046430            & -0.2339442             &  0.01591542           \\\\\n",
       "\t Ecuador              &  0.11843540          & -0.72671519          & -0.9752884           &  0.06123607         \\\\\n",
       "\t El\\_Salvador          & -0.06193275            &  0.21744771            &  3.6459902             &  0.53771329           \\\\\n",
       "\t Guatemala            & -0.84417818          & -1.65273637          &  1.0307950           & -0.06031739         \\\\\n",
       "\t Haiti                & -6.09982715          &  0.01676490          & -0.8581302           & -0.27506489         \\\\\n",
       "\t Honduras             & -0.71708785          &  0.05140457          &  1.8824687           & -0.63598686         \\\\\n",
       "\t Mexico               &  1.02089822          &  0.28908060          & -0.2248825           &  0.99465966         \\\\\n",
       "\t Nicaragua            & -0.05475357          & -1.22358896          & -0.2182598           &  0.15501918         \\\\\n",
       "\t Panama               &  2.05391308          & -1.13200523          & -0.4909380           & -1.69839619         \\\\\n",
       "\t Paraguay             &  0.49891490          & -0.70001114          & -0.6797840           & -0.22737953         \\\\\n",
       "\t Peru                 &  0.41540490          & -0.61496286          & -0.4919584           & -0.36702892         \\\\\n",
       "\t Republica\\_Dominicana &  0.10022543            & -0.46056291            & -0.3399071             &  0.95221154           \\\\\n",
       "\t Uruguay              &  0.80403750          & -0.06520322          & -0.7453753           &  1.35304612         \\\\\n",
       "\\end{tabular}\n"
      ],
      "text/markdown": [
       "\n",
       "| pais | c1 | c2 | c3 | c4 |\n",
       "|---|---|---|---|---|\n",
       "| Argentina            | -0.21001219          |  0.26540035          | -0.9197330           |  1.47055632          |\n",
       "| Bolivia              | -0.35298505          | -1.16862106          | -0.1136178           | -1.30628682          |\n",
       "| Brasil               | -0.37813874          |  4.54427559          | -0.3003286           | -0.85712410          |\n",
       "| Chile                |  2.02066546          |  0.74766301          | -0.3257218           | -0.78060966          |\n",
       "| Colombia             |  0.73525903          |  0.80190591          |  0.3586150           |  0.66783676          |\n",
       "| Costa_Rica           |  0.95116155          |  0.81046430          | -0.2339442           |  0.01591542          |\n",
       "| Ecuador              |  0.11843540          | -0.72671519          | -0.9752884           |  0.06123607          |\n",
       "| El_Salvador          | -0.06193275          |  0.21744771          |  3.6459902           |  0.53771329          |\n",
       "| Guatemala            | -0.84417818          | -1.65273637          |  1.0307950           | -0.06031739          |\n",
       "| Haiti                | -6.09982715          |  0.01676490          | -0.8581302           | -0.27506489          |\n",
       "| Honduras             | -0.71708785          |  0.05140457          |  1.8824687           | -0.63598686          |\n",
       "| Mexico               |  1.02089822          |  0.28908060          | -0.2248825           |  0.99465966          |\n",
       "| Nicaragua            | -0.05475357          | -1.22358896          | -0.2182598           |  0.15501918          |\n",
       "| Panama               |  2.05391308          | -1.13200523          | -0.4909380           | -1.69839619          |\n",
       "| Paraguay             |  0.49891490          | -0.70001114          | -0.6797840           | -0.22737953          |\n",
       "| Peru                 |  0.41540490          | -0.61496286          | -0.4919584           | -0.36702892          |\n",
       "| Republica_Dominicana |  0.10022543          | -0.46056291          | -0.3399071           |  0.95221154          |\n",
       "| Uruguay              |  0.80403750          | -0.06520322          | -0.7453753           |  1.35304612          |\n",
       "\n"
      ],
      "text/plain": [
       "   pais                 c1          c2          c3         c4         \n",
       "1  Argentina            -0.21001219  0.26540035 -0.9197330  1.47055632\n",
       "2  Bolivia              -0.35298505 -1.16862106 -0.1136178 -1.30628682\n",
       "3  Brasil               -0.37813874  4.54427559 -0.3003286 -0.85712410\n",
       "4  Chile                 2.02066546  0.74766301 -0.3257218 -0.78060966\n",
       "5  Colombia              0.73525903  0.80190591  0.3586150  0.66783676\n",
       "6  Costa_Rica            0.95116155  0.81046430 -0.2339442  0.01591542\n",
       "7  Ecuador               0.11843540 -0.72671519 -0.9752884  0.06123607\n",
       "8  El_Salvador          -0.06193275  0.21744771  3.6459902  0.53771329\n",
       "9  Guatemala            -0.84417818 -1.65273637  1.0307950 -0.06031739\n",
       "10 Haiti                -6.09982715  0.01676490 -0.8581302 -0.27506489\n",
       "11 Honduras             -0.71708785  0.05140457  1.8824687 -0.63598686\n",
       "12 Mexico                1.02089822  0.28908060 -0.2248825  0.99465966\n",
       "13 Nicaragua            -0.05475357 -1.22358896 -0.2182598  0.15501918\n",
       "14 Panama                2.05391308 -1.13200523 -0.4909380 -1.69839619\n",
       "15 Paraguay              0.49891490 -0.70001114 -0.6797840 -0.22737953\n",
       "16 Peru                  0.41540490 -0.61496286 -0.4919584 -0.36702892\n",
       "17 Republica_Dominicana  0.10022543 -0.46056291 -0.3399071  0.95221154\n",
       "18 Uruguay               0.80403750 -0.06520322 -0.7453753  1.35304612"
      ]
     },
     "metadata": {},
     "output_type": "display_data"
    }
   ],
   "source": [
    "##Pregunta 06\n",
    "c1 <- componentes[,1]\n",
    "c2 <- componentes[,2]\n",
    "c3 <- componentes[,3]\n",
    "c4 <- componentes[,4]\n",
    "\n",
    "matriz_variables <- data.frame(\n",
    "\"pais\" = as.character(c(\"Argentina\", \"Bolivia\", \"Brasil\",\"Chile\",\"Colombia\",\"Costa_Rica\",\"Ecuador\",\"El_Salvador\",\"Guatemala\",\n",
    "\"Haiti\",\"Honduras\",\"Mexico\",\"Nicaragua\",\"Panama\",\"Paraguay\",\"Peru\",\"Republica_Dominicana\",\"Uruguay\")),\n",
    "\"c1\" = c1,\n",
    "\"c2\" = c2,\n",
    "\"c3\" = c3,\n",
    "\"c4\" = c4\n",
    ")\n",
    "matriz_variables\n"
   ]
  }
 ],
 "metadata": {
  "kernelspec": {
   "display_name": "R",
   "language": "R",
   "name": "ir"
  },
  "language_info": {
   "codemirror_mode": "r",
   "file_extension": ".r",
   "mimetype": "text/x-r-source",
   "name": "R",
   "pygments_lexer": "r",
   "version": "3.6.1"
  }
 },
 "nbformat": 4,
 "nbformat_minor": 5
}
